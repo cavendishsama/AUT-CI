{
 "cells": [
  {
   "cell_type": "code",
   "execution_count": 1,
   "id": "15284546",
   "metadata": {},
   "outputs": [],
   "source": [
    "import numpy as np\n",
    "import tensorflow as tf\n",
    "from tensorflow import keras\n",
    "import matplotlib.pyplot as plt\n",
    "import pandas as pd\n",
    "import json\n",
    "from sklearn.model_selection import train_test_split"
   ]
  },
  {
   "cell_type": "code",
   "execution_count": 169,
   "id": "42692847",
   "metadata": {},
   "outputs": [
    {
     "name": "stdout",
     "output_type": "stream",
     "text": [
      "(33485,)\n"
     ]
    },
    {
     "data": {
      "text/plain": [
       "(33485, 100)"
      ]
     },
     "execution_count": 169,
     "metadata": {},
     "output_type": "execute_result"
    }
   ],
   "source": [
    "# # first approach\n",
    "# battery_voltage = []\n",
    "# next_value = []\n",
    "# with open('./assets/B0005_discharge.json', \"r\") as f:\n",
    "#     data = json.load(f)\n",
    "#     for i in data.keys():\n",
    "#         battery_voltage.append(data[f\"{i}\"][\"voltage_battery\"][:100])\n",
    "#         next_value.append(data[f\"{i}\"][\"voltage_battery\"][100])\n",
    "\n",
    "# battery_voltage = np.array(battery_voltage)\n",
    "# next_value = np.array(next_value)\n",
    "\n",
    "# battery_voltage = battery_voltage[...,np.newaxis]\n",
    "\n",
    "# # second approach\n",
    "data1 = pd.read_json('./assets/B0005_discharge.json')\n",
    "lst_bv = [[] for _ in range(len(data1.T))]\n",
    "lst_nv = [[] for _ in range(len(data1.T))]\n",
    "flag = 0\n",
    "window_size = 100\n",
    "for i in data1.loc['voltage_battery']:\n",
    "    for j in range(len(i)-window_size):\n",
    "        lst_bv[flag].append(i[j:(j+window_size)]) \n",
    "        lst_nv[flag].append(i[j+window_size])\n",
    "    flag = flag+1\n",
    "\n",
    "__lst_bv = [e for sl in lst_bv for e in sl]\n",
    "__lst_nv = [i for sl in lst_nv for i in sl]\n",
    "battery_voltage = np.array(__lst_bv)\n",
    "next_value = np.array(__lst_nv)\n",
    "\n",
    "# battery_voltage = battery_voltage[...,np.newaxis]\n",
    "print(next_value.shape)\n",
    "battery_voltage.shape"
   ]
  },
  {
   "cell_type": "code",
   "execution_count": 170,
   "id": "fb70eb2d",
   "metadata": {},
   "outputs": [],
   "source": [
    "train_seq, test_seq, y_train, y_test = train_test_split(battery_voltage, next_value, test_size=0.25)"
   ]
  },
  {
   "cell_type": "code",
   "execution_count": 171,
   "id": "ea7c4842",
   "metadata": {},
   "outputs": [],
   "source": [
    "train_seq = train_seq[...,np.newaxis]\n",
    "# train_seq = train_seq[:,np.newaxis]\n",
    "y_train = y_train[...,np.newaxis]"
   ]
  },
  {
   "cell_type": "code",
   "execution_count": 172,
   "id": "dd47291b",
   "metadata": {},
   "outputs": [
    {
     "name": "stdout",
     "output_type": "stream",
     "text": [
      "[[[3.62852868]\n",
      "  [3.62673349]\n",
      "  [3.62489791]\n",
      "  ...\n",
      "  [3.49344592]\n",
      "  [3.49245352]\n",
      "  [3.49148815]]\n",
      "\n",
      " [[3.62571293]\n",
      "  [3.62293375]\n",
      "  [3.62020793]\n",
      "  ...\n",
      "  [3.44028739]\n",
      "  [3.4388125 ]\n",
      "  [3.43706926]]\n",
      "\n",
      " [[3.73502452]\n",
      "  [3.73091882]\n",
      "  [3.72687213]\n",
      "  ...\n",
      "  [3.4561184 ]\n",
      "  [3.45341784]\n",
      "  [3.4509084 ]]\n",
      "\n",
      " ...\n",
      "\n",
      " [[3.78397249]\n",
      "  [3.7806156 ]\n",
      "  [3.77695837]\n",
      "  ...\n",
      "  [3.50703968]\n",
      "  [3.50462921]\n",
      "  [3.50291536]]\n",
      "\n",
      " [[3.33655726]\n",
      "  [3.33422991]\n",
      "  [3.33172306]\n",
      "  ...\n",
      "  [3.55809554]\n",
      "  [3.56236186]\n",
      "  [3.566488  ]]\n",
      "\n",
      " [[3.7183105 ]\n",
      "  [3.7161408 ]\n",
      "  [3.71373081]\n",
      "  ...\n",
      "  [3.5352282 ]\n",
      "  [3.53413555]\n",
      "  [3.53252923]]]\n",
      "(100, 1)\n",
      "(25113, 1)\n"
     ]
    }
   ],
   "source": [
    "print(train_seq)\n",
    "print(train_seq[0].shape)\n",
    "print(y_train.shape)"
   ]
  },
  {
   "cell_type": "markdown",
   "id": "91420a09",
   "metadata": {},
   "source": [
    "# Model"
   ]
  },
  {
   "cell_type": "code",
   "execution_count": 173,
   "id": "1c456e27",
   "metadata": {},
   "outputs": [],
   "source": [
    "def get_model(input_shape):\n",
    "    \"\"\"\n",
    "    This function should build a Sequential model according to the above specification. Ensure the \n",
    "    weights are initialised by providing the input_shape argument in the first layer, given by the\n",
    "    function argument.\n",
    "    Your function should return the model.\n",
    "    \"\"\"\n",
    "    model = keras.Sequential([\n",
    "#         keras.layers.Conv1D(32, 3, activation='relu', padding='same', input_shape=input_shape),\n",
    "#         keras.layers.LSTM(25, activation=\"tanh\", input_shape=input_shape),\n",
    "        keras.layers.LSTM(25, activation=\"relu\", input_shape=input_shape),\n",
    "        keras.layers.Dense(10)\n",
    "        # SV=1\n",
    "        # SS=5\n",
    "    ])\n",
    "\n",
    "    return model"
   ]
  },
  {
   "cell_type": "code",
   "execution_count": 174,
   "id": "e07ec3fa",
   "metadata": {},
   "outputs": [],
   "source": [
    "# rnn_model = get_model((30, 1))\n",
    "rnn_model = get_model(train_seq[0].shape)"
   ]
  },
  {
   "cell_type": "code",
   "execution_count": 175,
   "id": "dbe374ae",
   "metadata": {},
   "outputs": [
    {
     "name": "stdout",
     "output_type": "stream",
     "text": [
      "Model: \"sequential_7\"\n",
      "_________________________________________________________________\n",
      " Layer (type)                Output Shape              Param #   \n",
      "=================================================================\n",
      " lstm_7 (LSTM)               (None, 25)                2700      \n",
      "                                                                 \n",
      " dense_7 (Dense)             (None, 10)                260       \n",
      "                                                                 \n",
      "=================================================================\n",
      "Total params: 2,960\n",
      "Trainable params: 2,960\n",
      "Non-trainable params: 0\n",
      "_________________________________________________________________\n"
     ]
    }
   ],
   "source": [
    "rnn_model.summary()"
   ]
  },
  {
   "cell_type": "code",
   "execution_count": 176,
   "id": "97560abd",
   "metadata": {},
   "outputs": [],
   "source": [
    "def compile_model(model):\n",
    "    \"\"\"\n",
    "    This function takes in the model returned from your get_model function, and compiles it with an optimiser,\n",
    "    loss function and metric.\n",
    "    Compile the model using the Adam optimiser (with default settings), the cross-entropy loss function and\n",
    "    accuracy as the only metric. \n",
    "    Your function doesn't need to return anything; the model will be compiled in-place.\n",
    "    \"\"\"\n",
    "#     model.compile(optimizer=\"Adam\", loss=\"mse\")\n",
    "#     model.compile(optimizer = 'adam', loss = 'sparse_categorical_crossentropy', metrics = ['accuracy'])\n",
    "#     model.compile(optimizer = 'adam', loss = 'mse', metrics = ['accuracy'])\n",
    "    \n",
    "    model.compile(optimizer = 'adam', loss = 'mse', metrics = ['accuracy','mean_squared_error', 'mean_absolute_error', 'mean_absolute_percentage_error', 'cosine_proximity'])\n",
    "#     model.compile(optimizer = 'adam', loss = 'sparse_categorical_crossentropy', metrics = ['mean_squared_error', 'mean_absolute_error', 'mean_absolute_percentage_error', 'cosine_proximity'])\n",
    "    \n",
    "    return model"
   ]
  },
  {
   "cell_type": "code",
   "execution_count": 177,
   "id": "8dae465d",
   "metadata": {},
   "outputs": [],
   "source": [
    "rnn_model = compile_model(rnn_model)"
   ]
  },
  {
   "cell_type": "markdown",
   "id": "72d88a9c",
   "metadata": {},
   "source": [
    "# Train"
   ]
  },
  {
   "cell_type": "code",
   "execution_count": 178,
   "id": "669a3fd4",
   "metadata": {},
   "outputs": [],
   "source": [
    "def train_model(model, train_seq, train_labels, epochs):\n",
    "    return model.fit(train_seq, train_labels, epochs=epochs)"
   ]
  },
  {
   "cell_type": "code",
   "execution_count": 179,
   "id": "d36482db",
   "metadata": {},
   "outputs": [
    {
     "name": "stdout",
     "output_type": "stream",
     "text": [
      "Epoch 1/5\n",
      "785/785 [==============================] - 16s 19ms/step - loss: 0.9571 - accuracy: 0.0000e+00 - mean_squared_error: 0.9571 - mean_absolute_error: 0.4140 - mean_absolute_percentage_error: 12.2317 - cosine_proximity: 3.0106\n",
      "Epoch 2/5\n",
      "785/785 [==============================] - 15s 19ms/step - loss: 0.0084 - accuracy: 0.0000e+00 - mean_squared_error: 0.0084 - mean_absolute_error: 0.0578 - mean_absolute_percentage_error: 1.7801 - cosine_proximity: 3.1620\n",
      "Epoch 3/5\n",
      "785/785 [==============================] - 14s 18ms/step - loss: 0.0060 - accuracy: 0.0000e+00 - mean_squared_error: 0.0060 - mean_absolute_error: 0.0464 - mean_absolute_percentage_error: 1.4408 - cosine_proximity: 3.1621\n",
      "Epoch 4/5\n",
      "785/785 [==============================] - 15s 19ms/step - loss: 0.0051 - accuracy: 0.0000e+00 - mean_squared_error: 0.0051 - mean_absolute_error: 0.0422 - mean_absolute_percentage_error: 1.3131 - cosine_proximity: 3.1622\n",
      "Epoch 5/5\n",
      "785/785 [==============================] - 15s 19ms/step - loss: 0.0044 - accuracy: 0.0000e+00 - mean_squared_error: 0.0044 - mean_absolute_error: 0.0382 - mean_absolute_percentage_error: 1.1905 - cosine_proximity: 3.1622\n"
     ]
    }
   ],
   "source": [
    "history = train_model(rnn_model, train_seq, y_train, 5)"
   ]
  },
  {
   "cell_type": "code",
   "execution_count": 156,
   "id": "ebe9e15c",
   "metadata": {},
   "outputs": [],
   "source": [
    "frame = pd.DataFrame(history.history)"
   ]
  },
  {
   "cell_type": "code",
   "execution_count": 157,
   "id": "b043e8bd",
   "metadata": {},
   "outputs": [
    {
     "data": {
      "text/plain": [
       "[Text(0.5, 0, 'Epochs'), Text(0, 0.5, 'Loss')]"
      ]
     },
     "execution_count": 157,
     "metadata": {},
     "output_type": "execute_result"
    },
    {
     "data": {
      "image/png": "[encoded data removed]",
      "text/plain": [
       "<Figure size 432x288 with 1 Axes>"
      ]
     },
     "metadata": {
      "needs_background": "light"
     },
     "output_type": "display_data"
    }
   ],
   "source": [
    "acc_plot = frame.plot(y=\"loss\", title=\"Loss vs Epochs\", legend=False)\n",
    "acc_plot.set(xlabel=\"Epochs\", ylabel=\"Loss\")"
   ]
  },
  {
   "cell_type": "code",
   "execution_count": 158,
   "id": "631d7a61",
   "metadata": {},
   "outputs": [
    {
     "data": {
      "text/plain": [
       "[<matplotlib.lines.Line2D at 0x21270be9bb0>]"
      ]
     },
     "execution_count": 158,
     "metadata": {},
     "output_type": "execute_result"
    },
    {
     "data": {
      "image/png": "[encoded data removed]",
      "text/plain": [
       "<Figure size 1080x1080 with 4 Axes>"
      ]
     },
     "metadata": {
      "needs_background": "light"
     },
     "output_type": "display_data"
    }
   ],
   "source": [
    "fig, axs = plt.subplots(2, 2, figsize=(15, 15))\n",
    "plt.subplot(221)\n",
    "plt.plot(history.history['mean_squared_error'])\n",
    "plt.subplot(222)\n",
    "plt.plot(history.history['mean_absolute_error'])\n",
    "plt.subplot(223)\n",
    "plt.plot(history.history['mean_absolute_percentage_error'])\n",
    "plt.subplot(224)\n",
    "plt.plot(history.history['cosine_proximity'])"
   ]
  },
  {
   "cell_type": "markdown",
   "id": "0a9a368c",
   "metadata": {},
   "source": [
    "# Model Evauation"
   ]
  },
  {
   "cell_type": "code",
   "execution_count": 166,
   "id": "4917e3dd",
   "metadata": {},
   "outputs": [],
   "source": [
    "def evaluate_model(model, test_seq, y_test):\n",
    "    \"\"\"\n",
    "    This function should evaluate the model on the scaled_test_images and test_labels. \n",
    "    Your function should return a tuple (test_loss, test_accuracy).\n",
    "    \"\"\"\n",
    "    return model.evaluate(test_seq, y_test)"
   ]
  },
  {
   "cell_type": "code",
   "execution_count": 167,
   "id": "653e4f4f",
   "metadata": {},
   "outputs": [
    {
     "name": "stdout",
     "output_type": "stream",
     "text": [
      "328/328 [==============================] - 2s 4ms/step - loss: 0.0022 - accuracy: 0.0000e+00 - mean_squared_error: 0.0022 - mean_absolute_error: 0.0208 - mean_absolute_percentage_error: 0.6570 - cosine_proximity: 3.1622\n"
     ]
    },
    {
     "data": {
      "text/plain": [
       "[0.002153752837330103,\n",
       " 0.0,\n",
       " 0.002153752837330103,\n",
       " 0.02078521065413952,\n",
       " 0.6569902300834656,\n",
       " 3.1622495651245117]"
      ]
     },
     "execution_count": 167,
     "metadata": {},
     "output_type": "execute_result"
    }
   ],
   "source": [
    "evaluate_model(rnn_model, test_seq, y_test)"
   ]
  },
  {
   "cell_type": "code",
   "execution_count": 168,
   "id": "e6814ff1",
   "metadata": {},
   "outputs": [
    {
     "data": {
      "image/png": "[encoded data removed]",
      "text/plain": [
       "<Figure size 432x288 with 1 Axes>"
      ]
     },
     "metadata": {
      "needs_background": "light"
     },
     "output_type": "display_data"
    }
   ],
   "source": [
    "for n,i in enumerate(data1):\n",
    "#     plt.subplot(168,1,n + 1)\n",
    "    plt.plot(data1[i].loc['time'], data1[i].loc['voltage_battery'])\n",
    "#     ax.plot(plt.plot(data1[i].loc['time'], data1[i].loc['voltage_battery'])\n"
   ]
  },
  {
   "cell_type": "code",
   "execution_count": null,
   "id": "86d79fb5",
   "metadata": {},
   "outputs": [],
   "source": []
  },
  {
   "cell_type": "code",
   "execution_count": null,
   "id": "ac984a98",
   "metadata": {},
   "outputs": [],
   "source": []
  },
  {
   "cell_type": "code",
   "execution_count": null,
   "id": "66a881d3",
   "metadata": {},
   "outputs": [],
   "source": []
  },
  {
   "cell_type": "code",
   "execution_count": null,
   "id": "f1a74bec",
   "metadata": {},
   "outputs": [],
   "source": []
  },
  {
   "cell_type": "code",
   "execution_count": 181,
   "id": "7c47e9de",
   "metadata": {},
   "outputs": [
    {
     "data": {
      "text/html": [
       "<div>\n",
       "<style scoped>\n",
       "    .dataframe tbody tr th:only-of-type {\n",
       "        vertical-align: middle;\n",
       "    }\n",
       "\n",
       "    .dataframe tbody tr th {\n",
       "        vertical-align: top;\n",
       "    }\n",
       "\n",
       "    .dataframe thead th {\n",
       "        text-align: right;\n",
       "    }\n",
       "</style>\n",
       "<table border=\"1\" class=\"dataframe\">\n",
       "  <thead>\n",
       "    <tr style=\"text-align: right;\">\n",
       "      <th></th>\n",
       "      <th>amb_temp</th>\n",
       "      <th>date_time</th>\n",
       "      <th>voltage_battery</th>\n",
       "      <th>current_battery</th>\n",
       "      <th>temp_battery</th>\n",
       "      <th>current_load</th>\n",
       "      <th>voltage_load</th>\n",
       "      <th>time</th>\n",
       "    </tr>\n",
       "  </thead>\n",
       "  <tbody>\n",
       "    <tr>\n",
       "      <th>1</th>\n",
       "      <td>24</td>\n",
       "      <td>02 Apr 2008, 15:25:41</td>\n",
       "      <td>[4.191491807505295, 4.190749067776103, 3.97487...</td>\n",
       "      <td>[-0.004901589207462, -0.0014780055516420002, -...</td>\n",
       "      <td>[24.330033885570543, 24.325993424022467, 24.38...</td>\n",
       "      <td>[-0.0006000000000000001, -0.000600000000000000...</td>\n",
       "      <td>[0.0, 4.206, 3.062, 3.03, 3.011, 2.991, 2.977,...</td>\n",
       "      <td>[0.0, 16.781, 35.702999999999996, 53.781, 71.9...</td>\n",
       "    </tr>\n",
       "    <tr>\n",
       "      <th>3</th>\n",
       "      <td>24</td>\n",
       "      <td>02 Apr 2008, 19:43:48</td>\n",
       "      <td>[4.189773213846608, 4.188881380279099, 3.97915...</td>\n",
       "      <td>[2.1251179810807652e-05, -0.00087947126634, -2...</td>\n",
       "      <td>[24.697751935729325, 24.685948163596, 24.73813...</td>\n",
       "      <td>[-0.0006000000000000001, -0.000600000000000000...</td>\n",
       "      <td>[0.0, 4.204, 3.056, 3.024, 3.003, 2.983, 2.973...</td>\n",
       "      <td>[0.0, 16.672, 35.703, 53.828, 71.891, 90.047, ...</td>\n",
       "    </tr>\n",
       "    <tr>\n",
       "      <th>5</th>\n",
       "      <td>24</td>\n",
       "      <td>03 Apr 2008, 00:01:06</td>\n",
       "      <td>[4.188186735991303, 4.187198338393574, 3.97999...</td>\n",
       "      <td>[-0.0017540301662320001, -0.001791647748693000...</td>\n",
       "      <td>[24.734266163954402, 24.74050014862512, 24.791...</td>\n",
       "      <td>[-0.0006000000000000001, -0.000600000000000000...</td>\n",
       "      <td>[0.0, 4.203, 3.055, 3.023, 3.0, 2.981, 2.96999...</td>\n",
       "      <td>[0.0, 16.796999999999997, 35.766, 53.891, 72.0...</td>\n",
       "    </tr>\n",
       "    <tr>\n",
       "      <th>7</th>\n",
       "      <td>24</td>\n",
       "      <td>03 Apr 2008, 04:16:37</td>\n",
       "      <td>[4.188461118855572, 4.187752210174129, 3.98161...</td>\n",
       "      <td>[-0.002775036129446, 0.00023371270769300003, -...</td>\n",
       "      <td>[24.65423646922845, 24.652243741292516, 24.697...</td>\n",
       "      <td>[-0.0006000000000000001, -0.000600000000000000...</td>\n",
       "      <td>[0.0, 4.203, 3.055, 3.023, 2.999, 2.982, 2.969...</td>\n",
       "      <td>[0.0, 16.766000000000002, 35.75, 53.813, 72.04...</td>\n",
       "    </tr>\n",
       "    <tr>\n",
       "      <th>9</th>\n",
       "      <td>24</td>\n",
       "      <td>03 Apr 2008, 08:33:25</td>\n",
       "      <td>[4.188298524761055, 4.187384730878918, 3.98225...</td>\n",
       "      <td>[-0.007980866803888001, 0.0017014548245030002,...</td>\n",
       "      <td>[24.524796959348127, 24.518700434435164, 24.57...</td>\n",
       "      <td>[-0.0006000000000000001, -0.000600000000000000...</td>\n",
       "      <td>[0.0, 4.203, 3.056, 3.025, 3.0, 2.984, 2.973, ...</td>\n",
       "      <td>[0.0, 16.719, 35.656000000000006, 53.859, 72.0...</td>\n",
       "    </tr>\n",
       "    <tr>\n",
       "      <th>...</th>\n",
       "      <td>...</td>\n",
       "      <td>...</td>\n",
       "      <td>...</td>\n",
       "      <td>...</td>\n",
       "      <td>...</td>\n",
       "      <td>...</td>\n",
       "      <td>...</td>\n",
       "      <td>...</td>\n",
       "    </tr>\n",
       "    <tr>\n",
       "      <th>599</th>\n",
       "      <td>24</td>\n",
       "      <td>26 May 2008, 10:44:38</td>\n",
       "      <td>[4.196640912532072, 4.195891409328115, 3.97041...</td>\n",
       "      <td>[-0.0031723450500130003, -0.001165548113920000...</td>\n",
       "      <td>[23.741424141669572, 23.73611267134457, 23.762...</td>\n",
       "      <td>[0.0006000000000000001, 0.0006000000000000001,...</td>\n",
       "      <td>[0.0, 4.211, 2.944, 2.931, 2.92, 2.906, 2.894,...</td>\n",
       "      <td>[0.0, 9.343, 19.483999999999998, 28.7650000000...</td>\n",
       "    </tr>\n",
       "    <tr>\n",
       "      <th>603</th>\n",
       "      <td>24</td>\n",
       "      <td>26 May 2008, 15:30:43</td>\n",
       "      <td>[4.195623574912322, 4.195225391012888, 3.96944...</td>\n",
       "      <td>[-0.005227006197317001, -0.0018109194843490002...</td>\n",
       "      <td>[23.80397851847974, 23.80026564355092, 23.8387...</td>\n",
       "      <td>[0.0006000000000000001, 0.0006000000000000001,...</td>\n",
       "      <td>[0.0, 4.211, 2.926, 2.93, 2.916, 2.902, 2.8890...</td>\n",
       "      <td>[0.0, 9.359000000000002, 19.562000000000005, 2...</td>\n",
       "    </tr>\n",
       "    <tr>\n",
       "      <th>607</th>\n",
       "      <td>24</td>\n",
       "      <td>26 May 2008, 20:21:04</td>\n",
       "      <td>[4.195862008850563, 4.195180368506587, 3.96948...</td>\n",
       "      <td>[-0.0005545264293170001, 0.001394789927994, -2...</td>\n",
       "      <td>[23.849121770252687, 23.85032548167981, 23.872...</td>\n",
       "      <td>[0.0006000000000000001, 0.0006000000000000001,...</td>\n",
       "      <td>[0.0, 4.211, 2.939, 2.9290000000000003, 2.916,...</td>\n",
       "      <td>[0.0, 9.313000000000002, 19.469, 28.797, 38.14...</td>\n",
       "    </tr>\n",
       "    <tr>\n",
       "      <th>611</th>\n",
       "      <td>24</td>\n",
       "      <td>27 May 2008, 15:52:41</td>\n",
       "      <td>[4.18482689434833, 4.184358228897457, 3.964730...</td>\n",
       "      <td>[-0.0038126960802460003, -0.003553288376752, -...</td>\n",
       "      <td>[24.93410482186201, 24.92195746617458, 24.9390...</td>\n",
       "      <td>[0.0006000000000000001, 0.0006000000000000001,...</td>\n",
       "      <td>[0.0, 4.2, 2.977, 2.947, 2.931, 2.917, 2.90500...</td>\n",
       "      <td>[0.0, 9.375, 19.593999999999998, 28.9839999999...</td>\n",
       "    </tr>\n",
       "    <tr>\n",
       "      <th>613</th>\n",
       "      <td>24</td>\n",
       "      <td>27 May 2008, 20:45:42</td>\n",
       "      <td>[4.201968615940368, 4.200942039471311, 3.98225...</td>\n",
       "      <td>[-0.000856557979434, -0.0011276212441780002, -...</td>\n",
       "      <td>[25.09329713312876, 25.10437816806932, 25.1061...</td>\n",
       "      <td>[0.0006000000000000001, 0.0006000000000000001,...</td>\n",
       "      <td>[0.0, 4.217, 2.936, 2.941, 2.9290000000000003,...</td>\n",
       "      <td>[0.0, 9.328, 19.515, 28.936999999999998, 38.31...</td>\n",
       "    </tr>\n",
       "  </tbody>\n",
       "</table>\n",
       "<p>168 rows × 8 columns</p>\n",
       "</div>"
      ],
      "text/plain": [
       "    amb_temp              date_time  \\\n",
       "1         24  02 Apr 2008, 15:25:41   \n",
       "3         24  02 Apr 2008, 19:43:48   \n",
       "5         24  03 Apr 2008, 00:01:06   \n",
       "7         24  03 Apr 2008, 04:16:37   \n",
       "9         24  03 Apr 2008, 08:33:25   \n",
       "..       ...                    ...   \n",
       "599       24  26 May 2008, 10:44:38   \n",
       "603       24  26 May 2008, 15:30:43   \n",
       "607       24  26 May 2008, 20:21:04   \n",
       "611       24  27 May 2008, 15:52:41   \n",
       "613       24  27 May 2008, 20:45:42   \n",
       "\n",
       "                                       voltage_battery  \\\n",
       "1    [4.191491807505295, 4.190749067776103, 3.97487...   \n",
       "3    [4.189773213846608, 4.188881380279099, 3.97915...   \n",
       "5    [4.188186735991303, 4.187198338393574, 3.97999...   \n",
       "7    [4.188461118855572, 4.187752210174129, 3.98161...   \n",
       "9    [4.188298524761055, 4.187384730878918, 3.98225...   \n",
       "..                                                 ...   \n",
       "599  [4.196640912532072, 4.195891409328115, 3.97041...   \n",
       "603  [4.195623574912322, 4.195225391012888, 3.96944...   \n",
       "607  [4.195862008850563, 4.195180368506587, 3.96948...   \n",
       "611  [4.18482689434833, 4.184358228897457, 3.964730...   \n",
       "613  [4.201968615940368, 4.200942039471311, 3.98225...   \n",
       "\n",
       "                                       current_battery  \\\n",
       "1    [-0.004901589207462, -0.0014780055516420002, -...   \n",
       "3    [2.1251179810807652e-05, -0.00087947126634, -2...   \n",
       "5    [-0.0017540301662320001, -0.001791647748693000...   \n",
       "7    [-0.002775036129446, 0.00023371270769300003, -...   \n",
       "9    [-0.007980866803888001, 0.0017014548245030002,...   \n",
       "..                                                 ...   \n",
       "599  [-0.0031723450500130003, -0.001165548113920000...   \n",
       "603  [-0.005227006197317001, -0.0018109194843490002...   \n",
       "607  [-0.0005545264293170001, 0.001394789927994, -2...   \n",
       "611  [-0.0038126960802460003, -0.003553288376752, -...   \n",
       "613  [-0.000856557979434, -0.0011276212441780002, -...   \n",
       "\n",
       "                                          temp_battery  \\\n",
       "1    [24.330033885570543, 24.325993424022467, 24.38...   \n",
       "3    [24.697751935729325, 24.685948163596, 24.73813...   \n",
       "5    [24.734266163954402, 24.74050014862512, 24.791...   \n",
       "7    [24.65423646922845, 24.652243741292516, 24.697...   \n",
       "9    [24.524796959348127, 24.518700434435164, 24.57...   \n",
       "..                                                 ...   \n",
       "599  [23.741424141669572, 23.73611267134457, 23.762...   \n",
       "603  [23.80397851847974, 23.80026564355092, 23.8387...   \n",
       "607  [23.849121770252687, 23.85032548167981, 23.872...   \n",
       "611  [24.93410482186201, 24.92195746617458, 24.9390...   \n",
       "613  [25.09329713312876, 25.10437816806932, 25.1061...   \n",
       "\n",
       "                                          current_load  \\\n",
       "1    [-0.0006000000000000001, -0.000600000000000000...   \n",
       "3    [-0.0006000000000000001, -0.000600000000000000...   \n",
       "5    [-0.0006000000000000001, -0.000600000000000000...   \n",
       "7    [-0.0006000000000000001, -0.000600000000000000...   \n",
       "9    [-0.0006000000000000001, -0.000600000000000000...   \n",
       "..                                                 ...   \n",
       "599  [0.0006000000000000001, 0.0006000000000000001,...   \n",
       "603  [0.0006000000000000001, 0.0006000000000000001,...   \n",
       "607  [0.0006000000000000001, 0.0006000000000000001,...   \n",
       "611  [0.0006000000000000001, 0.0006000000000000001,...   \n",
       "613  [0.0006000000000000001, 0.0006000000000000001,...   \n",
       "\n",
       "                                          voltage_load  \\\n",
       "1    [0.0, 4.206, 3.062, 3.03, 3.011, 2.991, 2.977,...   \n",
       "3    [0.0, 4.204, 3.056, 3.024, 3.003, 2.983, 2.973...   \n",
       "5    [0.0, 4.203, 3.055, 3.023, 3.0, 2.981, 2.96999...   \n",
       "7    [0.0, 4.203, 3.055, 3.023, 2.999, 2.982, 2.969...   \n",
       "9    [0.0, 4.203, 3.056, 3.025, 3.0, 2.984, 2.973, ...   \n",
       "..                                                 ...   \n",
       "599  [0.0, 4.211, 2.944, 2.931, 2.92, 2.906, 2.894,...   \n",
       "603  [0.0, 4.211, 2.926, 2.93, 2.916, 2.902, 2.8890...   \n",
       "607  [0.0, 4.211, 2.939, 2.9290000000000003, 2.916,...   \n",
       "611  [0.0, 4.2, 2.977, 2.947, 2.931, 2.917, 2.90500...   \n",
       "613  [0.0, 4.217, 2.936, 2.941, 2.9290000000000003,...   \n",
       "\n",
       "                                                  time  \n",
       "1    [0.0, 16.781, 35.702999999999996, 53.781, 71.9...  \n",
       "3    [0.0, 16.672, 35.703, 53.828, 71.891, 90.047, ...  \n",
       "5    [0.0, 16.796999999999997, 35.766, 53.891, 72.0...  \n",
       "7    [0.0, 16.766000000000002, 35.75, 53.813, 72.04...  \n",
       "9    [0.0, 16.719, 35.656000000000006, 53.859, 72.0...  \n",
       "..                                                 ...  \n",
       "599  [0.0, 9.343, 19.483999999999998, 28.7650000000...  \n",
       "603  [0.0, 9.359000000000002, 19.562000000000005, 2...  \n",
       "607  [0.0, 9.313000000000002, 19.469, 28.797, 38.14...  \n",
       "611  [0.0, 9.375, 19.593999999999998, 28.9839999999...  \n",
       "613  [0.0, 9.328, 19.515, 28.936999999999998, 38.31...  \n",
       "\n",
       "[168 rows x 8 columns]"
      ]
     },
     "execution_count": 181,
     "metadata": {},
     "output_type": "execute_result"
    }
   ],
   "source": [
    "data1.T"
   ]
  },
  {
   "cell_type": "code",
   "execution_count": null,
   "id": "5da9e4f1",
   "metadata": {},
   "outputs": [],
   "source": []
  }
 ],
 "metadata": {
  "kernelspec": {
   "display_name": "Python 3 (ipykernel)",
   "language": "python",
   "name": "python3"
  },
  "language_info": {
   "codemirror_mode": {
    "name": "ipython",
    "version": 3
   },
   "file_extension": ".py",
   "mimetype": "text/x-python",
   "name": "python",
   "nbconvert_exporter": "python",
   "pygments_lexer": "ipython3",
   "version": "3.9.6"
  }
 },
 "nbformat": 4,
 "nbformat_minor": 5
}
