{
 "cells": [
  {
   "cell_type": "markdown",
   "metadata": {
    "id": "UgwO3T3agMdY"
   },
   "source": [
    "# Comutational Intelligence Lab - Session No. 6\n",
    "## \n",
    "----"
   ]
  },
  {
   "cell_type": "markdown",
   "metadata": {
    "id": "7PCtKL7Ugtth"
   },
   "source": [
    "# Packages\n",
    "---"
   ]
  },
  {
   "cell_type": "code",
   "execution_count": 1,
   "metadata": {
    "id": "fsyQ99OsYnOY"
   },
   "outputs": [],
   "source": [
    "import numpy as np\n",
    "import tensorflow as tf\n",
    "from tensorflow import keras\n",
    "import matplotlib.pyplot as plt\n",
    "import pandas as pd\n",
    "import json\n",
    "from sklearn.model_selection import train_test_split"
   ]
  },
  {
   "cell_type": "markdown",
   "metadata": {
    "id": "mkNIjQ6Xgx5g"
   },
   "source": [
    "# Dataset Loading\n",
    "---"
   ]
  },
  {
   "cell_type": "code",
   "execution_count": 2,
   "metadata": {
    "id": "0RElNVq6yAyg"
   },
   "outputs": [
    {
     "ename": "FileNotFoundError",
     "evalue": "[Errno 2] No such file or directory: 'data.json'",
     "output_type": "error",
     "traceback": [
      "\u001b[1;31m---------------------------------------------------------------------------\u001b[0m",
      "\u001b[1;31mFileNotFoundError\u001b[0m                         Traceback (most recent call last)",
      "\u001b[1;32m<ipython-input-2-3cb0843115ff>\u001b[0m in \u001b[0;36m<module>\u001b[1;34m\u001b[0m\n\u001b[0;32m      1\u001b[0m \u001b[0mbattery_voltage\u001b[0m \u001b[1;33m=\u001b[0m \u001b[1;33m[\u001b[0m\u001b[1;33m]\u001b[0m\u001b[1;33m\u001b[0m\u001b[1;33m\u001b[0m\u001b[0m\n\u001b[0;32m      2\u001b[0m \u001b[0mnext_value\u001b[0m \u001b[1;33m=\u001b[0m \u001b[1;33m[\u001b[0m\u001b[1;33m]\u001b[0m\u001b[1;33m\u001b[0m\u001b[1;33m\u001b[0m\u001b[0m\n\u001b[1;32m----> 3\u001b[1;33m \u001b[1;32mwith\u001b[0m \u001b[0mopen\u001b[0m\u001b[1;33m(\u001b[0m\u001b[1;34m\"data.json\"\u001b[0m\u001b[1;33m,\u001b[0m \u001b[1;34m\"r\"\u001b[0m\u001b[1;33m)\u001b[0m \u001b[1;32mas\u001b[0m \u001b[0mf\u001b[0m\u001b[1;33m:\u001b[0m\u001b[1;33m\u001b[0m\u001b[1;33m\u001b[0m\u001b[0m\n\u001b[0m\u001b[0;32m      4\u001b[0m     \u001b[0mdata\u001b[0m \u001b[1;33m=\u001b[0m \u001b[0mjson\u001b[0m\u001b[1;33m.\u001b[0m\u001b[0mload\u001b[0m\u001b[1;33m(\u001b[0m\u001b[0mf\u001b[0m\u001b[1;33m)\u001b[0m\u001b[1;33m\u001b[0m\u001b[1;33m\u001b[0m\u001b[0m\n\u001b[0;32m      5\u001b[0m     \u001b[1;32mfor\u001b[0m \u001b[0mi\u001b[0m \u001b[1;32min\u001b[0m \u001b[0mdata\u001b[0m\u001b[1;33m.\u001b[0m\u001b[0mkeys\u001b[0m\u001b[1;33m(\u001b[0m\u001b[1;33m)\u001b[0m\u001b[1;33m:\u001b[0m\u001b[1;33m\u001b[0m\u001b[1;33m\u001b[0m\u001b[0m\n",
      "\u001b[1;31mFileNotFoundError\u001b[0m: [Errno 2] No such file or directory: 'data.json'"
     ]
    }
   ],
   "source": [
    "battery_voltage = []\n",
    "next_value = []\n",
    "with open(\"data.json\", \"r\") as f:\n",
    "    data = json.load(f)\n",
    "    for i in data.keys():\n",
    "        battery_voltage.append(data[f\"{i}\"][\"voltage_battery\"][:100])\n",
    "        next_value.append(data[f\"{i}\"][\"voltage_battery\"][100])\n",
    "\n",
    "battery_voltage = np.array(battery_voltage)\n",
    "next_value = np.array(next_value)\n",
    "\n",
    "battery_voltage = battery_voltage[...,np.newaxis]"
   ]
  },
  {
   "cell_type": "code",
   "execution_count": 70,
   "metadata": {
    "id": "PmfNvwS93CFZ"
   },
   "outputs": [],
   "source": [
    "train_seq, test_seq, y_train, y_test = train_test_split(battery_voltage, next_value, test_size=0.25)"
   ]
  },
  {
   "cell_type": "markdown",
   "metadata": {
    "id": "6AlgFa6HhEZd"
   },
   "source": [
    "# Model \n",
    "---"
   ]
  },
  {
   "cell_type": "code",
   "execution_count": 71,
   "metadata": {
    "id": "lzOtoliYZjqV"
   },
   "outputs": [],
   "source": [
    "def get_model(input_shape):\n",
    "    \"\"\"\n",
    "    This function should build a Sequential model according to the above specification. Ensure the \n",
    "    weights are initialised by providing the input_shape argument in the first layer, given by the\n",
    "    function argument.\n",
    "    Your function should return the model.\n",
    "    \"\"\"\n",
    "    model = keras.Sequential([\n",
    "        keras.layers.LSTM(25, activation=\"relu\", input_shape=input_shape),\n",
    "        keras.layers.Dense(10)\n",
    "        # SV=1\n",
    "        # SS=5\n",
    "    ])\n",
    "\n",
    "    return model"
   ]
  },
  {
   "cell_type": "code",
   "execution_count": 72,
   "metadata": {
    "colab": {
     "base_uri": "https://localhost:8080/"
    },
    "id": "BEvXnm3gZ0p0",
    "outputId": "ecf03822-9264-42c1-f7be-99ae0c06f578"
   },
   "outputs": [
    {
     "name": "stderr",
     "output_type": "stream",
     "text": [
      "WARNING:tensorflow:Layer lstm_11 will not use cuDNN kernels since it doesn't meet the criteria. It will use a generic GPU kernel as fallback when running on GPU.\n"
     ]
    }
   ],
   "source": [
    "rnn_model = get_model((100, 1))"
   ]
  },
  {
   "cell_type": "code",
   "execution_count": 73,
   "metadata": {
    "colab": {
     "base_uri": "https://localhost:8080/"
    },
    "id": "6YqaMtDTZ5GX",
    "outputId": "a234ebef-aa7e-41a0-cf74-9cf04a3086fd"
   },
   "outputs": [
    {
     "name": "stdout",
     "output_type": "stream",
     "text": [
      "Model: \"sequential_9\"\n",
      "_________________________________________________________________\n",
      " Layer (type)                Output Shape              Param #   \n",
      "=================================================================\n",
      " lstm_11 (LSTM)              (None, 25)                2700      \n",
      "                                                                 \n",
      " dense_9 (Dense)             (None, 10)                260       \n",
      "                                                                 \n",
      "=================================================================\n",
      "Total params: 2,960\n",
      "Trainable params: 2,960\n",
      "Non-trainable params: 0\n",
      "_________________________________________________________________\n"
     ]
    }
   ],
   "source": [
    "rnn_model.summary()"
   ]
  },
  {
   "cell_type": "code",
   "execution_count": 74,
   "metadata": {
    "id": "7iZUSlJ6aDxC"
   },
   "outputs": [],
   "source": [
    "def compile_model(model):\n",
    "    \"\"\"\n",
    "    This function takes in the model returned from your get_model function, and compiles it with an optimiser,\n",
    "    loss function and metric.\n",
    "    Compile the model using the Adam optimiser (with default settings), the cross-entropy loss function and\n",
    "    accuracy as the only metric. \n",
    "    Your function doesn't need to return anything; the model will be compiled in-place.\n",
    "    \"\"\"\n",
    "    model.compile(optimizer=\"Adam\", loss=\"mse\")\n",
    "    return model"
   ]
  },
  {
   "cell_type": "code",
   "execution_count": 80,
   "metadata": {
    "id": "ghUMNGDPaHuI"
   },
   "outputs": [],
   "source": [
    "rnn_model = compile_model(rnn_model)"
   ]
  },
  {
   "cell_type": "markdown",
   "metadata": {
    "id": "eJrZOwfnhktW"
   },
   "source": [
    "# Training\n",
    "---"
   ]
  },
  {
   "cell_type": "code",
   "execution_count": 81,
   "metadata": {
    "id": "TSI7TM29aTEx"
   },
   "outputs": [],
   "source": [
    "def train_model(model, train_seq, train_labels, epochs):\n",
    "    return model.fit(train_seq, train_labels, epochs=epochs)"
   ]
  },
  {
   "cell_type": "code",
   "execution_count": 82,
   "metadata": {
    "colab": {
     "base_uri": "https://localhost:8080/"
    },
    "id": "GfmWO-NnaXNR",
    "outputId": "b0363177-edec-4f55-96ae-c9fe74f3c687"
   },
   "outputs": [
    {
     "name": "stdout",
     "output_type": "stream",
     "text": [
      "Epoch 1/40\n",
      "4/4 [==============================] - 1s 138ms/step - loss: 6.4864\n",
      "Epoch 2/40\n",
      "4/4 [==============================] - 1s 132ms/step - loss: 566.3480\n",
      "Epoch 3/40\n",
      "4/4 [==============================] - 1s 132ms/step - loss: 4.6723\n",
      "Epoch 4/40\n",
      "4/4 [==============================] - 1s 134ms/step - loss: 5.0035\n",
      "Epoch 5/40\n",
      "4/4 [==============================] - 1s 125ms/step - loss: 5.1178\n",
      "Epoch 6/40\n",
      "4/4 [==============================] - 1s 137ms/step - loss: 5.1685\n",
      "Epoch 7/40\n",
      "4/4 [==============================] - 1s 133ms/step - loss: 5.1780\n",
      "Epoch 8/40\n",
      "4/4 [==============================] - 1s 136ms/step - loss: 5.1622\n",
      "Epoch 9/40\n",
      "4/4 [==============================] - 0s 124ms/step - loss: 5.1302\n",
      "Epoch 10/40\n",
      "4/4 [==============================] - 1s 135ms/step - loss: 5.0878\n",
      "Epoch 11/40\n",
      "4/4 [==============================] - 1s 135ms/step - loss: 5.0386\n",
      "Epoch 12/40\n",
      "4/4 [==============================] - 1s 149ms/step - loss: 4.9850\n",
      "Epoch 13/40\n",
      "4/4 [==============================] - 1s 140ms/step - loss: 4.9287\n",
      "Epoch 14/40\n",
      "4/4 [==============================] - 1s 135ms/step - loss: 4.8706\n",
      "Epoch 15/40\n",
      "4/4 [==============================] - 1s 135ms/step - loss: 4.8116\n",
      "Epoch 16/40\n",
      "4/4 [==============================] - 1s 145ms/step - loss: 4.7527\n",
      "Epoch 17/40\n",
      "4/4 [==============================] - 1s 138ms/step - loss: 4.6948\n",
      "Epoch 18/40\n",
      "4/4 [==============================] - 1s 149ms/step - loss: 4.6369\n",
      "Epoch 19/40\n",
      "4/4 [==============================] - 1s 134ms/step - loss: 4.5791\n",
      "Epoch 20/40\n",
      "4/4 [==============================] - 1s 143ms/step - loss: 4.5215\n",
      "Epoch 21/40\n",
      "4/4 [==============================] - 1s 156ms/step - loss: 4.4640\n",
      "Epoch 22/40\n",
      "4/4 [==============================] - 1s 144ms/step - loss: 4.4071\n",
      "Epoch 23/40\n",
      "4/4 [==============================] - 1s 128ms/step - loss: 4.3504\n",
      "Epoch 24/40\n",
      "4/4 [==============================] - 1s 149ms/step - loss: 4.2942\n",
      "Epoch 25/40\n",
      "4/4 [==============================] - 1s 129ms/step - loss: 4.2383\n",
      "Epoch 26/40\n",
      "4/4 [==============================] - 1s 133ms/step - loss: 4.1828\n",
      "Epoch 27/40\n",
      "4/4 [==============================] - 1s 131ms/step - loss: 4.1279\n",
      "Epoch 28/40\n",
      "4/4 [==============================] - 1s 145ms/step - loss: 4.0733\n",
      "Epoch 29/40\n",
      "4/4 [==============================] - 1s 134ms/step - loss: 4.0192\n",
      "Epoch 30/40\n",
      "4/4 [==============================] - 1s 136ms/step - loss: 3.9655\n",
      "Epoch 31/40\n",
      "4/4 [==============================] - 1s 131ms/step - loss: 3.9124\n",
      "Epoch 32/40\n",
      "4/4 [==============================] - 1s 139ms/step - loss: 3.8596\n",
      "Epoch 33/40\n",
      "4/4 [==============================] - 1s 149ms/step - loss: 3.8074\n",
      "Epoch 34/40\n",
      "4/4 [==============================] - 0s 122ms/step - loss: 3.7555\n",
      "Epoch 35/40\n",
      "4/4 [==============================] - 1s 140ms/step - loss: 3.7042\n",
      "Epoch 36/40\n",
      "4/4 [==============================] - 1s 129ms/step - loss: 3.6534\n",
      "Epoch 37/40\n",
      "4/4 [==============================] - 1s 133ms/step - loss: 3.6030\n",
      "Epoch 38/40\n",
      "4/4 [==============================] - 1s 134ms/step - loss: 3.5531\n",
      "Epoch 39/40\n",
      "4/4 [==============================] - 1s 131ms/step - loss: 3.5037\n",
      "Epoch 40/40\n",
      "4/4 [==============================] - 1s 122ms/step - loss: 3.4548\n"
     ]
    }
   ],
   "source": [
    "history = train_model(rnn_model, train_seq, y_train, 40)"
   ]
  },
  {
   "cell_type": "code",
   "execution_count": 83,
   "metadata": {
    "id": "L6yfnAKtaZz7"
   },
   "outputs": [],
   "source": [
    "frame = pd.DataFrame(history.history)"
   ]
  },
  {
   "cell_type": "code",
   "execution_count": 84,
   "metadata": {
    "colab": {
     "base_uri": "https://localhost:8080/",
     "height": 312
    },
    "id": "gZ7KskwcdBgF",
    "outputId": "a1feb940-7992-4d26-9578-9f55ef95dfbf"
   },
   "outputs": [
    {
     "data": {
      "text/plain": [
       "[Text(0, 0.5, 'Loss'), Text(0.5, 0, 'Epochs')]"
      ]
     },
     "execution_count": 84,
     "metadata": {},
     "output_type": "execute_result"
    },
    {
     "data": {
      "image/png": "[encoded data removed]",
      "text/plain": [
       "<Figure size 432x288 with 1 Axes>"
      ]
     },
     "metadata": {
      "needs_background": "light"
     },
     "output_type": "display_data"
    }
   ],
   "source": [
    "acc_plot = frame.plot(y=\"loss\", title=\"Loss vs Epochs\", legend=False)\n",
    "acc_plot.set(xlabel=\"Epochs\", ylabel=\"Loss\")"
   ]
  },
  {
   "cell_type": "markdown",
   "metadata": {
    "id": "Gtax-JccnWFs"
   },
   "source": [
    "# Model evaluation\n",
    "----"
   ]
  },
  {
   "cell_type": "code",
   "execution_count": 85,
   "metadata": {
    "id": "CeulkS8FdSeX"
   },
   "outputs": [],
   "source": [
    "def evaluate_model(model, test_seq, y_test):\n",
    "    \"\"\"\n",
    "    This function should evaluate the model on the scaled_test_images and test_labels. \n",
    "    Your function should return a tuple (test_loss, test_accuracy).\n",
    "    \"\"\"\n",
    "    return model.evaluate(test_seq, y_test)"
   ]
  },
  {
   "cell_type": "code",
   "execution_count": 86,
   "metadata": {
    "colab": {
     "base_uri": "https://localhost:8080/"
    },
    "id": "dwvLmkxo4Ozo",
    "outputId": "3a2da18a-3f93-435e-e1a0-47c3d0e14e2c"
   },
   "outputs": [
    {
     "name": "stdout",
     "output_type": "stream",
     "text": [
      "2/2 [==============================] - 0s 17ms/step - loss: 3.4540\n"
     ]
    },
    {
     "data": {
      "text/plain": [
       "3.454028844833374"
      ]
     },
     "execution_count": 86,
     "metadata": {},
     "output_type": "execute_result"
    }
   ],
   "source": [
    "evaluate_model(rnn_model, test_seq, y_test)"
   ]
  },
  {
   "cell_type": "code",
   "execution_count": null,
   "metadata": {
    "id": "Bw7oAfwW4VMu"
   },
   "outputs": [],
   "source": []
  }
 ],
 "metadata": {
  "accelerator": "GPU",
  "colab": {
   "collapsed_sections": [
    "iHf7pAAcnzWz",
    "RNUkrXnGn47Q",
    "qkntWksfoC9j"
   ],
   "provenance": []
  },
  "gpuClass": "standard",
  "kernelspec": {
   "display_name": "Python 3 (ipykernel)",
   "language": "python",
   "name": "python3"
  },
  "language_info": {
   "codemirror_mode": {
    "name": "ipython",
    "version": 3
   },
   "file_extension": ".py",
   "mimetype": "text/x-python",
   "name": "python",
   "nbconvert_exporter": "python",
   "pygments_lexer": "ipython3",
   "version": "3.9.6"
  }
 },
 "nbformat": 4,
 "nbformat_minor": 4
}
