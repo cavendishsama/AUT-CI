{
 "cells": [
  {
   "cell_type": "markdown",
   "id": "7ba18ae6",
   "metadata": {},
   "source": [
    "# Importin Libraries"
   ]
  },
  {
   "cell_type": "code",
   "execution_count": 1,
   "id": "15284546",
   "metadata": {
    "id": "15284546"
   },
   "outputs": [],
   "source": [
    "import numpy as np\n",
    "import tensorflow as tf\n",
    "from tensorflow import keras\n",
    "import matplotlib.pyplot as plt\n",
    "import pandas as pd\n",
    "import json\n",
    "from sklearn.model_selection import train_test_split"
   ]
  },
  {
   "cell_type": "markdown",
   "id": "1debda14",
   "metadata": {},
   "source": [
    "# Loading The Dataset"
   ]
  },
  {
   "cell_type": "code",
   "execution_count": 2,
   "id": "42692847",
   "metadata": {
    "id": "42692847"
   },
   "outputs": [],
   "source": [
    "def seq_data(data_f,window_length=100, time_shift=0):\n",
    "\n",
    "    # Creates a list of 168 lists for battery_voltage\n",
    "    lst_bv = [[] for _ in range(len(data_f.T))]\n",
    "    # Creates a list of 168 lists for next_voltage\n",
    "    lst_nv = [[] for _ in range(len(data_f.T))]\n",
    "    # A list for capacity\n",
    "    capacity = []\n",
    "\n",
    "    for cycle in data_f.loc['Capacity']:\n",
    "        capacity.append(cycle[0])\n",
    "\n",
    "    for cycle_ind, cycle in enumerate(data_f.loc['voltage_battery']):\n",
    "        for voltage_ind in range(len(cycle) - window_length - time_shift):\n",
    "\n",
    "            if voltage_ind == 0:\n",
    "                lst_bv[cycle_ind].append(cycle[voltage_ind: (voltage_ind + window_length)])    # 0 to 99      # 1 to 100\n",
    "                lst_nv[cycle_ind].append(cycle[voltage_ind + window_length])                   # 100          # 101\n",
    "            else:\n",
    "                lst_bv[cycle_ind].append(cycle[voltage_ind + time_shift: (voltage_ind + window_length + time_shift)])    # 2 to 101\n",
    "                lst_nv[cycle_ind].append(cycle[voltage_ind + window_length + time_shift])                                # 102\n",
    "\n",
    "    # Nested List Comprehension for flattening lst_bv and lst_nv\n",
    "    __lst_bv = [vol for sub_l in lst_bv for vol in sub_l]\n",
    "    __lst_nv = [n_vol for sub_l in lst_nv for n_vol in sub_l]\n",
    "\n",
    "    battery_voltage = np.array(__lst_bv)\n",
    "    next_value = np.array(__lst_nv)\n",
    "    capacity = np.array(capacity)\n",
    "\n",
    "    battery_voltage = battery_voltage[...,np.newaxis]\n",
    "    next_value = next_value[...,np.newaxis]\n",
    "    capacity = capacity[...,np.newaxis]\n",
    "    # print(battery_voltage.shape)\n",
    "    # print(next_value.shape)\n",
    "    # print(capacity.shape)\n",
    "\n",
    "    return battery_voltage, next_value, capacity"
   ]
  },
  {
   "cell_type": "code",
   "execution_count": 3,
   "id": "iUixvPowFXkj",
   "metadata": {
    "colab": {
     "base_uri": "https://localhost:8080/"
    },
    "id": "iUixvPowFXkj",
    "outputId": "b5cc8297-d865-4db2-f11c-11e842923cfe"
   },
   "outputs": [
    {
     "name": "stdout",
     "output_type": "stream",
     "text": [
      "(33485, 100, 1)\n",
      "(33485, 1)\n",
      "(168, 1)\n"
     ]
    }
   ],
   "source": [
    "data_f = pd.read_json('./assets/Nasa_LiB_B5_discharge.json')\n",
    "    \n",
    "battery_voltage, next_value, capacity = seq_data(data_f,window_length=100, time_shift=0)\n",
    "print(battery_voltage.shape)\n",
    "print(next_value.shape)\n",
    "print(capacity.shape)"
   ]
  },
  {
   "cell_type": "code",
   "execution_count": 4,
   "id": "fb70eb2d",
   "metadata": {
    "id": "fb70eb2d"
   },
   "outputs": [],
   "source": [
    "train_seq, test_seq, y_train, y_test = train_test_split(battery_voltage, next_value, test_size=0.25)"
   ]
  },
  {
   "cell_type": "code",
   "execution_count": 5,
   "id": "ea7c4842",
   "metadata": {
    "id": "ea7c4842"
   },
   "outputs": [],
   "source": [
    "train_seq = train_seq[...,np.newaxis]\n",
    "# train_seq = train_seq[:,np.newaxis]\n",
    "y_train = y_train[...,np.newaxis]"
   ]
  },
  {
   "cell_type": "code",
   "execution_count": 6,
   "id": "657f22fb",
   "metadata": {
    "scrolled": true
   },
   "outputs": [
    {
     "data": {
      "text/html": [
       "<div>\n",
       "<style scoped>\n",
       "    .dataframe tbody tr th:only-of-type {\n",
       "        vertical-align: middle;\n",
       "    }\n",
       "\n",
       "    .dataframe tbody tr th {\n",
       "        vertical-align: top;\n",
       "    }\n",
       "\n",
       "    .dataframe thead th {\n",
       "        text-align: right;\n",
       "    }\n",
       "</style>\n",
       "<table border=\"1\" class=\"dataframe\">\n",
       "  <thead>\n",
       "    <tr style=\"text-align: right;\">\n",
       "      <th></th>\n",
       "      <th>amb_temp</th>\n",
       "      <th>date_time</th>\n",
       "      <th>voltage_battery</th>\n",
       "      <th>current_battery</th>\n",
       "      <th>temp_battery</th>\n",
       "      <th>current_load</th>\n",
       "      <th>voltage_load</th>\n",
       "      <th>time</th>\n",
       "      <th>Capacity</th>\n",
       "    </tr>\n",
       "  </thead>\n",
       "  <tbody>\n",
       "    <tr>\n",
       "      <th>1</th>\n",
       "      <td>24</td>\n",
       "      <td>02 Apr 2008, 15:25:41</td>\n",
       "      <td>[4.191491807505295, 4.190749067776103, 3.97487...</td>\n",
       "      <td>[-0.004901589207462, -0.0014780055516420002, -...</td>\n",
       "      <td>[24.330033885570543, 24.325993424022467, 24.38...</td>\n",
       "      <td>[-0.0006000000000000001, -0.000600000000000000...</td>\n",
       "      <td>[0.0, 4.206, 3.062, 3.03, 3.011, 2.991, 2.977,...</td>\n",
       "      <td>[0.0, 16.781, 35.702999999999996, 53.781, 71.9...</td>\n",
       "      <td>[1.8564874208181572]</td>\n",
       "    </tr>\n",
       "    <tr>\n",
       "      <th>3</th>\n",
       "      <td>24</td>\n",
       "      <td>02 Apr 2008, 19:43:48</td>\n",
       "      <td>[4.189773213846608, 4.188881380279099, 3.97915...</td>\n",
       "      <td>[2.1251179810807652e-05, -0.00087947126634, -2...</td>\n",
       "      <td>[24.697751935729325, 24.685948163596, 24.73813...</td>\n",
       "      <td>[-0.0006000000000000001, -0.000600000000000000...</td>\n",
       "      <td>[0.0, 4.204, 3.056, 3.024, 3.003, 2.983, 2.973...</td>\n",
       "      <td>[0.0, 16.672, 35.703, 53.828, 71.891, 90.047, ...</td>\n",
       "      <td>[1.846327249719927]</td>\n",
       "    </tr>\n",
       "    <tr>\n",
       "      <th>5</th>\n",
       "      <td>24</td>\n",
       "      <td>03 Apr 2008, 00:01:06</td>\n",
       "      <td>[4.188186735991303, 4.187198338393574, 3.97999...</td>\n",
       "      <td>[-0.0017540301662320001, -0.001791647748693000...</td>\n",
       "      <td>[24.734266163954402, 24.74050014862512, 24.791...</td>\n",
       "      <td>[-0.0006000000000000001, -0.000600000000000000...</td>\n",
       "      <td>[0.0, 4.203, 3.055, 3.023, 3.0, 2.981, 2.96999...</td>\n",
       "      <td>[0.0, 16.796999999999997, 35.766, 53.891, 72.0...</td>\n",
       "      <td>[1.835349194223407]</td>\n",
       "    </tr>\n",
       "    <tr>\n",
       "      <th>7</th>\n",
       "      <td>24</td>\n",
       "      <td>03 Apr 2008, 04:16:37</td>\n",
       "      <td>[4.188461118855572, 4.187752210174129, 3.98161...</td>\n",
       "      <td>[-0.002775036129446, 0.00023371270769300003, -...</td>\n",
       "      <td>[24.65423646922845, 24.652243741292516, 24.697...</td>\n",
       "      <td>[-0.0006000000000000001, -0.000600000000000000...</td>\n",
       "      <td>[0.0, 4.203, 3.055, 3.023, 2.999, 2.982, 2.969...</td>\n",
       "      <td>[0.0, 16.766000000000002, 35.75, 53.813, 72.04...</td>\n",
       "      <td>[1.835262527582112]</td>\n",
       "    </tr>\n",
       "    <tr>\n",
       "      <th>9</th>\n",
       "      <td>24</td>\n",
       "      <td>03 Apr 2008, 08:33:25</td>\n",
       "      <td>[4.188298524761055, 4.187384730878918, 3.98225...</td>\n",
       "      <td>[-0.007980866803888001, 0.0017014548245030002,...</td>\n",
       "      <td>[24.524796959348127, 24.518700434435164, 24.57...</td>\n",
       "      <td>[-0.0006000000000000001, -0.000600000000000000...</td>\n",
       "      <td>[0.0, 4.203, 3.056, 3.025, 3.0, 2.984, 2.973, ...</td>\n",
       "      <td>[0.0, 16.719, 35.656000000000006, 53.859, 72.0...</td>\n",
       "      <td>[1.834645508212041]</td>\n",
       "    </tr>\n",
       "    <tr>\n",
       "      <th>...</th>\n",
       "      <td>...</td>\n",
       "      <td>...</td>\n",
       "      <td>...</td>\n",
       "      <td>...</td>\n",
       "      <td>...</td>\n",
       "      <td>...</td>\n",
       "      <td>...</td>\n",
       "      <td>...</td>\n",
       "      <td>...</td>\n",
       "    </tr>\n",
       "    <tr>\n",
       "      <th>599</th>\n",
       "      <td>24</td>\n",
       "      <td>26 May 2008, 10:44:38</td>\n",
       "      <td>[4.196640912532072, 4.195891409328115, 3.97041...</td>\n",
       "      <td>[-0.0031723450500130003, -0.001165548113920000...</td>\n",
       "      <td>[23.741424141669572, 23.73611267134457, 23.762...</td>\n",
       "      <td>[0.0006000000000000001, 0.0006000000000000001,...</td>\n",
       "      <td>[0.0, 4.211, 2.944, 2.931, 2.92, 2.906, 2.894,...</td>\n",
       "      <td>[0.0, 9.343, 19.483999999999998, 28.7650000000...</td>\n",
       "      <td>[1.293463613844243]</td>\n",
       "    </tr>\n",
       "    <tr>\n",
       "      <th>603</th>\n",
       "      <td>24</td>\n",
       "      <td>26 May 2008, 15:30:43</td>\n",
       "      <td>[4.195623574912322, 4.195225391012888, 3.96944...</td>\n",
       "      <td>[-0.005227006197317001, -0.0018109194843490002...</td>\n",
       "      <td>[23.80397851847974, 23.80026564355092, 23.8387...</td>\n",
       "      <td>[0.0006000000000000001, 0.0006000000000000001,...</td>\n",
       "      <td>[0.0, 4.211, 2.926, 2.93, 2.916, 2.902, 2.8890...</td>\n",
       "      <td>[0.0, 9.359000000000002, 19.562000000000005, 2...</td>\n",
       "      <td>[1.288003392619118]</td>\n",
       "    </tr>\n",
       "    <tr>\n",
       "      <th>607</th>\n",
       "      <td>24</td>\n",
       "      <td>26 May 2008, 20:21:04</td>\n",
       "      <td>[4.195862008850563, 4.195180368506587, 3.96948...</td>\n",
       "      <td>[-0.0005545264293170001, 0.001394789927994, -2...</td>\n",
       "      <td>[23.849121770252687, 23.85032548167981, 23.872...</td>\n",
       "      <td>[0.0006000000000000001, 0.0006000000000000001,...</td>\n",
       "      <td>[0.0, 4.211, 2.939, 2.9290000000000003, 2.916,...</td>\n",
       "      <td>[0.0, 9.313000000000002, 19.469, 28.797, 38.14...</td>\n",
       "      <td>[1.28745252213794]</td>\n",
       "    </tr>\n",
       "    <tr>\n",
       "      <th>611</th>\n",
       "      <td>24</td>\n",
       "      <td>27 May 2008, 15:52:41</td>\n",
       "      <td>[4.18482689434833, 4.184358228897457, 3.964730...</td>\n",
       "      <td>[-0.0038126960802460003, -0.003553288376752, -...</td>\n",
       "      <td>[24.93410482186201, 24.92195746617458, 24.9390...</td>\n",
       "      <td>[0.0006000000000000001, 0.0006000000000000001,...</td>\n",
       "      <td>[0.0, 4.2, 2.977, 2.947, 2.931, 2.917, 2.90500...</td>\n",
       "      <td>[0.0, 9.375, 19.593999999999998, 28.9839999999...</td>\n",
       "      <td>[1.309015364230735]</td>\n",
       "    </tr>\n",
       "    <tr>\n",
       "      <th>613</th>\n",
       "      <td>24</td>\n",
       "      <td>27 May 2008, 20:45:42</td>\n",
       "      <td>[4.201968615940368, 4.200942039471311, 3.98225...</td>\n",
       "      <td>[-0.000856557979434, -0.0011276212441780002, -...</td>\n",
       "      <td>[25.09329713312876, 25.10437816806932, 25.1061...</td>\n",
       "      <td>[0.0006000000000000001, 0.0006000000000000001,...</td>\n",
       "      <td>[0.0, 4.217, 2.936, 2.941, 2.9290000000000003,...</td>\n",
       "      <td>[0.0, 9.328, 19.515, 28.936999999999998, 38.31...</td>\n",
       "      <td>[1.325079328642935]</td>\n",
       "    </tr>\n",
       "  </tbody>\n",
       "</table>\n",
       "<p>168 rows × 9 columns</p>\n",
       "</div>"
      ],
      "text/plain": [
       "    amb_temp              date_time  \\\n",
       "1         24  02 Apr 2008, 15:25:41   \n",
       "3         24  02 Apr 2008, 19:43:48   \n",
       "5         24  03 Apr 2008, 00:01:06   \n",
       "7         24  03 Apr 2008, 04:16:37   \n",
       "9         24  03 Apr 2008, 08:33:25   \n",
       "..       ...                    ...   \n",
       "599       24  26 May 2008, 10:44:38   \n",
       "603       24  26 May 2008, 15:30:43   \n",
       "607       24  26 May 2008, 20:21:04   \n",
       "611       24  27 May 2008, 15:52:41   \n",
       "613       24  27 May 2008, 20:45:42   \n",
       "\n",
       "                                       voltage_battery  \\\n",
       "1    [4.191491807505295, 4.190749067776103, 3.97487...   \n",
       "3    [4.189773213846608, 4.188881380279099, 3.97915...   \n",
       "5    [4.188186735991303, 4.187198338393574, 3.97999...   \n",
       "7    [4.188461118855572, 4.187752210174129, 3.98161...   \n",
       "9    [4.188298524761055, 4.187384730878918, 3.98225...   \n",
       "..                                                 ...   \n",
       "599  [4.196640912532072, 4.195891409328115, 3.97041...   \n",
       "603  [4.195623574912322, 4.195225391012888, 3.96944...   \n",
       "607  [4.195862008850563, 4.195180368506587, 3.96948...   \n",
       "611  [4.18482689434833, 4.184358228897457, 3.964730...   \n",
       "613  [4.201968615940368, 4.200942039471311, 3.98225...   \n",
       "\n",
       "                                       current_battery  \\\n",
       "1    [-0.004901589207462, -0.0014780055516420002, -...   \n",
       "3    [2.1251179810807652e-05, -0.00087947126634, -2...   \n",
       "5    [-0.0017540301662320001, -0.001791647748693000...   \n",
       "7    [-0.002775036129446, 0.00023371270769300003, -...   \n",
       "9    [-0.007980866803888001, 0.0017014548245030002,...   \n",
       "..                                                 ...   \n",
       "599  [-0.0031723450500130003, -0.001165548113920000...   \n",
       "603  [-0.005227006197317001, -0.0018109194843490002...   \n",
       "607  [-0.0005545264293170001, 0.001394789927994, -2...   \n",
       "611  [-0.0038126960802460003, -0.003553288376752, -...   \n",
       "613  [-0.000856557979434, -0.0011276212441780002, -...   \n",
       "\n",
       "                                          temp_battery  \\\n",
       "1    [24.330033885570543, 24.325993424022467, 24.38...   \n",
       "3    [24.697751935729325, 24.685948163596, 24.73813...   \n",
       "5    [24.734266163954402, 24.74050014862512, 24.791...   \n",
       "7    [24.65423646922845, 24.652243741292516, 24.697...   \n",
       "9    [24.524796959348127, 24.518700434435164, 24.57...   \n",
       "..                                                 ...   \n",
       "599  [23.741424141669572, 23.73611267134457, 23.762...   \n",
       "603  [23.80397851847974, 23.80026564355092, 23.8387...   \n",
       "607  [23.849121770252687, 23.85032548167981, 23.872...   \n",
       "611  [24.93410482186201, 24.92195746617458, 24.9390...   \n",
       "613  [25.09329713312876, 25.10437816806932, 25.1061...   \n",
       "\n",
       "                                          current_load  \\\n",
       "1    [-0.0006000000000000001, -0.000600000000000000...   \n",
       "3    [-0.0006000000000000001, -0.000600000000000000...   \n",
       "5    [-0.0006000000000000001, -0.000600000000000000...   \n",
       "7    [-0.0006000000000000001, -0.000600000000000000...   \n",
       "9    [-0.0006000000000000001, -0.000600000000000000...   \n",
       "..                                                 ...   \n",
       "599  [0.0006000000000000001, 0.0006000000000000001,...   \n",
       "603  [0.0006000000000000001, 0.0006000000000000001,...   \n",
       "607  [0.0006000000000000001, 0.0006000000000000001,...   \n",
       "611  [0.0006000000000000001, 0.0006000000000000001,...   \n",
       "613  [0.0006000000000000001, 0.0006000000000000001,...   \n",
       "\n",
       "                                          voltage_load  \\\n",
       "1    [0.0, 4.206, 3.062, 3.03, 3.011, 2.991, 2.977,...   \n",
       "3    [0.0, 4.204, 3.056, 3.024, 3.003, 2.983, 2.973...   \n",
       "5    [0.0, 4.203, 3.055, 3.023, 3.0, 2.981, 2.96999...   \n",
       "7    [0.0, 4.203, 3.055, 3.023, 2.999, 2.982, 2.969...   \n",
       "9    [0.0, 4.203, 3.056, 3.025, 3.0, 2.984, 2.973, ...   \n",
       "..                                                 ...   \n",
       "599  [0.0, 4.211, 2.944, 2.931, 2.92, 2.906, 2.894,...   \n",
       "603  [0.0, 4.211, 2.926, 2.93, 2.916, 2.902, 2.8890...   \n",
       "607  [0.0, 4.211, 2.939, 2.9290000000000003, 2.916,...   \n",
       "611  [0.0, 4.2, 2.977, 2.947, 2.931, 2.917, 2.90500...   \n",
       "613  [0.0, 4.217, 2.936, 2.941, 2.9290000000000003,...   \n",
       "\n",
       "                                                  time              Capacity  \n",
       "1    [0.0, 16.781, 35.702999999999996, 53.781, 71.9...  [1.8564874208181572]  \n",
       "3    [0.0, 16.672, 35.703, 53.828, 71.891, 90.047, ...   [1.846327249719927]  \n",
       "5    [0.0, 16.796999999999997, 35.766, 53.891, 72.0...   [1.835349194223407]  \n",
       "7    [0.0, 16.766000000000002, 35.75, 53.813, 72.04...   [1.835262527582112]  \n",
       "9    [0.0, 16.719, 35.656000000000006, 53.859, 72.0...   [1.834645508212041]  \n",
       "..                                                 ...                   ...  \n",
       "599  [0.0, 9.343, 19.483999999999998, 28.7650000000...   [1.293463613844243]  \n",
       "603  [0.0, 9.359000000000002, 19.562000000000005, 2...   [1.288003392619118]  \n",
       "607  [0.0, 9.313000000000002, 19.469, 28.797, 38.14...    [1.28745252213794]  \n",
       "611  [0.0, 9.375, 19.593999999999998, 28.9839999999...   [1.309015364230735]  \n",
       "613  [0.0, 9.328, 19.515, 28.936999999999998, 38.31...   [1.325079328642935]  \n",
       "\n",
       "[168 rows x 9 columns]"
      ]
     },
     "execution_count": 6,
     "metadata": {},
     "output_type": "execute_result"
    }
   ],
   "source": [
    "data_f = pd.read_json('./assets/Nasa_LiB_B5_discharge.json')\n",
    "data_f.T"
   ]
  },
  {
   "cell_type": "code",
   "execution_count": 11,
   "id": "dd47291b",
   "metadata": {
    "id": "dd47291b",
    "outputId": "fe6c2318-2b30-4e75-b681-0a02ffb8fc09"
   },
   "outputs": [
    {
     "data": {
      "text/plain": [
       "Text(0.5, 1.0, 'voltage per time in sec')"
      ]
     },
     "execution_count": 11,
     "metadata": {},
     "output_type": "execute_result"
    },
    {
     "data": {
      "image/png": "[encoded data removed]",
      "text/plain": [
       "<Figure size 432x288 with 1 Axes>"
      ]
     },
     "metadata": {
      "needs_background": "light"
     },
     "output_type": "display_data"
    }
   ],
   "source": [
    "for n,i in enumerate(data_f):\n",
    "    plt.plot(data_f[i].loc['time'], data_f[i].loc['voltage_battery'])\n",
    "plt.xlabel(\"time\")\n",
    "plt.ylabel(\"voltage\")\n",
    "plt.title(\"voltage per time in sec\")"
   ]
  },
  {
   "cell_type": "markdown",
   "id": "91420a09",
   "metadata": {
    "id": "91420a09"
   },
   "source": [
    "# Model"
   ]
  },
  {
   "cell_type": "code",
   "execution_count": 13,
   "id": "1c456e27",
   "metadata": {
    "id": "1c456e27"
   },
   "outputs": [],
   "source": [
    "def get_model_SimpleRNN(input_shape):\n",
    "    \"\"\"\n",
    "    This function should build a Sequential model according to the above specification. Ensure the \n",
    "    weights are initialised by providing the input_shape argument in the first layer, given by the\n",
    "    function argument.\n",
    "    Your function should return the model.\n",
    "    \"\"\"\n",
    "    model = keras.Sequential([\n",
    "        keras.layers.SimpleRNN(20, return_sequences=True, input_shape=[None, 1]),\n",
    "        keras.layers.SimpleRNN(20, return_sequences=True),\n",
    "        keras.layers.TimeDistributed(keras.layers.Dense(1))\n",
    "    ])\n",
    "\n",
    "    return model\n",
    "\n",
    "def get_model_GRU(input_shape):\n",
    "    \"\"\"\n",
    "    This function should build a Sequential model according to the above specification. Ensure the \n",
    "    weights are initialised by providing the input_shape argument in the first layer, given by the\n",
    "    function argument.\n",
    "    Your function should return the model.\n",
    "    \"\"\"\n",
    "    model = keras.Sequential([\n",
    "        keras.layers.GRU(20, return_sequences=True, input_shape=[None, 1]),\n",
    "        keras.layers.GRU(20, return_sequences=True),\n",
    "        keras.layers.TimeDistributed(keras.layers.Dense(1))\n",
    "    ])\n",
    "\n",
    "    return model\n",
    "\n",
    "def get_model_LSTM(input_shape):\n",
    "    \"\"\"\n",
    "    This function should build a Sequential model according to the above specification. Ensure the \n",
    "    weights are initialised by providing the input_shape argument in the first layer, given by the\n",
    "    function argument.\n",
    "    Your function should return the model.\n",
    "    \"\"\"\n",
    "    model = keras.Sequential([\n",
    "        keras.layers.LSTM(20, return_sequences=True, input_shape=[None, 1]),\n",
    "        keras.layers.LSTM(20, return_sequences=True),\n",
    "        keras.layers.TimeDistributed(keras.layers.Dense(1))\n",
    "    ])\n",
    "\n",
    "    return model"
   ]
  },
  {
   "cell_type": "code",
   "execution_count": 17,
   "id": "e07ec3fa",
   "metadata": {
    "id": "e07ec3fa"
   },
   "outputs": [],
   "source": [
    "rnn_model_SimpleRNN = get_model_SimpleRNN(train_seq[0].shape)\n",
    "rnn_model_GRU = get_model_GRU(train_seq[0].shape)\n",
    "rnn_model_LSTM = get_model_LSTM(train_seq[0].shape)"
   ]
  },
  {
   "cell_type": "code",
   "execution_count": 18,
   "id": "dbe374ae",
   "metadata": {
    "id": "dbe374ae",
    "outputId": "89c308b0-34b8-45ef-d6ed-0df332e10e0c"
   },
   "outputs": [
    {
     "name": "stdout",
     "output_type": "stream",
     "text": [
      "Model: \"sequential_3\"\n",
      "_________________________________________________________________\n",
      " Layer (type)                Output Shape              Param #   \n",
      "=================================================================\n",
      " simple_rnn_2 (SimpleRNN)    (None, None, 20)          440       \n",
      "                                                                 \n",
      " simple_rnn_3 (SimpleRNN)    (None, None, 20)          820       \n",
      "                                                                 \n",
      " time_distributed_3 (TimeDis  (None, None, 1)          21        \n",
      " tributed)                                                       \n",
      "                                                                 \n",
      "=================================================================\n",
      "Total params: 1,281\n",
      "Trainable params: 1,281\n",
      "Non-trainable params: 0\n",
      "_________________________________________________________________\n",
      "Model: \"sequential_4\"\n",
      "_________________________________________________________________\n",
      " Layer (type)                Output Shape              Param #   \n",
      "=================================================================\n",
      " gru_2 (GRU)                 (None, None, 20)          1380      \n",
      "                                                                 \n",
      " gru_3 (GRU)                 (None, None, 20)          2520      \n",
      "                                                                 \n",
      " time_distributed_4 (TimeDis  (None, None, 1)          21        \n",
      " tributed)                                                       \n",
      "                                                                 \n",
      "=================================================================\n",
      "Total params: 3,921\n",
      "Trainable params: 3,921\n",
      "Non-trainable params: 0\n",
      "_________________________________________________________________\n",
      "Model: \"sequential_5\"\n",
      "_________________________________________________________________\n",
      " Layer (type)                Output Shape              Param #   \n",
      "=================================================================\n",
      " lstm_2 (LSTM)               (None, None, 20)          1760      \n",
      "                                                                 \n",
      " lstm_3 (LSTM)               (None, None, 20)          3280      \n",
      "                                                                 \n",
      " time_distributed_5 (TimeDis  (None, None, 1)          21        \n",
      " tributed)                                                       \n",
      "                                                                 \n",
      "=================================================================\n",
      "Total params: 5,061\n",
      "Trainable params: 5,061\n",
      "Non-trainable params: 0\n",
      "_________________________________________________________________\n"
     ]
    }
   ],
   "source": [
    "rnn_model_SimpleRNN.summary()\n",
    "rnn_model_GRU.summary()\n",
    "rnn_model_LSTM.summary()"
   ]
  },
  {
   "cell_type": "code",
   "execution_count": 25,
   "id": "97560abd",
   "metadata": {
    "id": "97560abd"
   },
   "outputs": [],
   "source": [
    "def compile_model(model):\n",
    "    \"\"\"\n",
    "    This function takes in the model returned from your get_model function, and compiles it with an optimiser,\n",
    "    loss function and metric.\n",
    "    Compile the model using the Adam optimiser (with default settings), the cross-entropy loss function and\n",
    "    accuracy as the only metric. \n",
    "    Your function doesn't need to return anything; the model will be compiled in-place.\n",
    "    \"\"\"\n",
    "    \n",
    "    model.compile(optimizer = 'adam', loss = 'mse', metrics = ['mean_squared_error', 'mean_absolute_error', 'mean_absolute_percentage_error', 'cosine_proximity'])\n",
    "#     model.compile(optimizer = 'adam', loss = 'sparse_categorical_crossentropy', metrics = ['mean_squared_error', 'mean_absolute_error', 'mean_absolute_percentage_error', 'cosine_proximity'])\n",
    "    \n",
    "    return model"
   ]
  },
  {
   "cell_type": "code",
   "execution_count": 26,
   "id": "8dae465d",
   "metadata": {
    "id": "8dae465d"
   },
   "outputs": [],
   "source": [
    "rnn_model = compile_model(rnn_model_LSTM)"
   ]
  },
  {
   "cell_type": "markdown",
   "id": "72d88a9c",
   "metadata": {
    "id": "72d88a9c"
   },
   "source": [
    "# Train"
   ]
  },
  {
   "cell_type": "code",
   "execution_count": 27,
   "id": "669a3fd4",
   "metadata": {
    "id": "669a3fd4"
   },
   "outputs": [],
   "source": [
    "def train_model(model, train_seq, train_labels, epochs):\n",
    "    return model.fit(train_seq, train_labels, epochs=epochs)"
   ]
  },
  {
   "cell_type": "code",
   "execution_count": 28,
   "id": "d36482db",
   "metadata": {
    "id": "d36482db",
    "outputId": "8bf2a086-656d-40fd-9983-a68baf68e59e"
   },
   "outputs": [
    {
     "name": "stdout",
     "output_type": "stream",
     "text": [
      "(25113, 100, 1, 1)\n",
      "Epoch 1/5\n",
      "785/785 [==============================] - 28s 32ms/step - loss: 0.0192 - mean_squared_error: 0.0192 - mean_absolute_error: 0.0896 - mean_absolute_percentage_error: 2.7567 - cosine_proximity: 1.0000\n",
      "Epoch 2/5\n",
      "785/785 [==============================] - 27s 34ms/step - loss: 0.0174 - mean_squared_error: 0.0174 - mean_absolute_error: 0.0846 - mean_absolute_percentage_error: 2.6038 - cosine_proximity: 1.0000\n",
      "Epoch 3/5\n",
      "785/785 [==============================] - 26s 33ms/step - loss: 0.0146 - mean_squared_error: 0.0146 - mean_absolute_error: 0.0768 - mean_absolute_percentage_error: 2.3694 - cosine_proximity: 1.0000\n",
      "Epoch 4/5\n",
      "785/785 [==============================] - 25s 32ms/step - loss: 0.0140 - mean_squared_error: 0.0140 - mean_absolute_error: 0.0749 - mean_absolute_percentage_error: 2.3102 - cosine_proximity: 1.0000\n",
      "Epoch 5/5\n",
      "785/785 [==============================] - 24s 31ms/step - loss: 0.0133 - mean_squared_error: 0.0133 - mean_absolute_error: 0.0716 - mean_absolute_percentage_error: 2.2114 - cosine_proximity: 1.0000\n"
     ]
    }
   ],
   "source": [
    "print(train_seq.shape)\n",
    "history = train_model(rnn_model, train_seq, y_train, 5)"
   ]
  },
  {
   "cell_type": "code",
   "execution_count": 29,
   "id": "ebe9e15c",
   "metadata": {
    "id": "ebe9e15c"
   },
   "outputs": [],
   "source": [
    "frame = pd.DataFrame(history.history)"
   ]
  },
  {
   "cell_type": "code",
   "execution_count": 30,
   "id": "b043e8bd",
   "metadata": {
    "id": "b043e8bd",
    "outputId": "1b431d61-0672-4467-a315-e4e905e45160"
   },
   "outputs": [
    {
     "data": {
      "text/plain": [
       "[Text(0.5, 0, 'Epochs'), Text(0, 0.5, 'Loss')]"
      ]
     },
     "execution_count": 30,
     "metadata": {},
     "output_type": "execute_result"
    },
    {
     "data": {
      "image/png": "[encoded data removed]",
      "text/plain": [
       "<Figure size 432x288 with 1 Axes>"
      ]
     },
     "metadata": {
      "needs_background": "light"
     },
     "output_type": "display_data"
    }
   ],
   "source": [
    "acc_plot = frame.plot(y=\"loss\", title=\"Loss vs Epochs\", legend=False)\n",
    "acc_plot.set(xlabel=\"Epochs\", ylabel=\"Loss\")"
   ]
  },
  {
   "cell_type": "code",
   "execution_count": 31,
   "id": "631d7a61",
   "metadata": {
    "id": "631d7a61",
    "outputId": "564ce9ea-9e28-4a50-88d2-4c9980a00c02"
   },
   "outputs": [
    {
     "data": {
      "text/plain": [
       "[<matplotlib.lines.Line2D at 0x1b0ce4406a0>]"
      ]
     },
     "execution_count": 31,
     "metadata": {},
     "output_type": "execute_result"
    },
    {
     "data": {
      "image/png": "[encoded data removed]",
      "text/plain": [
       "<Figure size 1080x1080 with 4 Axes>"
      ]
     },
     "metadata": {
      "needs_background": "light"
     },
     "output_type": "display_data"
    }
   ],
   "source": [
    "fig, axs = plt.subplots(2, 2, figsize=(15, 15))\n",
    "plt.subplot(221)\n",
    "plt.plot(history.history['mean_squared_error'])\n",
    "plt.subplot(222)\n",
    "plt.plot(history.history['mean_absolute_error'])\n",
    "plt.subplot(223)\n",
    "plt.plot(history.history['mean_absolute_percentage_error'])\n",
    "plt.subplot(224)\n",
    "plt.plot(history.history['cosine_proximity'])"
   ]
  },
  {
   "cell_type": "markdown",
   "id": "0a9a368c",
   "metadata": {
    "id": "0a9a368c"
   },
   "source": [
    "# Model Evauation"
   ]
  },
  {
   "cell_type": "code",
   "execution_count": 32,
   "id": "4917e3dd",
   "metadata": {
    "id": "4917e3dd"
   },
   "outputs": [],
   "source": [
    "def evaluate_model(model, test_seq, y_test):\n",
    "    \"\"\"\n",
    "    This function should evaluate the model on the scaled_test_images and test_labels. \n",
    "    Your function should return a tuple (test_loss, test_accuracy).\n",
    "    \"\"\"\n",
    "    return model.evaluate(test_seq, y_test)"
   ]
  },
  {
   "cell_type": "code",
   "execution_count": 33,
   "id": "653e4f4f",
   "metadata": {
    "id": "653e4f4f",
    "outputId": "8d136505-23bb-4067-9313-691be96d0d5a"
   },
   "outputs": [
    {
     "name": "stdout",
     "output_type": "stream",
     "text": [
      "262/262 [==============================] - 3s 10ms/step - loss: 0.0162 - mean_squared_error: 0.0162 - mean_absolute_error: 0.0830 - mean_absolute_percentage_error: 2.5157 - cosine_proximity: 9.9989\n"
     ]
    },
    {
     "data": {
      "text/plain": [
       "[0.016202380880713463,\n",
       " 0.016202380880713463,\n",
       " 0.0829753428697586,\n",
       " 2.515692949295044,\n",
       " 9.998878479003906]"
      ]
     },
     "execution_count": 33,
     "metadata": {},
     "output_type": "execute_result"
    }
   ],
   "source": [
    "evaluate_model(rnn_model, test_seq, y_test)"
   ]
  },
  {
   "cell_type": "markdown",
   "id": "618ca6f3",
   "metadata": {
    "id": "86d79fb5"
   },
   "source": [
    "# Estimate The Capacity"
   ]
  },
  {
   "cell_type": "markdown",
   "id": "d7b8631b",
   "metadata": {},
   "source": [
    "## Using RNN"
   ]
  },
  {
   "cell_type": "code",
   "execution_count": 143,
   "id": "ac984a98",
   "metadata": {
    "id": "ac984a98"
   },
   "outputs": [
    {
     "data": {
      "text/plain": [
       "numpy.ndarray"
      ]
     },
     "execution_count": 143,
     "metadata": {},
     "output_type": "execute_result"
    }
   ],
   "source": [
    "lst_flag = []\n",
    "for i in data_f.loc[\"voltage_battery\"]:\n",
    "    lst_flag.append(len(i))\n",
    "min_num_voltage = min(lst_flag)\n",
    "\n",
    "voltage = [v for v in data_f.loc[\"voltage_battery\"]]\n",
    "voltage = [voltage[i][:min_num_voltage] for i in range(len(voltage))]\n",
    "voltage = np.array(voltage)\n",
    "capacity = np.asarray(capacity)\n",
    "type(voltage)"
   ]
  },
  {
   "cell_type": "code",
   "execution_count": 144,
   "id": "66a881d3",
   "metadata": {
    "id": "66a881d3"
   },
   "outputs": [
    {
     "name": "stdout",
     "output_type": "stream",
     "text": [
      "(168, 179, 1)\n",
      "(168, 1)\n"
     ]
    }
   ],
   "source": [
    "voltage = voltage[...,np.newaxis]\n",
    "\n",
    "print(voltage.shape)\n",
    "print(capacity.shape)"
   ]
  },
  {
   "cell_type": "code",
   "execution_count": 145,
   "id": "9fae6846",
   "metadata": {},
   "outputs": [],
   "source": [
    "train_seq_cap, test_seq_cap, y_train_cap, y_test_cap = train_test_split(voltage, capacity, test_size=0.25)"
   ]
  },
  {
   "cell_type": "code",
   "execution_count": 146,
   "id": "f1a74bec",
   "metadata": {
    "id": "f1a74bec"
   },
   "outputs": [],
   "source": [
    "model_cap = keras.Sequential([\n",
    "    keras.layers.LSTM(50, activation=\"tanh\", return_sequences=False, input_shape=(min_num_voltage,1)),\n",
    "    keras.layers.Dense(1)\n",
    "])"
   ]
  },
  {
   "cell_type": "code",
   "execution_count": 147,
   "id": "5da9e4f1",
   "metadata": {
    "id": "5da9e4f1"
   },
   "outputs": [
    {
     "name": "stdout",
     "output_type": "stream",
     "text": [
      "Epoch 1/50\n",
      "4/4 [==============================] - 1s 32ms/step - loss: 2.1590 - mean_squared_error: 2.1590 - mean_absolute_error: 1.4514 - mean_absolute_percentage_error: 92.8919 - cosine_proximity: 0.4921\n",
      "Epoch 2/50\n",
      "4/4 [==============================] - 0s 32ms/step - loss: 1.0794 - mean_squared_error: 1.0794 - mean_absolute_error: 1.0125 - mean_absolute_percentage_error: 64.2859 - cosine_proximity: 1.0000\n",
      "Epoch 3/50\n",
      "4/4 [==============================] - 0s 32ms/step - loss: 0.3957 - mean_squared_error: 0.3957 - mean_absolute_error: 0.5867 - mean_absolute_percentage_error: 36.6420 - cosine_proximity: 1.0000\n",
      "Epoch 4/50\n",
      "4/4 [==============================] - 0s 32ms/step - loss: 0.0842 - mean_squared_error: 0.0842 - mean_absolute_error: 0.2327 - mean_absolute_percentage_error: 14.0409 - cosine_proximity: 1.0000\n",
      "Epoch 5/50\n",
      "4/4 [==============================] - 0s 33ms/step - loss: 0.0741 - mean_squared_error: 0.0741 - mean_absolute_error: 0.2294 - mean_absolute_percentage_error: 15.8900 - cosine_proximity: 1.0000\n",
      "Epoch 6/50\n",
      "4/4 [==============================] - 0s 32ms/step - loss: 0.1280 - mean_squared_error: 0.1280 - mean_absolute_error: 0.3013 - mean_absolute_percentage_error: 21.0968 - cosine_proximity: 1.0000\n",
      "Epoch 7/50\n",
      "4/4 [==============================] - 0s 33ms/step - loss: 0.0994 - mean_squared_error: 0.0994 - mean_absolute_error: 0.2594 - mean_absolute_percentage_error: 18.2512 - cosine_proximity: 1.0000\n",
      "Epoch 8/50\n",
      "4/4 [==============================] - 0s 33ms/step - loss: 0.0542 - mean_squared_error: 0.0542 - mean_absolute_error: 0.2038 - mean_absolute_percentage_error: 13.9756 - cosine_proximity: 1.0000\n",
      "Epoch 9/50\n",
      "4/4 [==============================] - 0s 33ms/step - loss: 0.0384 - mean_squared_error: 0.0384 - mean_absolute_error: 0.1740 - mean_absolute_percentage_error: 11.2982 - cosine_proximity: 1.0000\n",
      "Epoch 10/50\n",
      "4/4 [==============================] - 0s 33ms/step - loss: 0.0419 - mean_squared_error: 0.0419 - mean_absolute_error: 0.1710 - mean_absolute_percentage_error: 10.6015 - cosine_proximity: 1.0000\n",
      "Epoch 11/50\n",
      "4/4 [==============================] - 0s 32ms/step - loss: 0.0464 - mean_squared_error: 0.0464 - mean_absolute_error: 0.1759 - mean_absolute_percentage_error: 10.7266 - cosine_proximity: 1.0000\n",
      "Epoch 12/50\n",
      "4/4 [==============================] - 0s 33ms/step - loss: 0.0452 - mean_squared_error: 0.0452 - mean_absolute_error: 0.1742 - mean_absolute_percentage_error: 10.6581 - cosine_proximity: 1.0000\n",
      "Epoch 13/50\n",
      "4/4 [==============================] - 0s 32ms/step - loss: 0.0406 - mean_squared_error: 0.0406 - mean_absolute_error: 0.1693 - mean_absolute_percentage_error: 10.5423 - cosine_proximity: 1.0000\n",
      "Epoch 14/50\n",
      "4/4 [==============================] - 0s 32ms/step - loss: 0.0382 - mean_squared_error: 0.0382 - mean_absolute_error: 0.1700 - mean_absolute_percentage_error: 10.8513 - cosine_proximity: 1.0000\n",
      "Epoch 15/50\n",
      "4/4 [==============================] - 0s 32ms/step - loss: 0.0377 - mean_squared_error: 0.0377 - mean_absolute_error: 0.1732 - mean_absolute_percentage_error: 11.2818 - cosine_proximity: 1.0000\n",
      "Epoch 16/50\n",
      "4/4 [==============================] - 0s 33ms/step - loss: 0.0383 - mean_squared_error: 0.0383 - mean_absolute_error: 0.1757 - mean_absolute_percentage_error: 11.5555 - cosine_proximity: 1.0000\n",
      "Epoch 17/50\n",
      "4/4 [==============================] - 0s 32ms/step - loss: 0.0385 - mean_squared_error: 0.0385 - mean_absolute_error: 0.1763 - mean_absolute_percentage_error: 11.6137 - cosine_proximity: 1.0000\n",
      "Epoch 18/50\n",
      "4/4 [==============================] - 0s 33ms/step - loss: 0.0379 - mean_squared_error: 0.0379 - mean_absolute_error: 0.1746 - mean_absolute_percentage_error: 11.4485 - cosine_proximity: 1.0000\n",
      "Epoch 19/50\n",
      "4/4 [==============================] - 0s 34ms/step - loss: 0.0373 - mean_squared_error: 0.0373 - mean_absolute_error: 0.1722 - mean_absolute_percentage_error: 11.2056 - cosine_proximity: 1.0000\n",
      "Epoch 20/50\n",
      "4/4 [==============================] - 0s 33ms/step - loss: 0.0372 - mean_squared_error: 0.0372 - mean_absolute_error: 0.1703 - mean_absolute_percentage_error: 10.9957 - cosine_proximity: 1.0000\n",
      "Epoch 21/50\n",
      "4/4 [==============================] - 0s 33ms/step - loss: 0.0374 - mean_squared_error: 0.0374 - mean_absolute_error: 0.1697 - mean_absolute_percentage_error: 10.8932 - cosine_proximity: 1.0000\n",
      "Epoch 22/50\n",
      "4/4 [==============================] - 0s 33ms/step - loss: 0.0375 - mean_squared_error: 0.0375 - mean_absolute_error: 0.1695 - mean_absolute_percentage_error: 10.8598 - cosine_proximity: 1.0000\n",
      "Epoch 23/50\n",
      "4/4 [==============================] - 0s 34ms/step - loss: 0.0374 - mean_squared_error: 0.0374 - mean_absolute_error: 0.1698 - mean_absolute_percentage_error: 10.9086 - cosine_proximity: 1.0000\n",
      "Epoch 24/50\n",
      "4/4 [==============================] - 0s 33ms/step - loss: 0.0373 - mean_squared_error: 0.0373 - mean_absolute_error: 0.1708 - mean_absolute_percentage_error: 11.0324 - cosine_proximity: 1.0000\n",
      "Epoch 25/50\n",
      "4/4 [==============================] - 0s 34ms/step - loss: 0.0372 - mean_squared_error: 0.0372 - mean_absolute_error: 0.1712 - mean_absolute_percentage_error: 11.1034 - cosine_proximity: 1.0000\n",
      "Epoch 26/50\n",
      "4/4 [==============================] - 0s 33ms/step - loss: 0.0372 - mean_squared_error: 0.0372 - mean_absolute_error: 0.1710 - mean_absolute_percentage_error: 11.0851 - cosine_proximity: 1.0000\n",
      "Epoch 27/50\n",
      "4/4 [==============================] - 0s 33ms/step - loss: 0.0371 - mean_squared_error: 0.0371 - mean_absolute_error: 0.1707 - mean_absolute_percentage_error: 11.0567 - cosine_proximity: 1.0000\n",
      "Epoch 28/50\n",
      "4/4 [==============================] - 0s 32ms/step - loss: 0.0371 - mean_squared_error: 0.0371 - mean_absolute_error: 0.1708 - mean_absolute_percentage_error: 11.0630 - cosine_proximity: 1.0000\n",
      "Epoch 29/50\n",
      "4/4 [==============================] - 0s 35ms/step - loss: 0.0371 - mean_squared_error: 0.0371 - mean_absolute_error: 0.1705 - mean_absolute_percentage_error: 11.0203 - cosine_proximity: 1.0000\n",
      "Epoch 30/50\n",
      "4/4 [==============================] - 0s 34ms/step - loss: 0.0370 - mean_squared_error: 0.0370 - mean_absolute_error: 0.1696 - mean_absolute_percentage_error: 10.9242 - cosine_proximity: 1.0000\n",
      "Epoch 31/50\n",
      "4/4 [==============================] - 0s 33ms/step - loss: 0.0370 - mean_squared_error: 0.0370 - mean_absolute_error: 0.1699 - mean_absolute_percentage_error: 10.9645 - cosine_proximity: 1.0000\n",
      "Epoch 32/50\n",
      "4/4 [==============================] - 0s 33ms/step - loss: 0.0369 - mean_squared_error: 0.0369 - mean_absolute_error: 0.1704 - mean_absolute_percentage_error: 11.0370 - cosine_proximity: 1.0000\n",
      "Epoch 33/50\n",
      "4/4 [==============================] - 0s 33ms/step - loss: 0.0368 - mean_squared_error: 0.0368 - mean_absolute_error: 0.1703 - mean_absolute_percentage_error: 11.0339 - cosine_proximity: 1.0000\n",
      "Epoch 34/50\n",
      "4/4 [==============================] - 0s 32ms/step - loss: 0.0373 - mean_squared_error: 0.0373 - mean_absolute_error: 0.1707 - mean_absolute_percentage_error: 11.0077 - cosine_proximity: 1.0000\n",
      "Epoch 35/50\n",
      "4/4 [==============================] - 0s 33ms/step - loss: 0.0367 - mean_squared_error: 0.0367 - mean_absolute_error: 0.1690 - mean_absolute_percentage_error: 10.8863 - cosine_proximity: 1.0000\n",
      "Epoch 36/50\n",
      "4/4 [==============================] - 0s 33ms/step - loss: 0.0367 - mean_squared_error: 0.0367 - mean_absolute_error: 0.1699 - mean_absolute_percentage_error: 10.9949 - cosine_proximity: 1.0000\n",
      "Epoch 37/50\n",
      "4/4 [==============================] - 0s 33ms/step - loss: 0.0367 - mean_squared_error: 0.0367 - mean_absolute_error: 0.1706 - mean_absolute_percentage_error: 11.0788 - cosine_proximity: 1.0000\n",
      "Epoch 38/50\n",
      "4/4 [==============================] - 0s 33ms/step - loss: 0.0367 - mean_squared_error: 0.0367 - mean_absolute_error: 0.1705 - mean_absolute_percentage_error: 11.0751 - cosine_proximity: 1.0000\n",
      "Epoch 39/50\n",
      "4/4 [==============================] - 0s 33ms/step - loss: 0.0366 - mean_squared_error: 0.0366 - mean_absolute_error: 0.1700 - mean_absolute_percentage_error: 11.0159 - cosine_proximity: 1.0000\n",
      "Epoch 40/50\n"
     ]
    },
    {
     "name": "stdout",
     "output_type": "stream",
     "text": [
      "4/4 [==============================] - 0s 33ms/step - loss: 0.0366 - mean_squared_error: 0.0366 - mean_absolute_error: 0.1696 - mean_absolute_percentage_error: 10.9776 - cosine_proximity: 1.0000\n",
      "Epoch 41/50\n",
      "4/4 [==============================] - 0s 32ms/step - loss: 0.0364 - mean_squared_error: 0.0364 - mean_absolute_error: 0.1691 - mean_absolute_percentage_error: 10.9302 - cosine_proximity: 1.0000\n",
      "Epoch 42/50\n",
      "4/4 [==============================] - 0s 32ms/step - loss: 0.0365 - mean_squared_error: 0.0365 - mean_absolute_error: 0.1691 - mean_absolute_percentage_error: 10.9253 - cosine_proximity: 1.0000\n",
      "Epoch 43/50\n",
      "4/4 [==============================] - 0s 32ms/step - loss: 0.0364 - mean_squared_error: 0.0364 - mean_absolute_error: 0.1690 - mean_absolute_percentage_error: 10.9165 - cosine_proximity: 1.0000\n",
      "Epoch 44/50\n",
      "4/4 [==============================] - 0s 35ms/step - loss: 0.0365 - mean_squared_error: 0.0365 - mean_absolute_error: 0.1694 - mean_absolute_percentage_error: 10.9751 - cosine_proximity: 1.0000\n",
      "Epoch 45/50\n",
      "4/4 [==============================] - 0s 34ms/step - loss: 0.0364 - mean_squared_error: 0.0364 - mean_absolute_error: 0.1691 - mean_absolute_percentage_error: 10.9355 - cosine_proximity: 1.0000\n",
      "Epoch 46/50\n",
      "4/4 [==============================] - 0s 33ms/step - loss: 0.0363 - mean_squared_error: 0.0363 - mean_absolute_error: 0.1684 - mean_absolute_percentage_error: 10.8603 - cosine_proximity: 1.0000\n",
      "Epoch 47/50\n",
      "4/4 [==============================] - 0s 32ms/step - loss: 0.0362 - mean_squared_error: 0.0362 - mean_absolute_error: 0.1683 - mean_absolute_percentage_error: 10.8542 - cosine_proximity: 1.0000\n",
      "Epoch 48/50\n",
      "4/4 [==============================] - 0s 33ms/step - loss: 0.0363 - mean_squared_error: 0.0363 - mean_absolute_error: 0.1688 - mean_absolute_percentage_error: 10.9229 - cosine_proximity: 1.0000\n",
      "Epoch 49/50\n",
      "4/4 [==============================] - 0s 33ms/step - loss: 0.0362 - mean_squared_error: 0.0362 - mean_absolute_error: 0.1696 - mean_absolute_percentage_error: 11.0250 - cosine_proximity: 1.0000\n",
      "Epoch 50/50\n",
      "4/4 [==============================] - 0s 33ms/step - loss: 0.0363 - mean_squared_error: 0.0363 - mean_absolute_error: 0.1695 - mean_absolute_percentage_error: 10.9863 - cosine_proximity: 1.0000\n"
     ]
    },
    {
     "data": {
      "image/png": "[encoded data removed]",
      "text/plain": [
       "<Figure size 432x288 with 1 Axes>"
      ]
     },
     "metadata": {
      "needs_background": "light"
     },
     "output_type": "display_data"
    },
    {
     "name": "stdout",
     "output_type": "stream",
     "text": [
      "2/2 [==============================] - 0s 10ms/step - loss: 0.0372 - mean_squared_error: 0.0372 - mean_absolute_error: 0.1763 - mean_absolute_percentage_error: 10.9834 - cosine_proximity: 1.0000\n"
     ]
    },
    {
     "data": {
      "text/plain": [
       "[0.03720187395811081,\n",
       " 0.03720187395811081,\n",
       " 0.17632704973220825,\n",
       " 10.98344612121582,\n",
       " 1.0]"
      ]
     },
     "execution_count": 147,
     "metadata": {},
     "output_type": "execute_result"
    }
   ],
   "source": [
    "model_cap = compile_model(model_cap)\n",
    "history_cap = train_model(model_cap, train_seq_cap, y_train_cap, 50)\n",
    "frame = pd.DataFrame(history_cap.history)\n",
    "acc_plot = frame.plot(y=\"loss\", title=\"Loss vs Epochs\", legend=False)\n",
    "acc_plot.set(xlabel=\"Epochs\", ylabel=\"Loss\", title=\"Loss History for LSTM\")\n",
    "plt.show()\n",
    "evaluate_model(model_cap, test_seq_cap, y_test_cap)"
   ]
  },
  {
   "cell_type": "code",
   "execution_count": 148,
   "id": "085178f6",
   "metadata": {},
   "outputs": [
    {
     "name": "stdout",
     "output_type": "stream",
     "text": [
      "6/6 [==============================] - 0s 12ms/step\n"
     ]
    },
    {
     "data": {
      "text/plain": [
       "Text(0.5, 1.0, 'Estimation of SOH Using LSTM')"
      ]
     },
     "execution_count": 148,
     "metadata": {},
     "output_type": "execute_result"
    },
    {
     "data": {
      "image/png": "[encoded data removed]",
      "text/plain": [
       "<Figure size 432x288 with 1 Axes>"
      ]
     },
     "metadata": {
      "needs_background": "light"
     },
     "output_type": "display_data"
    }
   ],
   "source": [
    "# Estimation of SOH\n",
    "predicted_cap = model_cap.predict(voltage)\n",
    "initial_cap = capacity[0]\n",
    "SOH_pred = predicted_cap / initial_cap * 100\n",
    "SOH_real = capacity / initial_cap * 100\n",
    "plt.plot(SOH_pred)\n",
    "plt.plot(SOH_real)\n",
    "plt.xlabel(\"Cycle\")\n",
    "plt.ylabel(\"SOH\")\n",
    "plt.title(\"Estimation of SOH Using LSTM\")"
   ]
  },
  {
   "cell_type": "markdown",
   "id": "bbc150ca",
   "metadata": {},
   "source": [
    "## Using MLP"
   ]
  },
  {
   "cell_type": "code",
   "execution_count": 160,
   "id": "508ea354",
   "metadata": {},
   "outputs": [],
   "source": [
    "model_MLP = keras.Sequential([\n",
    "    keras.layers.Dense(32, activation=\"relu\", input_shape=(min_num_voltage,)),\n",
    "    keras.layers.Dense(64,activation=\"relu\"),\n",
    "    keras.layers.Dense(128,activation=\"relu\"),\n",
    "#     keras.layers.Dense(1, activation=\"softmax\")\n",
    "    keras.layers.Dense(1)\n",
    "    \n",
    "])"
   ]
  },
  {
   "cell_type": "code",
   "execution_count": 161,
   "id": "577cc5b1",
   "metadata": {},
   "outputs": [
    {
     "name": "stdout",
     "output_type": "stream",
     "text": [
      "Epoch 1/50\n",
      "4/4 [==============================] - 0s 2ms/step - loss: 2.9893 - mean_squared_error: 2.9893 - mean_absolute_error: 1.3769 - mean_absolute_percentage_error: 89.3784 - cosine_proximity: 0.4921\n",
      "Epoch 2/50\n",
      "4/4 [==============================] - 0s 2ms/step - loss: 0.8065 - mean_squared_error: 0.8065 - mean_absolute_error: 0.8359 - mean_absolute_percentage_error: 55.7296 - cosine_proximity: 1.0000\n",
      "Epoch 3/50\n",
      "4/4 [==============================] - 0s 2ms/step - loss: 0.1700 - mean_squared_error: 0.1700 - mean_absolute_error: 0.3507 - mean_absolute_percentage_error: 21.6754 - cosine_proximity: 1.0000\n",
      "Epoch 4/50\n",
      "4/4 [==============================] - 0s 2ms/step - loss: 0.0941 - mean_squared_error: 0.0941 - mean_absolute_error: 0.2431 - mean_absolute_percentage_error: 15.1425 - cosine_proximity: 1.0000\n",
      "Epoch 5/50\n",
      "4/4 [==============================] - 0s 2ms/step - loss: 0.1143 - mean_squared_error: 0.1143 - mean_absolute_error: 0.2911 - mean_absolute_percentage_error: 20.2176 - cosine_proximity: 1.0000\n",
      "Epoch 6/50\n",
      "4/4 [==============================] - 0s 2ms/step - loss: 0.0524 - mean_squared_error: 0.0524 - mean_absolute_error: 0.1910 - mean_absolute_percentage_error: 11.7582 - cosine_proximity: 1.0000\n",
      "Epoch 7/50\n",
      "4/4 [==============================] - 0s 2ms/step - loss: 0.0548 - mean_squared_error: 0.0548 - mean_absolute_error: 0.1947 - mean_absolute_percentage_error: 12.1269 - cosine_proximity: 1.0000\n",
      "Epoch 8/50\n",
      "4/4 [==============================] - 0s 2ms/step - loss: 0.0497 - mean_squared_error: 0.0497 - mean_absolute_error: 0.1967 - mean_absolute_percentage_error: 13.4538 - cosine_proximity: 1.0000\n",
      "Epoch 9/50\n",
      "4/4 [==============================] - 0s 3ms/step - loss: 0.0424 - mean_squared_error: 0.0424 - mean_absolute_error: 0.1663 - mean_absolute_percentage_error: 10.2684 - cosine_proximity: 1.0000\n",
      "Epoch 10/50\n",
      "4/4 [==============================] - 0s 2ms/step - loss: 0.0432 - mean_squared_error: 0.0432 - mean_absolute_error: 0.1804 - mean_absolute_percentage_error: 11.6243 - cosine_proximity: 1.0000\n",
      "Epoch 11/50\n",
      "4/4 [==============================] - 0s 2ms/step - loss: 0.0388 - mean_squared_error: 0.0388 - mean_absolute_error: 0.1726 - mean_absolute_percentage_error: 11.5648 - cosine_proximity: 1.0000\n",
      "Epoch 12/50\n",
      "4/4 [==============================] - 0s 2ms/step - loss: 0.0423 - mean_squared_error: 0.0423 - mean_absolute_error: 0.1651 - mean_absolute_percentage_error: 10.0524 - cosine_proximity: 1.0000\n",
      "Epoch 13/50\n",
      "4/4 [==============================] - 0s 2ms/step - loss: 0.0454 - mean_squared_error: 0.0454 - mean_absolute_error: 0.1912 - mean_absolute_percentage_error: 12.8150 - cosine_proximity: 1.0000\n",
      "Epoch 14/50\n",
      "4/4 [==============================] - 0s 2ms/step - loss: 0.0350 - mean_squared_error: 0.0350 - mean_absolute_error: 0.1592 - mean_absolute_percentage_error: 10.1078 - cosine_proximity: 1.0000\n",
      "Epoch 15/50\n",
      "4/4 [==============================] - 0s 2ms/step - loss: 0.0396 - mean_squared_error: 0.0396 - mean_absolute_error: 0.1729 - mean_absolute_percentage_error: 11.0299 - cosine_proximity: 1.0000\n",
      "Epoch 16/50\n",
      "4/4 [==============================] - 0s 2ms/step - loss: 0.0350 - mean_squared_error: 0.0350 - mean_absolute_error: 0.1682 - mean_absolute_percentage_error: 11.0496 - cosine_proximity: 1.0000\n",
      "Epoch 17/50\n",
      "4/4 [==============================] - 0s 2ms/step - loss: 0.0374 - mean_squared_error: 0.0374 - mean_absolute_error: 0.1602 - mean_absolute_percentage_error: 9.9815 - cosine_proximity: 1.0000\n",
      "Epoch 18/50\n",
      "4/4 [==============================] - 0s 2ms/step - loss: 0.0371 - mean_squared_error: 0.0371 - mean_absolute_error: 0.1711 - mean_absolute_percentage_error: 11.3174 - cosine_proximity: 1.0000\n",
      "Epoch 19/50\n",
      "4/4 [==============================] - 0s 2ms/step - loss: 0.0371 - mean_squared_error: 0.0371 - mean_absolute_error: 0.1654 - mean_absolute_percentage_error: 10.5011 - cosine_proximity: 1.0000\n",
      "Epoch 20/50\n",
      "4/4 [==============================] - 0s 2ms/step - loss: 0.0354 - mean_squared_error: 0.0354 - mean_absolute_error: 0.1659 - mean_absolute_percentage_error: 10.7316 - cosine_proximity: 1.0000\n",
      "Epoch 21/50\n",
      "4/4 [==============================] - 0s 2ms/step - loss: 0.0360 - mean_squared_error: 0.0360 - mean_absolute_error: 0.1684 - mean_absolute_percentage_error: 10.9476 - cosine_proximity: 1.0000\n",
      "Epoch 22/50\n",
      "4/4 [==============================] - 0s 2ms/step - loss: 0.0350 - mean_squared_error: 0.0350 - mean_absolute_error: 0.1600 - mean_absolute_percentage_error: 10.2009 - cosine_proximity: 1.0000\n",
      "Epoch 23/50\n",
      "4/4 [==============================] - 0s 2ms/step - loss: 0.0341 - mean_squared_error: 0.0341 - mean_absolute_error: 0.1644 - mean_absolute_percentage_error: 10.7103 - cosine_proximity: 1.0000\n",
      "Epoch 24/50\n",
      "4/4 [==============================] - 0s 2ms/step - loss: 0.0341 - mean_squared_error: 0.0341 - mean_absolute_error: 0.1612 - mean_absolute_percentage_error: 10.3482 - cosine_proximity: 1.0000\n",
      "Epoch 25/50\n",
      "4/4 [==============================] - 0s 2ms/step - loss: 0.0350 - mean_squared_error: 0.0350 - mean_absolute_error: 0.1614 - mean_absolute_percentage_error: 10.2526 - cosine_proximity: 1.0000\n",
      "Epoch 26/50\n",
      "4/4 [==============================] - 0s 2ms/step - loss: 0.0371 - mean_squared_error: 0.0371 - mean_absolute_error: 0.1734 - mean_absolute_percentage_error: 11.5438 - cosine_proximity: 1.0000\n",
      "Epoch 27/50\n",
      "4/4 [==============================] - 0s 2ms/step - loss: 0.0358 - mean_squared_error: 0.0358 - mean_absolute_error: 0.1604 - mean_absolute_percentage_error: 10.0413 - cosine_proximity: 1.0000\n",
      "Epoch 28/50\n",
      "4/4 [==============================] - 0s 2ms/step - loss: 0.0349 - mean_squared_error: 0.0349 - mean_absolute_error: 0.1680 - mean_absolute_percentage_error: 10.9859 - cosine_proximity: 1.0000\n",
      "Epoch 29/50\n",
      "4/4 [==============================] - 0s 2ms/step - loss: 0.0343 - mean_squared_error: 0.0343 - mean_absolute_error: 0.1607 - mean_absolute_percentage_error: 10.2928 - cosine_proximity: 1.0000\n",
      "Epoch 30/50\n",
      "4/4 [==============================] - 0s 2ms/step - loss: 0.0334 - mean_squared_error: 0.0334 - mean_absolute_error: 0.1598 - mean_absolute_percentage_error: 10.2605 - cosine_proximity: 1.0000\n",
      "Epoch 31/50\n",
      "4/4 [==============================] - 0s 2ms/step - loss: 0.0346 - mean_squared_error: 0.0346 - mean_absolute_error: 0.1667 - mean_absolute_percentage_error: 10.9400 - cosine_proximity: 1.0000\n",
      "Epoch 32/50\n",
      "4/4 [==============================] - 0s 2ms/step - loss: 0.0373 - mean_squared_error: 0.0373 - mean_absolute_error: 0.1642 - mean_absolute_percentage_error: 10.3633 - cosine_proximity: 1.0000\n",
      "Epoch 33/50\n",
      "4/4 [==============================] - 0s 2ms/step - loss: 0.0341 - mean_squared_error: 0.0341 - mean_absolute_error: 0.1649 - mean_absolute_percentage_error: 10.7752 - cosine_proximity: 1.0000\n",
      "Epoch 34/50\n",
      "4/4 [==============================] - 0s 2ms/step - loss: 0.0341 - mean_squared_error: 0.0341 - mean_absolute_error: 0.1570 - mean_absolute_percentage_error: 9.9412 - cosine_proximity: 1.0000\n",
      "Epoch 35/50\n",
      "4/4 [==============================] - 0s 2ms/step - loss: 0.0342 - mean_squared_error: 0.0342 - mean_absolute_error: 0.1661 - mean_absolute_percentage_error: 10.9155 - cosine_proximity: 1.0000\n",
      "Epoch 36/50\n",
      "4/4 [==============================] - 0s 2ms/step - loss: 0.0332 - mean_squared_error: 0.0332 - mean_absolute_error: 0.1576 - mean_absolute_percentage_error: 10.0393 - cosine_proximity: 1.0000\n",
      "Epoch 37/50\n",
      "4/4 [==============================] - 0s 2ms/step - loss: 0.0347 - mean_squared_error: 0.0347 - mean_absolute_error: 0.1664 - mean_absolute_percentage_error: 10.9663 - cosine_proximity: 1.0000\n",
      "Epoch 38/50\n",
      "4/4 [==============================] - 0s 2ms/step - loss: 0.0367 - mean_squared_error: 0.0367 - mean_absolute_error: 0.1624 - mean_absolute_percentage_error: 10.1768 - cosine_proximity: 1.0000\n",
      "Epoch 39/50\n",
      "4/4 [==============================] - 0s 1ms/step - loss: 0.0345 - mean_squared_error: 0.0345 - mean_absolute_error: 0.1677 - mean_absolute_percentage_error: 11.1021 - cosine_proximity: 1.0000\n",
      "Epoch 40/50\n"
     ]
    },
    {
     "name": "stdout",
     "output_type": "stream",
     "text": [
      "4/4 [==============================] - 0s 2ms/step - loss: 0.0365 - mean_squared_error: 0.0365 - mean_absolute_error: 0.1605 - mean_absolute_percentage_error: 9.9931 - cosine_proximity: 1.0000\n",
      "Epoch 41/50\n",
      "4/4 [==============================] - 0s 2ms/step - loss: 0.0390 - mean_squared_error: 0.0390 - mean_absolute_error: 0.1767 - mean_absolute_percentage_error: 11.8375 - cosine_proximity: 1.0000\n",
      "Epoch 42/50\n",
      "4/4 [==============================] - 0s 2ms/step - loss: 0.0363 - mean_squared_error: 0.0363 - mean_absolute_error: 0.1603 - mean_absolute_percentage_error: 9.9690 - cosine_proximity: 1.0000\n",
      "Epoch 43/50\n",
      "4/4 [==============================] - 0s 2ms/step - loss: 0.0340 - mean_squared_error: 0.0340 - mean_absolute_error: 0.1659 - mean_absolute_percentage_error: 10.9755 - cosine_proximity: 1.0000\n",
      "Epoch 44/50\n",
      "4/4 [==============================] - 0s 2ms/step - loss: 0.0346 - mean_squared_error: 0.0346 - mean_absolute_error: 0.1579 - mean_absolute_percentage_error: 9.9505 - cosine_proximity: 1.0000\n",
      "Epoch 45/50\n",
      "4/4 [==============================] - 0s 2ms/step - loss: 0.0340 - mean_squared_error: 0.0340 - mean_absolute_error: 0.1652 - mean_absolute_percentage_error: 10.8769 - cosine_proximity: 1.0000\n",
      "Epoch 46/50\n",
      "4/4 [==============================] - 0s 2ms/step - loss: 0.0332 - mean_squared_error: 0.0332 - mean_absolute_error: 0.1572 - mean_absolute_percentage_error: 10.0157 - cosine_proximity: 1.0000\n",
      "Epoch 47/50\n",
      "4/4 [==============================] - 0s 1ms/step - loss: 0.0326 - mean_squared_error: 0.0326 - mean_absolute_error: 0.1629 - mean_absolute_percentage_error: 10.6316 - cosine_proximity: 1.0000\n",
      "Epoch 48/50\n",
      "4/4 [==============================] - 0s 2ms/step - loss: 0.0336 - mean_squared_error: 0.0336 - mean_absolute_error: 0.1627 - mean_absolute_percentage_error: 10.4855 - cosine_proximity: 1.0000\n",
      "Epoch 49/50\n",
      "4/4 [==============================] - 0s 2ms/step - loss: 0.0326 - mean_squared_error: 0.0326 - mean_absolute_error: 0.1568 - mean_absolute_percentage_error: 9.9942 - cosine_proximity: 1.0000\n",
      "Epoch 50/50\n",
      "4/4 [==============================] - 0s 2ms/step - loss: 0.0320 - mean_squared_error: 0.0320 - mean_absolute_error: 0.1582 - mean_absolute_percentage_error: 10.2248 - cosine_proximity: 1.0000\n"
     ]
    },
    {
     "data": {
      "image/png": "[encoded data removed]",
      "text/plain": [
       "<Figure size 432x288 with 1 Axes>"
      ]
     },
     "metadata": {
      "needs_background": "light"
     },
     "output_type": "display_data"
    },
    {
     "name": "stdout",
     "output_type": "stream",
     "text": [
      "2/2 [==============================] - 0s 12ms/step - loss: 0.0372 - mean_squared_error: 0.0372 - mean_absolute_error: 0.1763 - mean_absolute_percentage_error: 10.9834 - cosine_proximity: 1.0000\n"
     ]
    },
    {
     "data": {
      "text/plain": [
       "[0.03720187395811081,\n",
       " 0.03720187395811081,\n",
       " 0.17632704973220825,\n",
       " 10.98344612121582,\n",
       " 1.0]"
      ]
     },
     "execution_count": 161,
     "metadata": {},
     "output_type": "execute_result"
    }
   ],
   "source": [
    "model_cap_MLP = compile_model(model_MLP)\n",
    "history_cap = train_model(model_MLP, train_seq_cap, y_train_cap, 50)\n",
    "frame = pd.DataFrame(history_cap.history)\n",
    "acc_plot = frame.plot(y=\"loss\", title=\"Loss vs Epochs\", legend=False)\n",
    "acc_plot.set(xlabel=\"Epochs\", ylabel=\"Loss\", title=\"Loss History for LSTM\")\n",
    "plt.show()\n",
    "evaluate_model(model_cap, test_seq_cap, y_test_cap)"
   ]
  },
  {
   "cell_type": "code",
   "execution_count": 162,
   "id": "34c494bd",
   "metadata": {},
   "outputs": [
    {
     "name": "stdout",
     "output_type": "stream",
     "text": [
      "6/6 [==============================] - 0s 1ms/step\n"
     ]
    },
    {
     "data": {
      "text/plain": [
       "(168, 1)"
      ]
     },
     "execution_count": 162,
     "metadata": {},
     "output_type": "execute_result"
    },
    {
     "data": {
      "image/png": "[encoded data removed]",
      "text/plain": [
       "<Figure size 432x288 with 1 Axes>"
      ]
     },
     "metadata": {
      "needs_background": "light"
     },
     "output_type": "display_data"
    }
   ],
   "source": [
    "# Estimation of SOH\n",
    "predicted_cap_MLP = model_cap_MLP.predict(voltage)\n",
    "initial_cap_MLP = capacity[0]\n",
    "SOH_pred_MLP = predicted_cap / initial_cap * 100\n",
    "SOH_real_MLP = capacity / initial_cap * 100\n",
    "plt.plot(SOH_pred)\n",
    "plt.plot(SOH_real)\n",
    "plt.xlabel(\"Cycle\")\n",
    "plt.ylabel(\"SOH\")\n",
    "plt.title(\"Estimation of SOH Using MLP\")\n",
    "\n",
    "\n",
    "SOH_pred.shape\n",
    "# SOH_real.shape"
   ]
  },
  {
   "cell_type": "code",
   "execution_count": null,
   "id": "0731e1a3",
   "metadata": {},
   "outputs": [],
   "source": []
  },
  {
   "cell_type": "code",
   "execution_count": null,
   "id": "e64672e8",
   "metadata": {},
   "outputs": [],
   "source": []
  }
 ],
 "metadata": {
  "colab": {
   "provenance": []
  },
  "kernelspec": {
   "display_name": "Python 3 (ipykernel)",
   "language": "python",
   "name": "python3"
  },
  "language_info": {
   "codemirror_mode": {
    "name": "ipython",
    "version": 3
   },
   "file_extension": ".py",
   "mimetype": "text/x-python",
   "name": "python",
   "nbconvert_exporter": "python",
   "pygments_lexer": "ipython3",
   "version": "3.9.6"
  }
 },
 "nbformat": 4,
 "nbformat_minor": 5
}
