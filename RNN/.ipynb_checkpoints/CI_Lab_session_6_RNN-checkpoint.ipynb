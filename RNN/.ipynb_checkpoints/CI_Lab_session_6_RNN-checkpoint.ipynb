{
 "cells": [
  {
   "cell_type": "markdown",
   "metadata": {
    "id": "UgwO3T3agMdY"
   },
   "source": [
    "# Comutational Intelligence Lab - Session No. 6\n",
    "## Alyar Shadbakhsh, Reza Hendi, Mohammad Hossein Karimi\n",
    "----"
   ]
  },
  {
   "cell_type": "markdown",
   "metadata": {
    "id": "7PCtKL7Ugtth"
   },
   "source": [
    "# Packages\n",
    "---"
   ]
  },
  {
   "cell_type": "code",
   "execution_count": 12,
   "metadata": {
    "id": "fsyQ99OsYnOY"
   },
   "outputs": [],
   "source": [
    "import numpy as np\n",
    "import tensorflow as tf\n",
    "from tensorflow import keras\n",
    "import matplotlib.pyplot as plt\n",
    "import pandas as pd\n",
    "import json\n",
    "from sklearn.model_selection import train_test_split"
   ]
  },
  {
   "cell_type": "markdown",
   "metadata": {
    "id": "mkNIjQ6Xgx5g"
   },
   "source": [
    "# Dataset Loading\n",
    "---"
   ]
  },
  {
   "cell_type": "code",
   "execution_count": 85,
   "metadata": {
    "id": "0RElNVq6yAyg"
   },
   "outputs": [],
   "source": [
    "def extract_data(window_length, time_shift):\n",
    "    \"\"\" Extracts neccessary features with given window length and time shift.\n",
    "    \"\"\"\n",
    "    battery_voltage = []\n",
    "    next_value = []\n",
    "    capacity = []\n",
    "    with open(\"Nasa_LiB_B5_discharge.json\", \"r\") as f:\n",
    "        data = json.load(f)\n",
    "        for i in data.keys():\n",
    "            battery_voltage.append(data[f\"{i}\"][\"voltage_battery\"][:100])\n",
    "            next_value.append(data[f\"{i}\"][\"voltage_battery\"][99+time_shift:99+time_shift+window_length])\n",
    "            capacity.append(data[f\"{i}\"][\"Capacity\"][0])\n",
    "\n",
    "    battery_voltage = np.array(battery_voltage)\n",
    "    next_value = np.array(next_value)\n",
    "\n",
    "    battery_voltage = battery_voltage[...,np.newaxis]\n",
    "    return battery_voltage, next_value, capacity "
   ]
  },
  {
   "cell_type": "code",
   "execution_count": 86,
   "metadata": {
    "id": "hC29TK9RaQ3b"
   },
   "outputs": [
    {
     "name": "stderr",
     "output_type": "stream",
     "text": [
      "<ipython-input-85-5f69784f40e4>:15: VisibleDeprecationWarning: Creating an ndarray from ragged nested sequences (which is a list-or-tuple of lists-or-tuples-or ndarrays with different lengths or shapes) is deprecated. If you meant to do this, you must specify 'dtype=object' when creating the ndarray.\n",
      "  next_value = np.array(next_value)\n"
     ]
    }
   ],
   "source": [
    "# Extracting battery volatge, prediction value for battery voltage, and capacity\n",
    "battery_voltage, next_value, capacity = extract_data(100, 1)"
   ]
  },
  {
   "cell_type": "code",
   "execution_count": 91,
   "metadata": {
    "colab": {
     "base_uri": "https://localhost:8080/",
     "height": 280
    },
    "id": "ltWZY2uchhLW",
    "outputId": "1af73f1a-ce51-4d47-8127-46f0e413f89e"
   },
   "outputs": [
    {
     "name": "stdout",
     "output_type": "stream",
     "text": [
      "(168,)\n"
     ]
    },
    {
     "data": {
      "image/png": "[encoded data removed]",
      "text/plain": [
       "<Figure size 432x288 with 1 Axes>"
      ]
     },
     "metadata": {
      "needs_background": "light"
     },
     "output_type": "display_data"
    }
   ],
   "source": [
    "# Visualization of capacity\n",
    "plt.plot(capacity)\n",
    "plt.xlabel(\"Cycles\")\n",
    "plt.ylabel(\"Capacity\")\n",
    "plt.grid(\"on\")\n",
    "\n",
    "print(next_value.shape)\n",
    "# plt.plot(battery_voltage)\n",
    "# plt.xlabel(\"Cycles\")\n",
    "# plt.ylabel(\"Capacity\")\n",
    "# plt.grid(\"on\")\n",
    "\n",
    "# plt.plot(next_value)\n",
    "# plt.xlabel(\"Cycles\")\n",
    "# plt.ylabel(\"Capacity\")\n",
    "# plt.grid(\"on\")"
   ]
  },
  {
   "cell_type": "markdown",
   "metadata": {
    "id": "9Mf8ljNDjVGM"
   },
   "source": [
    "# Prediction of Next Battery Voltages\n",
    "---"
   ]
  },
  {
   "cell_type": "code",
   "execution_count": 34,
   "metadata": {
    "id": "PmfNvwS93CFZ"
   },
   "outputs": [],
   "source": [
    "# Splitting data into train and test\n",
    "train_seq, test_seq, y_train, y_test = train_test_split(battery_voltage, next_value, test_size=0.25)"
   ]
  },
  {
   "cell_type": "markdown",
   "metadata": {
    "id": "6AlgFa6HhEZd"
   },
   "source": [
    "## Model \n",
    "---"
   ]
  },
  {
   "cell_type": "code",
   "execution_count": 56,
   "metadata": {
    "id": "lzOtoliYZjqV"
   },
   "outputs": [],
   "source": [
    "def get_model(input_shape, rnn_layer, window_length):\n",
    "    \"\"\"\n",
    "    This function should build a Sequential model according to the above specification. Ensure the \n",
    "    weights are initialised by providing the input_shape argument in the first layer, given by the\n",
    "    function argument.\n",
    "    Your function should return the model.\n",
    "    \"\"\"\n",
    "    if rnn_layer == \"simple\":\n",
    "        model = keras.Sequential([\n",
    "            keras.layers.SimpleRNN(25, activation=\"relu\", input_shape=input_shape),\n",
    "            keras.layers.Dense(window_length)\n",
    "        ])\n",
    "    elif rnn_layer == \"lstm\":\n",
    "        model = keras.Sequential([\n",
    "            keras.layers.LSTM(25, activation=\"relu\", input_shape=input_shape),\n",
    "            keras.layers.Dense(window_length)\n",
    "        ])\n",
    "    elif rnn_layer == \"gru\":\n",
    "        model = keras.Sequential([\n",
    "            keras.layers.GRU(25, activation=\"relu\", input_shape=input_shape),\n",
    "            keras.layers.Dense(window_length)\n",
    "        ])\n",
    "    return model"
   ]
  },
  {
   "cell_type": "code",
   "execution_count": 57,
   "metadata": {
    "id": "BEvXnm3gZ0p0"
   },
   "outputs": [],
   "source": [
    "rnn_model_simple = get_model((100, 1), \"simple\", 2)"
   ]
  },
  {
   "cell_type": "code",
   "execution_count": 58,
   "metadata": {
    "colab": {
     "base_uri": "https://localhost:8080/"
    },
    "id": "6YqaMtDTZ5GX",
    "outputId": "3fd3ec6f-e3bf-4747-8a5e-9097982f75bc"
   },
   "outputs": [
    {
     "name": "stdout",
     "output_type": "stream",
     "text": [
      "Model: \"sequential_3\"\n",
      "_________________________________________________________________\n",
      " Layer (type)                Output Shape              Param #   \n",
      "=================================================================\n",
      " simple_rnn_1 (SimpleRNN)    (None, 25)                675       \n",
      "                                                                 \n",
      " dense_3 (Dense)             (None, 2)                 52        \n",
      "                                                                 \n",
      "=================================================================\n",
      "Total params: 727\n",
      "Trainable params: 727\n",
      "Non-trainable params: 0\n",
      "_________________________________________________________________\n"
     ]
    }
   ],
   "source": [
    "rnn_model_simple.summary()"
   ]
  },
  {
   "cell_type": "code",
   "execution_count": 59,
   "metadata": {
    "id": "GfMBs78LqFlh"
   },
   "outputs": [],
   "source": [
    "rnn_model_lstm = get_model((100, 1), \"lstm\", 2)"
   ]
  },
  {
   "cell_type": "code",
   "execution_count": 60,
   "metadata": {
    "colab": {
     "base_uri": "https://localhost:8080/"
    },
    "id": "NfD3mGABqFli",
    "outputId": "c703d283-3c5a-4123-8cf0-8d3e1027bcdd"
   },
   "outputs": [
    {
     "name": "stdout",
     "output_type": "stream",
     "text": [
      "Model: \"sequential_4\"\n",
      "_________________________________________________________________\n",
      " Layer (type)                Output Shape              Param #   \n",
      "=================================================================\n",
      " lstm_1 (LSTM)               (None, 25)                2700      \n",
      "                                                                 \n",
      " dense_4 (Dense)             (None, 2)                 52        \n",
      "                                                                 \n",
      "=================================================================\n",
      "Total params: 2,752\n",
      "Trainable params: 2,752\n",
      "Non-trainable params: 0\n",
      "_________________________________________________________________\n"
     ]
    }
   ],
   "source": [
    "rnn_model_lstm.summary()"
   ]
  },
  {
   "cell_type": "code",
   "execution_count": 61,
   "metadata": {
    "id": "7j4bFVESqFv1"
   },
   "outputs": [],
   "source": [
    "rnn_model_gru = get_model((100, 1), \"gru\", 2)"
   ]
  },
  {
   "cell_type": "code",
   "execution_count": 62,
   "metadata": {
    "colab": {
     "base_uri": "https://localhost:8080/"
    },
    "id": "XzacHeu-qFv2",
    "outputId": "56f45787-6085-4a5a-b7b9-f1810fbf089a"
   },
   "outputs": [
    {
     "name": "stdout",
     "output_type": "stream",
     "text": [
      "Model: \"sequential_5\"\n",
      "_________________________________________________________________\n",
      " Layer (type)                Output Shape              Param #   \n",
      "=================================================================\n",
      " gru_1 (GRU)                 (None, 25)                2100      \n",
      "                                                                 \n",
      " dense_5 (Dense)             (None, 2)                 52        \n",
      "                                                                 \n",
      "=================================================================\n",
      "Total params: 2,152\n",
      "Trainable params: 2,152\n",
      "Non-trainable params: 0\n",
      "_________________________________________________________________\n"
     ]
    }
   ],
   "source": [
    "rnn_model_gru.summary()"
   ]
  },
  {
   "cell_type": "code",
   "execution_count": 63,
   "metadata": {
    "id": "7iZUSlJ6aDxC"
   },
   "outputs": [],
   "source": [
    "def compile_model(model):\n",
    "    \"\"\"\n",
    "    This function takes in the model returned from your get_model function, and compiles it with an optimiser,\n",
    "    loss function and metric.\n",
    "    Compile the model using the Adam optimiser (with default settings), the cross-entropy loss function and\n",
    "    accuracy as the only metric. \n",
    "    Your function doesn't need to return anything; the model will be compiled in-place.\n",
    "    \"\"\"\n",
    "    model.compile(optimizer=\"Adam\", loss=\"mse\", metrics=['accuracy'])\n",
    "    return model"
   ]
  },
  {
   "cell_type": "code",
   "execution_count": 64,
   "metadata": {
    "id": "ghUMNGDPaHuI"
   },
   "outputs": [],
   "source": [
    "rnn_model_simple = compile_model(rnn_model_simple)\n",
    "rnn_model_lstm = compile_model(rnn_model_lstm)\n",
    "rnn_model_gru = compile_model(rnn_model_gru)"
   ]
  },
  {
   "cell_type": "markdown",
   "metadata": {
    "id": "eJrZOwfnhktW"
   },
   "source": [
    "## Training\n",
    "---"
   ]
  },
  {
   "cell_type": "code",
   "execution_count": 65,
   "metadata": {
    "id": "TSI7TM29aTEx"
   },
   "outputs": [],
   "source": [
    "def train_model(model, train_seq, train_labels, epochs, verbose=2):\n",
    "    return model.fit(train_seq, train_labels, epochs=epochs, verbose=verbose)"
   ]
  },
  {
   "cell_type": "code",
   "execution_count": 66,
   "metadata": {
    "colab": {
     "base_uri": "https://localhost:8080/"
    },
    "id": "GfmWO-NnaXNR",
    "outputId": "37853809-27e0-48bc-e4cd-4137da388956"
   },
   "outputs": [
    {
     "name": "stdout",
     "output_type": "stream",
     "text": [
      "Epoch 1/40\n",
      "4/4 - 1s - loss: 8.1454 - accuracy: 1.0000 - 667ms/epoch - 167ms/step\n",
      "Epoch 2/40\n",
      "4/4 - 0s - loss: 7.3922 - accuracy: 1.0000 - 50ms/epoch - 12ms/step\n",
      "Epoch 3/40\n",
      "4/4 - 0s - loss: 6.6523 - accuracy: 1.0000 - 55ms/epoch - 14ms/step\n",
      "Epoch 4/40\n",
      "4/4 - 0s - loss: 6.0021 - accuracy: 1.0000 - 59ms/epoch - 15ms/step\n",
      "Epoch 5/40\n",
      "4/4 - 0s - loss: 5.3218 - accuracy: 1.0000 - 57ms/epoch - 14ms/step\n",
      "Epoch 6/40\n",
      "4/4 - 0s - loss: 4.6610 - accuracy: 1.0000 - 49ms/epoch - 12ms/step\n",
      "Epoch 7/40\n",
      "4/4 - 0s - loss: 3.9340 - accuracy: 1.0000 - 46ms/epoch - 11ms/step\n",
      "Epoch 8/40\n",
      "4/4 - 0s - loss: 3.1055 - accuracy: 1.0000 - 47ms/epoch - 12ms/step\n",
      "Epoch 9/40\n",
      "4/4 - 0s - loss: 2.3486 - accuracy: 1.0000 - 37ms/epoch - 9ms/step\n",
      "Epoch 10/40\n",
      "4/4 - 0s - loss: 1.6434 - accuracy: 1.0000 - 45ms/epoch - 11ms/step\n",
      "Epoch 11/40\n",
      "4/4 - 0s - loss: 1.0959 - accuracy: 1.0000 - 44ms/epoch - 11ms/step\n",
      "Epoch 12/40\n",
      "4/4 - 0s - loss: 0.6922 - accuracy: 1.0000 - 38ms/epoch - 9ms/step\n",
      "Epoch 13/40\n",
      "4/4 - 0s - loss: 0.3742 - accuracy: 1.0000 - 36ms/epoch - 9ms/step\n",
      "Epoch 14/40\n",
      "4/4 - 0s - loss: 0.1647 - accuracy: 1.0000 - 40ms/epoch - 10ms/step\n",
      "Epoch 15/40\n",
      "4/4 - 0s - loss: 0.0558 - accuracy: 1.0000 - 37ms/epoch - 9ms/step\n",
      "Epoch 16/40\n",
      "4/4 - 0s - loss: 0.0072 - accuracy: 1.0000 - 36ms/epoch - 9ms/step\n",
      "Epoch 17/40\n",
      "4/4 - 0s - loss: 0.0054 - accuracy: 0.0000e+00 - 43ms/epoch - 11ms/step\n",
      "Epoch 18/40\n",
      "4/4 - 0s - loss: 0.0154 - accuracy: 0.0000e+00 - 37ms/epoch - 9ms/step\n",
      "Epoch 19/40\n",
      "4/4 - 0s - loss: 0.0208 - accuracy: 0.0000e+00 - 34ms/epoch - 8ms/step\n",
      "Epoch 20/40\n",
      "4/4 - 0s - loss: 0.0178 - accuracy: 0.0000e+00 - 35ms/epoch - 9ms/step\n",
      "Epoch 21/40\n",
      "4/4 - 0s - loss: 0.0099 - accuracy: 0.0000e+00 - 33ms/epoch - 8ms/step\n",
      "Epoch 22/40\n",
      "4/4 - 0s - loss: 0.0040 - accuracy: 0.0000e+00 - 34ms/epoch - 9ms/step\n",
      "Epoch 23/40\n",
      "4/4 - 0s - loss: 6.1097e-04 - accuracy: 0.0000e+00 - 31ms/epoch - 8ms/step\n",
      "Epoch 24/40\n",
      "4/4 - 0s - loss: 2.9892e-04 - accuracy: 0.8333 - 36ms/epoch - 9ms/step\n",
      "Epoch 25/40\n",
      "4/4 - 0s - loss: 7.1116e-04 - accuracy: 1.0000 - 42ms/epoch - 10ms/step\n",
      "Epoch 26/40\n",
      "4/4 - 0s - loss: 0.0011 - accuracy: 1.0000 - 40ms/epoch - 10ms/step\n",
      "Epoch 27/40\n",
      "4/4 - 0s - loss: 9.6825e-04 - accuracy: 1.0000 - 38ms/epoch - 10ms/step\n",
      "Epoch 28/40\n",
      "4/4 - 0s - loss: 6.0182e-04 - accuracy: 1.0000 - 37ms/epoch - 9ms/step\n",
      "Epoch 29/40\n",
      "4/4 - 0s - loss: 2.2500e-04 - accuracy: 1.0000 - 39ms/epoch - 10ms/step\n",
      "Epoch 30/40\n",
      "4/4 - 0s - loss: 6.7326e-05 - accuracy: 1.0000 - 40ms/epoch - 10ms/step\n",
      "Epoch 31/40\n",
      "4/4 - 0s - loss: 4.5534e-05 - accuracy: 0.1508 - 39ms/epoch - 10ms/step\n",
      "Epoch 32/40\n",
      "4/4 - 0s - loss: 8.5393e-05 - accuracy: 0.0000e+00 - 40ms/epoch - 10ms/step\n",
      "Epoch 33/40\n",
      "4/4 - 0s - loss: 1.0201e-04 - accuracy: 0.0000e+00 - 39ms/epoch - 10ms/step\n",
      "Epoch 34/40\n",
      "4/4 - 0s - loss: 8.4451e-05 - accuracy: 0.0000e+00 - 40ms/epoch - 10ms/step\n",
      "Epoch 35/40\n",
      "4/4 - 0s - loss: 5.5849e-05 - accuracy: 0.0000e+00 - 37ms/epoch - 9ms/step\n",
      "Epoch 36/40\n",
      "4/4 - 0s - loss: 3.7538e-05 - accuracy: 0.1667 - 37ms/epoch - 9ms/step\n",
      "Epoch 37/40\n",
      "4/4 - 0s - loss: 3.2152e-05 - accuracy: 0.9127 - 37ms/epoch - 9ms/step\n",
      "Epoch 38/40\n",
      "4/4 - 0s - loss: 3.4054e-05 - accuracy: 1.0000 - 38ms/epoch - 10ms/step\n",
      "Epoch 39/40\n",
      "4/4 - 0s - loss: 3.6061e-05 - accuracy: 1.0000 - 35ms/epoch - 9ms/step\n",
      "Epoch 40/40\n",
      "4/4 - 0s - loss: 3.5878e-05 - accuracy: 1.0000 - 41ms/epoch - 10ms/step\n"
     ]
    }
   ],
   "source": [
    "history_simple = train_model(rnn_model_simple, train_seq, y_train, 40)"
   ]
  },
  {
   "cell_type": "code",
   "execution_count": 67,
   "metadata": {
    "id": "L6yfnAKtaZz7"
   },
   "outputs": [],
   "source": [
    "frame = pd.DataFrame(history_simple.history)"
   ]
  },
  {
   "cell_type": "code",
   "execution_count": 68,
   "metadata": {
    "colab": {
     "base_uri": "https://localhost:8080/",
     "height": 347
    },
    "id": "gZ7KskwcdBgF",
    "outputId": "b9a84197-72ee-48b2-8f89-a23316a12baf"
   },
   "outputs": [
    {
     "data": {
      "text/plain": [
       "[Text(0.5, 0, 'Epochs'),\n",
       " Text(0, 0.5, 'Loss'),\n",
       " Text(0.5, 1.0, 'Loss History for Simple RNN')]"
      ]
     },
     "execution_count": 68,
     "metadata": {},
     "output_type": "execute_result"
    },
    {
     "data": {
      "image/png": "[encoded data removed]",
      "text/plain": [
       "<Figure size 432x288 with 1 Axes>"
      ]
     },
     "metadata": {
      "needs_background": "light"
     },
     "output_type": "display_data"
    }
   ],
   "source": [
    "acc_plot = frame.plot(y=\"loss\", title=\"Loss vs Epochs\", legend=False)\n",
    "acc_plot.set(xlabel=\"Epochs\", ylabel=\"Loss\", title=\"Loss History for Simple RNN\")"
   ]
  },
  {
   "cell_type": "code",
   "execution_count": 69,
   "metadata": {
    "colab": {
     "base_uri": "https://localhost:8080/"
    },
    "id": "aatYU3u_rCDM",
    "outputId": "144d9b69-3292-435f-e3af-5127e1498095"
   },
   "outputs": [
    {
     "name": "stdout",
     "output_type": "stream",
     "text": [
      "Epoch 1/40\n",
      "4/4 - 1s - loss: 21.2482 - accuracy: 0.0000e+00 - 992ms/epoch - 248ms/step\n",
      "Epoch 2/40\n",
      "4/4 - 0s - loss: 15.8104 - accuracy: 0.0000e+00 - 90ms/epoch - 23ms/step\n",
      "Epoch 3/40\n",
      "4/4 - 0s - loss: 13.6641 - accuracy: 0.0000e+00 - 95ms/epoch - 24ms/step\n",
      "Epoch 4/40\n",
      "4/4 - 0s - loss: 12.1623 - accuracy: 0.0000e+00 - 99ms/epoch - 25ms/step\n",
      "Epoch 5/40\n",
      "4/4 - 0s - loss: 10.8642 - accuracy: 0.0000e+00 - 94ms/epoch - 24ms/step\n",
      "Epoch 6/40\n",
      "4/4 - 0s - loss: 9.6223 - accuracy: 0.0000e+00 - 93ms/epoch - 23ms/step\n",
      "Epoch 7/40\n",
      "4/4 - 0s - loss: 8.3540 - accuracy: 0.0000e+00 - 97ms/epoch - 24ms/step\n",
      "Epoch 8/40\n",
      "4/4 - 0s - loss: 6.9820 - accuracy: 0.0000e+00 - 90ms/epoch - 22ms/step\n",
      "Epoch 9/40\n",
      "4/4 - 0s - loss: 5.4187 - accuracy: 0.0000e+00 - 101ms/epoch - 25ms/step\n",
      "Epoch 10/40\n",
      "4/4 - 0s - loss: 3.5379 - accuracy: 0.0000e+00 - 96ms/epoch - 24ms/step\n",
      "Epoch 11/40\n",
      "4/4 - 0s - loss: 1.3021 - accuracy: 0.3651 - 91ms/epoch - 23ms/step\n",
      "Epoch 12/40\n",
      "4/4 - 0s - loss: 0.3725 - accuracy: 1.0000 - 94ms/epoch - 23ms/step\n",
      "Epoch 13/40\n",
      "4/4 - 0s - loss: 0.3927 - accuracy: 1.0000 - 94ms/epoch - 24ms/step\n",
      "Epoch 14/40\n",
      "4/4 - 0s - loss: 0.0280 - accuracy: 1.0000 - 98ms/epoch - 24ms/step\n",
      "Epoch 15/40\n",
      "4/4 - 0s - loss: 0.1345 - accuracy: 1.0000 - 92ms/epoch - 23ms/step\n",
      "Epoch 16/40\n",
      "4/4 - 0s - loss: 0.1261 - accuracy: 1.0000 - 102ms/epoch - 26ms/step\n",
      "Epoch 17/40\n",
      "4/4 - 0s - loss: 0.0442 - accuracy: 1.0000 - 87ms/epoch - 22ms/step\n",
      "Epoch 18/40\n",
      "4/4 - 0s - loss: 0.0072 - accuracy: 1.0000 - 96ms/epoch - 24ms/step\n",
      "Epoch 19/40\n",
      "4/4 - 0s - loss: 0.0232 - accuracy: 1.0000 - 93ms/epoch - 23ms/step\n",
      "Epoch 20/40\n",
      "4/4 - 0s - loss: 0.0234 - accuracy: 1.0000 - 87ms/epoch - 22ms/step\n",
      "Epoch 21/40\n",
      "4/4 - 0s - loss: 0.0063 - accuracy: 1.0000 - 95ms/epoch - 24ms/step\n",
      "Epoch 22/40\n",
      "4/4 - 0s - loss: 0.0026 - accuracy: 1.0000 - 95ms/epoch - 24ms/step\n",
      "Epoch 23/40\n",
      "4/4 - 0s - loss: 0.0058 - accuracy: 1.0000 - 90ms/epoch - 22ms/step\n",
      "Epoch 24/40\n",
      "4/4 - 0s - loss: 0.0041 - accuracy: 1.0000 - 85ms/epoch - 21ms/step\n",
      "Epoch 25/40\n",
      "4/4 - 0s - loss: 7.5852e-04 - accuracy: 1.0000 - 99ms/epoch - 25ms/step\n",
      "Epoch 26/40\n",
      "4/4 - 0s - loss: 5.9940e-04 - accuracy: 1.0000 - 93ms/epoch - 23ms/step\n",
      "Epoch 27/40\n",
      "4/4 - 0s - loss: 0.0012 - accuracy: 1.0000 - 91ms/epoch - 23ms/step\n",
      "Epoch 28/40\n",
      "4/4 - 0s - loss: 4.6061e-04 - accuracy: 0.9524 - 93ms/epoch - 23ms/step\n",
      "Epoch 29/40\n",
      "4/4 - 0s - loss: 5.0442e-05 - accuracy: 0.7540 - 89ms/epoch - 22ms/step\n",
      "Epoch 30/40\n",
      "4/4 - 0s - loss: 2.4989e-04 - accuracy: 0.6190 - 94ms/epoch - 24ms/step\n",
      "Epoch 31/40\n",
      "4/4 - 0s - loss: 2.1007e-04 - accuracy: 0.5238 - 88ms/epoch - 22ms/step\n",
      "Epoch 32/40\n",
      "4/4 - 0s - loss: 3.7728e-05 - accuracy: 0.4921 - 96ms/epoch - 24ms/step\n",
      "Epoch 33/40\n",
      "4/4 - 0s - loss: 5.7783e-05 - accuracy: 0.4921 - 97ms/epoch - 24ms/step\n",
      "Epoch 34/40\n",
      "4/4 - 0s - loss: 8.1881e-05 - accuracy: 0.4921 - 90ms/epoch - 22ms/step\n",
      "Epoch 35/40\n",
      "4/4 - 0s - loss: 3.3217e-05 - accuracy: 0.4921 - 93ms/epoch - 23ms/step\n",
      "Epoch 36/40\n",
      "4/4 - 0s - loss: 2.3009e-05 - accuracy: 0.5159 - 91ms/epoch - 23ms/step\n",
      "Epoch 37/40\n",
      "4/4 - 0s - loss: 3.3872e-05 - accuracy: 0.5397 - 89ms/epoch - 22ms/step\n",
      "Epoch 38/40\n",
      "4/4 - 0s - loss: 2.2422e-05 - accuracy: 0.5556 - 112ms/epoch - 28ms/step\n",
      "Epoch 39/40\n",
      "4/4 - 0s - loss: 1.5673e-05 - accuracy: 0.5794 - 94ms/epoch - 24ms/step\n",
      "Epoch 40/40\n",
      "4/4 - 0s - loss: 1.9370e-05 - accuracy: 0.6190 - 111ms/epoch - 28ms/step\n"
     ]
    }
   ],
   "source": [
    "history_lstm = train_model(rnn_model_lstm, train_seq, y_train, 40)"
   ]
  },
  {
   "cell_type": "code",
   "execution_count": 70,
   "metadata": {
    "id": "5MCxaFEIrCDP"
   },
   "outputs": [],
   "source": [
    "frame = pd.DataFrame(history_lstm.history)"
   ]
  },
  {
   "cell_type": "code",
   "execution_count": 71,
   "metadata": {
    "colab": {
     "base_uri": "https://localhost:8080/",
     "height": 347
    },
    "id": "TqTeVeT7rCDQ",
    "outputId": "8dadc119-3391-4cee-d75c-62f9257ddc26"
   },
   "outputs": [
    {
     "data": {
      "text/plain": [
       "[Text(0.5, 0, 'Epochs'),\n",
       " Text(0, 0.5, 'Loss'),\n",
       " Text(0.5, 1.0, 'Loss History for LSTM')]"
      ]
     },
     "execution_count": 71,
     "metadata": {},
     "output_type": "execute_result"
    },
    {
     "data": {
      "image/png": "[encoded data removed]",
      "text/plain": [
       "<Figure size 432x288 with 1 Axes>"
      ]
     },
     "metadata": {
      "needs_background": "light"
     },
     "output_type": "display_data"
    }
   ],
   "source": [
    "acc_plot = frame.plot(y=\"loss\", title=\"Loss vs Epochs\", legend=False)\n",
    "acc_plot.set(xlabel=\"Epochs\", ylabel=\"Loss\", title=\"Loss History for LSTM\")"
   ]
  },
  {
   "cell_type": "code",
   "execution_count": 72,
   "metadata": {
    "colab": {
     "base_uri": "https://localhost:8080/"
    },
    "id": "m7qKdcaerN0B",
    "outputId": "f9e07d1e-8e73-4ba7-cd39-d75bb306e90a"
   },
   "outputs": [
    {
     "name": "stdout",
     "output_type": "stream",
     "text": [
      "Epoch 1/40\n",
      "4/4 - 1s - loss: 7.2291 - accuracy: 1.0000 - 1s/epoch - 261ms/step\n",
      "Epoch 2/40\n",
      "4/4 - 0s - loss: 6.7342 - accuracy: 1.0000 - 93ms/epoch - 23ms/step\n",
      "Epoch 3/40\n",
      "4/4 - 0s - loss: 6.2285 - accuracy: 1.0000 - 90ms/epoch - 22ms/step\n",
      "Epoch 4/40\n",
      "4/4 - 0s - loss: 5.7014 - accuracy: 1.0000 - 94ms/epoch - 23ms/step\n",
      "Epoch 5/40\n",
      "4/4 - 0s - loss: 5.1486 - accuracy: 1.0000 - 99ms/epoch - 25ms/step\n",
      "Epoch 6/40\n",
      "4/4 - 0s - loss: 4.5683 - accuracy: 1.0000 - 91ms/epoch - 23ms/step\n",
      "Epoch 7/40\n",
      "4/4 - 0s - loss: 3.9563 - accuracy: 1.0000 - 89ms/epoch - 22ms/step\n",
      "Epoch 8/40\n",
      "4/4 - 0s - loss: 3.3131 - accuracy: 1.0000 - 105ms/epoch - 26ms/step\n",
      "Epoch 9/40\n",
      "4/4 - 0s - loss: 2.6333 - accuracy: 1.0000 - 88ms/epoch - 22ms/step\n",
      "Epoch 10/40\n",
      "4/4 - 0s - loss: 1.9229 - accuracy: 1.0000 - 128ms/epoch - 32ms/step\n",
      "Epoch 11/40\n",
      "4/4 - 0s - loss: 1.2087 - accuracy: 1.0000 - 118ms/epoch - 29ms/step\n",
      "Epoch 12/40\n",
      "4/4 - 0s - loss: 0.5538 - accuracy: 1.0000 - 104ms/epoch - 26ms/step\n",
      "Epoch 13/40\n",
      "4/4 - 0s - loss: 0.1307 - accuracy: 1.0000 - 105ms/epoch - 26ms/step\n",
      "Epoch 14/40\n",
      "4/4 - 0s - loss: 0.1331 - accuracy: 1.0000 - 95ms/epoch - 24ms/step\n",
      "Epoch 15/40\n",
      "4/4 - 0s - loss: 0.1685 - accuracy: 1.0000 - 98ms/epoch - 25ms/step\n",
      "Epoch 16/40\n",
      "4/4 - 0s - loss: 0.0348 - accuracy: 1.0000 - 97ms/epoch - 24ms/step\n",
      "Epoch 17/40\n",
      "4/4 - 0s - loss: 0.0110 - accuracy: 0.8968 - 88ms/epoch - 22ms/step\n",
      "Epoch 18/40\n",
      "4/4 - 0s - loss: 0.0359 - accuracy: 0.0000e+00 - 91ms/epoch - 23ms/step\n",
      "Epoch 19/40\n",
      "4/4 - 0s - loss: 0.0269 - accuracy: 0.0000e+00 - 91ms/epoch - 23ms/step\n",
      "Epoch 20/40\n",
      "4/4 - 0s - loss: 0.0078 - accuracy: 0.0000e+00 - 122ms/epoch - 31ms/step\n",
      "Epoch 21/40\n",
      "4/4 - 0s - loss: 0.0033 - accuracy: 0.0000e+00 - 100ms/epoch - 25ms/step\n",
      "Epoch 22/40\n",
      "4/4 - 0s - loss: 0.0045 - accuracy: 0.7460 - 108ms/epoch - 27ms/step\n",
      "Epoch 23/40\n",
      "4/4 - 0s - loss: 0.0033 - accuracy: 1.0000 - 94ms/epoch - 23ms/step\n",
      "Epoch 24/40\n",
      "4/4 - 0s - loss: 0.0015 - accuracy: 1.0000 - 102ms/epoch - 25ms/step\n",
      "Epoch 25/40\n",
      "4/4 - 0s - loss: 0.0012 - accuracy: 1.0000 - 92ms/epoch - 23ms/step\n",
      "Epoch 26/40\n",
      "4/4 - 0s - loss: 7.3463e-04 - accuracy: 1.0000 - 87ms/epoch - 22ms/step\n",
      "Epoch 27/40\n",
      "4/4 - 0s - loss: 1.8637e-04 - accuracy: 0.2540 - 100ms/epoch - 25ms/step\n",
      "Epoch 28/40\n",
      "4/4 - 0s - loss: 1.7461e-04 - accuracy: 0.0000e+00 - 105ms/epoch - 26ms/step\n",
      "Epoch 29/40\n",
      "4/4 - 0s - loss: 3.0433e-04 - accuracy: 0.0000e+00 - 104ms/epoch - 26ms/step\n",
      "Epoch 30/40\n",
      "4/4 - 0s - loss: 1.9706e-04 - accuracy: 0.0000e+00 - 114ms/epoch - 29ms/step\n",
      "Epoch 31/40\n",
      "4/4 - 0s - loss: 5.3838e-05 - accuracy: 0.0000e+00 - 97ms/epoch - 24ms/step\n",
      "Epoch 32/40\n",
      "4/4 - 0s - loss: 3.9686e-05 - accuracy: 0.4127 - 95ms/epoch - 24ms/step\n",
      "Epoch 33/40\n",
      "4/4 - 0s - loss: 4.4481e-05 - accuracy: 1.0000 - 92ms/epoch - 23ms/step\n",
      "Epoch 34/40\n",
      "4/4 - 0s - loss: 2.8771e-05 - accuracy: 1.0000 - 109ms/epoch - 27ms/step\n",
      "Epoch 35/40\n",
      "4/4 - 0s - loss: 2.7574e-05 - accuracy: 1.0000 - 107ms/epoch - 27ms/step\n",
      "Epoch 36/40\n",
      "4/4 - 0s - loss: 2.7690e-05 - accuracy: 1.0000 - 97ms/epoch - 24ms/step\n",
      "Epoch 37/40\n",
      "4/4 - 0s - loss: 1.6832e-05 - accuracy: 1.0000 - 99ms/epoch - 25ms/step\n",
      "Epoch 38/40\n",
      "4/4 - 0s - loss: 1.2123e-05 - accuracy: 1.0000 - 97ms/epoch - 24ms/step\n",
      "Epoch 39/40\n",
      "4/4 - 0s - loss: 1.3984e-05 - accuracy: 0.6667 - 99ms/epoch - 25ms/step\n",
      "Epoch 40/40\n",
      "4/4 - 0s - loss: 1.3830e-05 - accuracy: 0.4206 - 100ms/epoch - 25ms/step\n"
     ]
    }
   ],
   "source": [
    "history_gru = train_model(rnn_model_gru, train_seq, y_train, 40)"
   ]
  },
  {
   "cell_type": "code",
   "execution_count": 73,
   "metadata": {
    "id": "YrEV7EavrN0D"
   },
   "outputs": [],
   "source": [
    "frame = pd.DataFrame(history_gru.history)"
   ]
  },
  {
   "cell_type": "code",
   "execution_count": 74,
   "metadata": {
    "colab": {
     "base_uri": "https://localhost:8080/",
     "height": 347
    },
    "id": "xKN13SbdrN0D",
    "outputId": "4c0d5ace-93f1-4e9d-d503-298dc2916461"
   },
   "outputs": [
    {
     "data": {
      "text/plain": [
       "[Text(0.5, 0, 'Epochs'),\n",
       " Text(0, 0.5, 'Loss'),\n",
       " Text(0.5, 1.0, 'Loss History for GRU')]"
      ]
     },
     "execution_count": 74,
     "metadata": {},
     "output_type": "execute_result"
    },
    {
     "data": {
      "image/png": "[encoded data removed]",
      "text/plain": [
       "<Figure size 432x288 with 1 Axes>"
      ]
     },
     "metadata": {
      "needs_background": "light"
     },
     "output_type": "display_data"
    }
   ],
   "source": [
    "acc_plot = frame.plot(y=\"loss\", title=\"Loss vs Epochs\", legend=False)\n",
    "acc_plot.set(xlabel=\"Epochs\", ylabel=\"Loss\", title=\"Loss History for GRU\")"
   ]
  },
  {
   "cell_type": "markdown",
   "metadata": {
    "id": "Gtax-JccnWFs"
   },
   "source": [
    "## Model evaluation\n",
    "----"
   ]
  },
  {
   "cell_type": "code",
   "execution_count": 75,
   "metadata": {
    "id": "CeulkS8FdSeX"
   },
   "outputs": [],
   "source": [
    "def evaluate_model(model, test_seq, y_test):\n",
    "    \"\"\"\n",
    "    This function should evaluate the model on the scaled_test_images and test_labels. \n",
    "    Your function should return a tuple (test_loss, test_accuracy).\n",
    "    \"\"\"\n",
    "    return model.evaluate(test_seq, y_test)"
   ]
  },
  {
   "cell_type": "code",
   "execution_count": 76,
   "metadata": {
    "colab": {
     "base_uri": "https://localhost:8080/"
    },
    "id": "dwvLmkxo4Ozo",
    "outputId": "aadf7eb5-ea06-4f1d-a031-6e829e30e17e"
   },
   "outputs": [
    {
     "name": "stdout",
     "output_type": "stream",
     "text": [
      "Model Evaluation Results: Simple RNN\n",
      "2/2 [==============================] - 0s 5ms/step - loss: 4.4352e-05 - accuracy: 1.0000\n",
      "Model Evaluation Results: LSTM\n",
      "2/2 [==============================] - 0s 7ms/step - loss: 2.2167e-05 - accuracy: 0.5238\n",
      "Model Evaluation Results: GRU\n",
      "2/2 [==============================] - 0s 8ms/step - loss: 1.8119e-05 - accuracy: 0.4762\n"
     ]
    },
    {
     "data": {
      "text/plain": [
       "[1.8119291780749336e-05, 0.4761904776096344]"
      ]
     },
     "execution_count": 76,
     "metadata": {},
     "output_type": "execute_result"
    }
   ],
   "source": [
    "print(\"Model Evaluation Results: Simple RNN\")\n",
    "evaluate_model(rnn_model_simple, test_seq, y_test)\n",
    "\n",
    "print(\"Model Evaluation Results: LSTM\")\n",
    "evaluate_model(rnn_model_lstm, test_seq, y_test)\n",
    "\n",
    "print(\"Model Evaluation Results: GRU\")\n",
    "evaluate_model(rnn_model_gru, test_seq, y_test)\n"
   ]
  },
  {
   "cell_type": "markdown",
   "metadata": {
    "id": "b4JTg-8JxEcE"
   },
   "source": [
    "# Effect of Time Shift and Window Length (Ex. 1)"
   ]
  },
  {
   "cell_type": "code",
   "execution_count": 77,
   "metadata": {
    "colab": {
     "base_uri": "https://localhost:8080/",
     "height": 1000
    },
    "id": "X5GI4wnopBrv",
    "outputId": "16297bac-ff20-43e5-a68c-168c7c94463b"
   },
   "outputs": [
    {
     "name": "stdout",
     "output_type": "stream",
     "text": [
      "====================Time Shift: 0=========================\n"
     ]
    },
    {
     "data": {
      "image/png": "[encoded data removed]",
      "text/plain": [
       "<Figure size 432x288 with 1 Axes>"
      ]
     },
     "metadata": {
      "needs_background": "light"
     },
     "output_type": "display_data"
    },
    {
     "name": "stdout",
     "output_type": "stream",
     "text": [
      "Model Evaluation Results: LSTM\n",
      "2/2 [==============================] - 0s 9ms/step - loss: 5.5615 - accuracy: 1.0000\n",
      "====================Time Shift: 5=========================\n"
     ]
    },
    {
     "data": {
      "image/png": "[encoded data removed]",
      "text/plain": [
       "<Figure size 432x288 with 1 Axes>"
      ]
     },
     "metadata": {
      "needs_background": "light"
     },
     "output_type": "display_data"
    },
    {
     "name": "stdout",
     "output_type": "stream",
     "text": [
      "Model Evaluation Results: LSTM\n",
      "WARNING:tensorflow:5 out of the last 9 calls to <function Model.make_test_function.<locals>.test_function at 0x000001FBE19C9430> triggered tf.function retracing. Tracing is expensive and the excessive number of tracings could be due to (1) creating @tf.function repeatedly in a loop, (2) passing tensors with different shapes, (3) passing Python objects instead of tensors. For (1), please define your @tf.function outside of the loop. For (2), @tf.function has reduce_retracing=True option that can avoid unnecessary retracing. For (3), please refer to https://www.tensorflow.org/guide/function#controlling_retracing and https://www.tensorflow.org/api_docs/python/tf/function for  more details.\n",
      "2/2 [==============================] - 0s 8ms/step - loss: 0.0020 - accuracy: 0.4048\n",
      "====================Time Shift: 10=========================\n"
     ]
    },
    {
     "data": {
      "image/png": "[encoded data removed]",
      "text/plain": [
       "<Figure size 432x288 with 1 Axes>"
      ]
     },
     "metadata": {
      "needs_background": "light"
     },
     "output_type": "display_data"
    },
    {
     "name": "stdout",
     "output_type": "stream",
     "text": [
      "Model Evaluation Results: LSTM\n",
      "WARNING:tensorflow:6 out of the last 11 calls to <function Model.make_test_function.<locals>.test_function at 0x000001FBE497DE50> triggered tf.function retracing. Tracing is expensive and the excessive number of tracings could be due to (1) creating @tf.function repeatedly in a loop, (2) passing tensors with different shapes, (3) passing Python objects instead of tensors. For (1), please define your @tf.function outside of the loop. For (2), @tf.function has reduce_retracing=True option that can avoid unnecessary retracing. For (3), please refer to https://www.tensorflow.org/guide/function#controlling_retracing and https://www.tensorflow.org/api_docs/python/tf/function for  more details.\n",
      "2/2 [==============================] - 0s 8ms/step - loss: 6.9990 - accuracy: 1.0000\n",
      "====================Time Shift: 30=========================\n"
     ]
    },
    {
     "data": {
      "image/png": "[encoded data removed]",
      "text/plain": [
       "<Figure size 432x288 with 1 Axes>"
      ]
     },
     "metadata": {
      "needs_background": "light"
     },
     "output_type": "display_data"
    },
    {
     "name": "stdout",
     "output_type": "stream",
     "text": [
      "Model Evaluation Results: LSTM\n",
      "2/2 [==============================] - 0s 13ms/step - loss: 8.3122e-04 - accuracy: 0.4762\n"
     ]
    }
   ],
   "source": [
    "# effect of time shift\n",
    "time_shifts = [0, 5, 10, 30]\n",
    "for shift in time_shifts:\n",
    "    print(f\"====================Time Shift: {shift}=========================\")\n",
    "    battery_voltage, next_value, capacity = extract_data(2, shift)\n",
    "    train_seq, test_seq, y_train, y_test = train_test_split(battery_voltage, next_value, test_size=0.25)\n",
    "    model = get_model((100, 1), \"lstm\", 2)\n",
    "    model = compile_model(model)\n",
    "    history_lstm = train_model(model, train_seq, y_train, 40, verbose=0)\n",
    "    acc_plot = frame.plot(y=\"loss\", title=\"Loss vs Epochs\", legend=False)\n",
    "    acc_plot.set(xlabel=\"Epochs\", ylabel=\"Loss\", title=\"Loss History for LSTM\")\n",
    "    plt.show()\n",
    "    print(\"Model Evaluation Results: LSTM\")\n",
    "    evaluate_model(model, test_seq, y_test)\n"
   ]
  },
  {
   "cell_type": "code",
   "execution_count": 78,
   "metadata": {
    "colab": {
     "base_uri": "https://localhost:8080/",
     "height": 1000
    },
    "id": "N3zL6bZMx8VI",
    "outputId": "a4d0fc6b-7fdc-4b42-9ea7-cba62f563453"
   },
   "outputs": [
    {
     "name": "stdout",
     "output_type": "stream",
     "text": [
      "====================Window Length: 1=========================\n"
     ]
    },
    {
     "data": {
      "image/png": "[encoded data removed]",
      "text/plain": [
       "<Figure size 432x288 with 1 Axes>"
      ]
     },
     "metadata": {
      "needs_background": "light"
     },
     "output_type": "display_data"
    },
    {
     "name": "stdout",
     "output_type": "stream",
     "text": [
      "Model Evaluation Results: LSTM\n",
      "2/2 [==============================] - 0s 8ms/step - loss: 7.0494e-04 - accuracy: 0.0000e+00\n",
      "====================Window Length: 2=========================\n"
     ]
    },
    {
     "data": {
      "image/png": "[encoded data removed]",
      "text/plain": [
       "<Figure size 432x288 with 1 Axes>"
      ]
     },
     "metadata": {
      "needs_background": "light"
     },
     "output_type": "display_data"
    },
    {
     "name": "stdout",
     "output_type": "stream",
     "text": [
      "Model Evaluation Results: LSTM\n",
      "2/2 [==============================] - 0s 8ms/step - loss: 8.0018 - accuracy: 1.0000\n",
      "====================Window Length: 3=========================\n"
     ]
    },
    {
     "data": {
      "image/png": "[encoded data removed]",
      "text/plain": [
       "<Figure size 432x288 with 1 Axes>"
      ]
     },
     "metadata": {
      "needs_background": "light"
     },
     "output_type": "display_data"
    },
    {
     "name": "stdout",
     "output_type": "stream",
     "text": [
      "Model Evaluation Results: LSTM\n",
      "2/2 [==============================] - 0s 12ms/step - loss: 7.7691 - accuracy: 0.0000e+00\n",
      "====================Window Length: 4=========================\n"
     ]
    },
    {
     "data": {
      "image/png": "[encoded data removed]",
      "text/plain": [
       "<Figure size 432x288 with 1 Axes>"
      ]
     },
     "metadata": {
      "needs_background": "light"
     },
     "output_type": "display_data"
    },
    {
     "name": "stdout",
     "output_type": "stream",
     "text": [
      "Model Evaluation Results: LSTM\n",
      "2/2 [==============================] - 0s 8ms/step - loss: 0.0075 - accuracy: 0.0000e+00\n",
      "====================Window Length: 5=========================\n"
     ]
    },
    {
     "data": {
      "image/png": "[encoded data removed]",
      "text/plain": [
       "<Figure size 432x288 with 1 Axes>"
      ]
     },
     "metadata": {
      "needs_background": "light"
     },
     "output_type": "display_data"
    },
    {
     "name": "stdout",
     "output_type": "stream",
     "text": [
      "Model Evaluation Results: LSTM\n",
      "2/2 [==============================] - 0s 8ms/step - loss: 0.0021 - accuracy: 0.0476\n"
     ]
    }
   ],
   "source": [
    "# effect of window length\n",
    "window_length = [1, 2, 3, 4, 5]\n",
    "for length in window_length:\n",
    "    print(f\"====================Window Length: {length}=========================\")\n",
    "    battery_voltage, next_value, capacity = extract_data(length, 5)\n",
    "    train_seq, test_seq, y_train, y_test = train_test_split(battery_voltage, next_value, test_size=0.25)\n",
    "    model = get_model((100, 1), \"lstm\", length)\n",
    "    model = compile_model(model)\n",
    "    history_lstm = train_model(model, train_seq, y_train, 40, verbose=0)\n",
    "    acc_plot = frame.plot(y=\"loss\", title=\"Loss vs Epochs\", legend=False)\n",
    "    acc_plot.set(xlabel=\"Epochs\", ylabel=\"Loss\", title=\"Loss History for LSTM\")\n",
    "    plt.show()\n",
    "    print(\"Model Evaluation Results: LSTM\")\n",
    "    evaluate_model(model, test_seq, y_test)\n"
   ]
  },
  {
   "cell_type": "markdown",
   "metadata": {
    "id": "0tGrGtyu0iVk"
   },
   "source": [
    "# Estimation of Capacity (Ex. 2)\n",
    "----"
   ]
  },
  {
   "cell_type": "code",
   "execution_count": 92,
   "metadata": {
    "id": "S8hM4nZh3HUu"
   },
   "outputs": [],
   "source": [
    "model = keras.Sequential([\n",
    "    keras.layers.LSTM(80, activation=\"relu\", input_shape=(100, 1)),\n",
    "    keras.layers.Dense(1)\n",
    "])"
   ]
  },
  {
   "cell_type": "code",
   "execution_count": 94,
   "metadata": {
    "colab": {
     "base_uri": "https://localhost:8080/",
     "height": 1000
    },
    "id": "utOddIwg0cTp",
    "outputId": "7a72a97a-45f7-419e-d22a-dcf25bac01c8"
   },
   "outputs": [
    {
     "name": "stdout",
     "output_type": "stream",
     "text": [
      "(168, 100, 1)\n",
      "Epoch 1/100\n",
      "4/4 - 1s - loss: 100.5364 - accuracy: 0.0000e+00 - 1s/epoch - 318ms/step\n",
      "Epoch 2/100\n",
      "4/4 - 0s - loss: 0.1329 - accuracy: 0.0000e+00 - 341ms/epoch - 85ms/step\n",
      "Epoch 3/100\n",
      "4/4 - 0s - loss: 0.2490 - accuracy: 0.0000e+00 - 309ms/epoch - 77ms/step\n",
      "Epoch 4/100\n",
      "4/4 - 0s - loss: 0.3201 - accuracy: 0.0000e+00 - 200ms/epoch - 50ms/step\n",
      "Epoch 5/100\n",
      "4/4 - 0s - loss: 0.3592 - accuracy: 0.0000e+00 - 185ms/epoch - 46ms/step\n",
      "Epoch 6/100\n",
      "4/4 - 0s - loss: 0.3776 - accuracy: 0.0000e+00 - 192ms/epoch - 48ms/step\n",
      "Epoch 7/100\n",
      "4/4 - 0s - loss: 0.3830 - accuracy: 0.0000e+00 - 309ms/epoch - 77ms/step\n",
      "Epoch 8/100\n",
      "4/4 - 0s - loss: 0.3797 - accuracy: 0.0000e+00 - 242ms/epoch - 60ms/step\n",
      "Epoch 9/100\n",
      "4/4 - 0s - loss: 0.3712 - accuracy: 0.0000e+00 - 300ms/epoch - 75ms/step\n",
      "Epoch 10/100\n",
      "4/4 - 0s - loss: 0.3614 - accuracy: 0.0000e+00 - 262ms/epoch - 65ms/step\n",
      "Epoch 11/100\n",
      "4/4 - 0s - loss: 0.3502 - accuracy: 0.0000e+00 - 330ms/epoch - 83ms/step\n",
      "Epoch 12/100\n",
      "4/4 - 0s - loss: 0.3380 - accuracy: 0.0000e+00 - 282ms/epoch - 70ms/step\n",
      "Epoch 13/100\n",
      "4/4 - 0s - loss: 0.3251 - accuracy: 0.0000e+00 - 268ms/epoch - 67ms/step\n",
      "Epoch 14/100\n",
      "4/4 - 0s - loss: 0.3117 - accuracy: 0.0000e+00 - 230ms/epoch - 58ms/step\n",
      "Epoch 15/100\n",
      "4/4 - 0s - loss: 0.2986 - accuracy: 0.0000e+00 - 323ms/epoch - 81ms/step\n",
      "Epoch 16/100\n",
      "4/4 - 0s - loss: 0.2854 - accuracy: 0.0000e+00 - 315ms/epoch - 79ms/step\n",
      "Epoch 17/100\n",
      "4/4 - 0s - loss: 0.2726 - accuracy: 0.0000e+00 - 325ms/epoch - 81ms/step\n",
      "Epoch 18/100\n",
      "4/4 - 0s - loss: 0.2601 - accuracy: 0.0000e+00 - 277ms/epoch - 69ms/step\n",
      "Epoch 19/100\n",
      "4/4 - 0s - loss: 0.2477 - accuracy: 0.0000e+00 - 274ms/epoch - 69ms/step\n",
      "Epoch 20/100\n",
      "4/4 - 0s - loss: 0.2358 - accuracy: 0.0000e+00 - 251ms/epoch - 63ms/step\n",
      "Epoch 21/100\n",
      "4/4 - 0s - loss: 0.2246 - accuracy: 0.0000e+00 - 227ms/epoch - 57ms/step\n",
      "Epoch 22/100\n",
      "4/4 - 0s - loss: 0.2136 - accuracy: 0.0000e+00 - 186ms/epoch - 46ms/step\n",
      "Epoch 23/100\n",
      "4/4 - 0s - loss: 0.2030 - accuracy: 0.0000e+00 - 328ms/epoch - 82ms/step\n",
      "Epoch 24/100\n",
      "4/4 - 0s - loss: 0.1930 - accuracy: 0.0000e+00 - 270ms/epoch - 68ms/step\n",
      "Epoch 25/100\n",
      "4/4 - 0s - loss: 0.1834 - accuracy: 0.0000e+00 - 320ms/epoch - 80ms/step\n",
      "Epoch 26/100\n",
      "4/4 - 0s - loss: 0.1742 - accuracy: 0.0000e+00 - 226ms/epoch - 56ms/step\n",
      "Epoch 27/100\n",
      "4/4 - 0s - loss: 0.1654 - accuracy: 0.0000e+00 - 242ms/epoch - 61ms/step\n",
      "Epoch 28/100\n",
      "4/4 - 0s - loss: 0.1570 - accuracy: 0.0000e+00 - 214ms/epoch - 53ms/step\n",
      "Epoch 29/100\n",
      "4/4 - 0s - loss: 0.1489 - accuracy: 0.0000e+00 - 212ms/epoch - 53ms/step\n",
      "Epoch 30/100\n",
      "4/4 - 0s - loss: 0.1414 - accuracy: 0.0000e+00 - 228ms/epoch - 57ms/step\n",
      "Epoch 31/100\n",
      "4/4 - 0s - loss: 0.1342 - accuracy: 0.0000e+00 - 254ms/epoch - 64ms/step\n",
      "Epoch 32/100\n",
      "4/4 - 0s - loss: 0.1273 - accuracy: 0.0000e+00 - 213ms/epoch - 53ms/step\n",
      "Epoch 33/100\n",
      "4/4 - 0s - loss: 0.1208 - accuracy: 0.0000e+00 - 178ms/epoch - 45ms/step\n",
      "Epoch 34/100\n",
      "4/4 - 0s - loss: 0.1146 - accuracy: 0.0000e+00 - 203ms/epoch - 51ms/step\n",
      "Epoch 35/100\n",
      "4/4 - 0s - loss: 0.1088 - accuracy: 0.0000e+00 - 297ms/epoch - 74ms/step\n",
      "Epoch 36/100\n",
      "4/4 - 0s - loss: 0.1034 - accuracy: 0.0000e+00 - 262ms/epoch - 65ms/step\n",
      "Epoch 37/100\n",
      "4/4 - 0s - loss: 0.0982 - accuracy: 0.0000e+00 - 248ms/epoch - 62ms/step\n",
      "Epoch 38/100\n",
      "4/4 - 0s - loss: 0.0934 - accuracy: 0.0000e+00 - 319ms/epoch - 80ms/step\n",
      "Epoch 39/100\n",
      "4/4 - 0s - loss: 0.0886 - accuracy: 0.0000e+00 - 305ms/epoch - 76ms/step\n",
      "Epoch 40/100\n",
      "4/4 - 0s - loss: 0.0843 - accuracy: 0.0000e+00 - 225ms/epoch - 56ms/step\n",
      "Epoch 41/100\n",
      "4/4 - 0s - loss: 0.0805 - accuracy: 0.0000e+00 - 183ms/epoch - 46ms/step\n",
      "Epoch 42/100\n",
      "4/4 - 0s - loss: 0.0767 - accuracy: 0.0000e+00 - 310ms/epoch - 77ms/step\n",
      "Epoch 43/100\n",
      "4/4 - 0s - loss: 0.0730 - accuracy: 0.0000e+00 - 250ms/epoch - 62ms/step\n",
      "Epoch 44/100\n",
      "4/4 - 0s - loss: 0.0696 - accuracy: 0.0000e+00 - 201ms/epoch - 50ms/step\n",
      "Epoch 45/100\n",
      "4/4 - 0s - loss: 0.0667 - accuracy: 0.0000e+00 - 246ms/epoch - 61ms/step\n",
      "Epoch 46/100\n",
      "4/4 - 0s - loss: 0.0638 - accuracy: 0.0000e+00 - 263ms/epoch - 66ms/step\n",
      "Epoch 47/100\n",
      "4/4 - 0s - loss: 0.0611 - accuracy: 0.0000e+00 - 311ms/epoch - 78ms/step\n",
      "Epoch 48/100\n",
      "4/4 - 0s - loss: 0.0587 - accuracy: 0.0000e+00 - 307ms/epoch - 77ms/step\n",
      "Epoch 49/100\n",
      "4/4 - 0s - loss: 0.0564 - accuracy: 0.0000e+00 - 296ms/epoch - 74ms/step\n",
      "Epoch 50/100\n",
      "4/4 - 0s - loss: 0.0541 - accuracy: 0.0000e+00 - 241ms/epoch - 60ms/step\n",
      "Epoch 51/100\n",
      "4/4 - 0s - loss: 0.0524 - accuracy: 0.0000e+00 - 274ms/epoch - 69ms/step\n",
      "Epoch 52/100\n",
      "4/4 - 0s - loss: 0.0504 - accuracy: 0.0000e+00 - 228ms/epoch - 57ms/step\n",
      "Epoch 53/100\n",
      "4/4 - 0s - loss: 0.0488 - accuracy: 0.0000e+00 - 328ms/epoch - 82ms/step\n",
      "Epoch 54/100\n",
      "4/4 - 0s - loss: 0.0472 - accuracy: 0.0000e+00 - 327ms/epoch - 82ms/step\n",
      "Epoch 55/100\n",
      "4/4 - 0s - loss: 0.0459 - accuracy: 0.0000e+00 - 312ms/epoch - 78ms/step\n",
      "Epoch 56/100\n",
      "4/4 - 0s - loss: 0.0446 - accuracy: 0.0000e+00 - 287ms/epoch - 72ms/step\n",
      "Epoch 57/100\n",
      "4/4 - 0s - loss: 0.0434 - accuracy: 0.0000e+00 - 232ms/epoch - 58ms/step\n",
      "Epoch 58/100\n",
      "4/4 - 0s - loss: 0.0424 - accuracy: 0.0000e+00 - 299ms/epoch - 75ms/step\n",
      "Epoch 59/100\n",
      "4/4 - 0s - loss: 0.0414 - accuracy: 0.0000e+00 - 200ms/epoch - 50ms/step\n",
      "Epoch 60/100\n",
      "4/4 - 0s - loss: 0.0405 - accuracy: 0.0000e+00 - 293ms/epoch - 73ms/step\n",
      "Epoch 61/100\n",
      "4/4 - 0s - loss: 0.0397 - accuracy: 0.0000e+00 - 320ms/epoch - 80ms/step\n",
      "Epoch 62/100\n",
      "4/4 - 0s - loss: 0.0389 - accuracy: 0.0000e+00 - 293ms/epoch - 73ms/step\n",
      "Epoch 63/100\n",
      "4/4 - 0s - loss: 0.0383 - accuracy: 0.0000e+00 - 276ms/epoch - 69ms/step\n",
      "Epoch 64/100\n",
      "4/4 - 0s - loss: 0.0377 - accuracy: 0.0000e+00 - 187ms/epoch - 47ms/step\n",
      "Epoch 65/100\n",
      "4/4 - 0s - loss: 0.0371 - accuracy: 0.0000e+00 - 197ms/epoch - 49ms/step\n",
      "Epoch 66/100\n",
      "4/4 - 0s - loss: 0.0367 - accuracy: 0.0000e+00 - 293ms/epoch - 73ms/step\n",
      "Epoch 67/100\n",
      "4/4 - 0s - loss: 0.0362 - accuracy: 0.0000e+00 - 193ms/epoch - 48ms/step\n",
      "Epoch 68/100\n",
      "4/4 - 0s - loss: 0.0359 - accuracy: 0.0000e+00 - 223ms/epoch - 56ms/step\n",
      "Epoch 69/100\n",
      "4/4 - 0s - loss: 0.0355 - accuracy: 0.0000e+00 - 257ms/epoch - 64ms/step\n",
      "Epoch 70/100\n",
      "4/4 - 0s - loss: 0.0353 - accuracy: 0.0000e+00 - 340ms/epoch - 85ms/step\n",
      "Epoch 71/100\n",
      "4/4 - 0s - loss: 0.0350 - accuracy: 0.0000e+00 - 262ms/epoch - 66ms/step\n",
      "Epoch 72/100\n",
      "4/4 - 0s - loss: 0.0347 - accuracy: 0.0000e+00 - 193ms/epoch - 48ms/step\n",
      "Epoch 73/100\n",
      "4/4 - 0s - loss: 0.0345 - accuracy: 0.0000e+00 - 191ms/epoch - 48ms/step\n",
      "Epoch 74/100\n",
      "4/4 - 0s - loss: 0.0343 - accuracy: 0.0000e+00 - 185ms/epoch - 46ms/step\n",
      "Epoch 75/100\n",
      "4/4 - 0s - loss: 0.0341 - accuracy: 0.0000e+00 - 189ms/epoch - 47ms/step\n",
      "Epoch 76/100\n",
      "4/4 - 0s - loss: 0.0340 - accuracy: 0.0000e+00 - 177ms/epoch - 44ms/step\n",
      "Epoch 77/100\n",
      "4/4 - 0s - loss: 0.0338 - accuracy: 0.0000e+00 - 220ms/epoch - 55ms/step\n",
      "Epoch 78/100\n",
      "4/4 - 0s - loss: 0.0337 - accuracy: 0.0000e+00 - 301ms/epoch - 75ms/step\n",
      "Epoch 79/100\n",
      "4/4 - 0s - loss: 0.0336 - accuracy: 0.0000e+00 - 189ms/epoch - 47ms/step\n",
      "Epoch 80/100\n",
      "4/4 - 0s - loss: 0.0335 - accuracy: 0.0000e+00 - 180ms/epoch - 45ms/step\n",
      "Epoch 81/100\n",
      "4/4 - 0s - loss: 0.0335 - accuracy: 0.0000e+00 - 187ms/epoch - 47ms/step\n",
      "Epoch 82/100\n",
      "4/4 - 0s - loss: 0.0334 - accuracy: 0.0000e+00 - 193ms/epoch - 48ms/step\n",
      "Epoch 83/100\n",
      "4/4 - 0s - loss: 0.0333 - accuracy: 0.0000e+00 - 203ms/epoch - 51ms/step\n",
      "Epoch 84/100\n",
      "4/4 - 0s - loss: 0.0333 - accuracy: 0.0000e+00 - 180ms/epoch - 45ms/step\n",
      "Epoch 85/100\n",
      "4/4 - 0s - loss: 0.0332 - accuracy: 0.0000e+00 - 190ms/epoch - 48ms/step\n",
      "Epoch 86/100\n",
      "4/4 - 0s - loss: 0.0332 - accuracy: 0.0000e+00 - 175ms/epoch - 44ms/step\n",
      "Epoch 87/100\n",
      "4/4 - 0s - loss: 0.0332 - accuracy: 0.0000e+00 - 219ms/epoch - 55ms/step\n",
      "Epoch 88/100\n",
      "4/4 - 0s - loss: 0.0331 - accuracy: 0.0000e+00 - 196ms/epoch - 49ms/step\n",
      "Epoch 89/100\n",
      "4/4 - 0s - loss: 0.0331 - accuracy: 0.0000e+00 - 213ms/epoch - 53ms/step\n",
      "Epoch 90/100\n",
      "4/4 - 0s - loss: 0.0331 - accuracy: 0.0000e+00 - 194ms/epoch - 49ms/step\n",
      "Epoch 91/100\n",
      "4/4 - 0s - loss: 0.0331 - accuracy: 0.0000e+00 - 305ms/epoch - 76ms/step\n",
      "Epoch 92/100\n",
      "4/4 - 0s - loss: 0.0331 - accuracy: 0.0000e+00 - 206ms/epoch - 51ms/step\n",
      "Epoch 93/100\n",
      "4/4 - 0s - loss: 0.0331 - accuracy: 0.0000e+00 - 341ms/epoch - 85ms/step\n",
      "Epoch 94/100\n",
      "4/4 - 0s - loss: 0.0330 - accuracy: 0.0000e+00 - 316ms/epoch - 79ms/step\n",
      "Epoch 95/100\n",
      "4/4 - 0s - loss: 0.0330 - accuracy: 0.0000e+00 - 326ms/epoch - 82ms/step\n",
      "Epoch 96/100\n",
      "4/4 - 0s - loss: 0.0330 - accuracy: 0.0000e+00 - 318ms/epoch - 80ms/step\n",
      "Epoch 97/100\n",
      "4/4 - 0s - loss: 0.0330 - accuracy: 0.0000e+00 - 344ms/epoch - 86ms/step\n",
      "Epoch 98/100\n",
      "4/4 - 0s - loss: 0.0330 - accuracy: 0.0000e+00 - 254ms/epoch - 63ms/step\n",
      "Epoch 99/100\n",
      "4/4 - 0s - loss: 0.0330 - accuracy: 0.0000e+00 - 218ms/epoch - 55ms/step\n",
      "Epoch 100/100\n",
      "4/4 - 0s - loss: 0.0330 - accuracy: 0.0000e+00 - 175ms/epoch - 44ms/step\n"
     ]
    },
    {
     "data": {
      "image/png": "[encoded data removed]",
      "text/plain": [
       "<Figure size 432x288 with 1 Axes>"
      ]
     },
     "metadata": {
      "needs_background": "light"
     },
     "output_type": "display_data"
    },
    {
     "name": "stdout",
     "output_type": "stream",
     "text": [
      "Model Evaluation Results: LSTM\n",
      "2/2 [==============================] - 0s 17ms/step - loss: 0.0316 - accuracy: 0.0000e+00\n"
     ]
    },
    {
     "data": {
      "text/plain": [
       "[0.031601373106241226, 0.0]"
      ]
     },
     "execution_count": 94,
     "metadata": {},
     "output_type": "execute_result"
    }
   ],
   "source": [
    "battery_voltage, next_value, capacity = extract_data(1, 1)\n",
    "capacity = np.array(capacity)\n",
    "train_seq, test_seq, y_train, y_test = train_test_split(battery_voltage, capacity, test_size=0.25)\n",
    "model = compile_model(model)\n",
    "history_lstm = train_model(model, train_seq, y_train, 100, verbose=2)\n",
    "acc_plot = frame.plot(y=\"loss\", title=\"Loss vs Epochs\", legend=False)\n",
    "acc_plot.set(xlabel=\"Epochs\", ylabel=\"Loss\", title=\"Loss History for LSTM\")\n",
    "plt.show()\n",
    "print(\"Model Evaluation Results: LSTM\")\n",
    "evaluate_model(model, test_seq, y_test)"
   ]
  },
  {
   "cell_type": "code",
   "execution_count": 81,
   "metadata": {
    "colab": {
     "base_uri": "https://localhost:8080/",
     "height": 330
    },
    "id": "zzvvMChP1gGD",
    "outputId": "48ddf13e-a8ee-459a-f43c-3392c883d94e"
   },
   "outputs": [
    {
     "name": "stdout",
     "output_type": "stream",
     "text": [
      "6/6 [==============================] - 0s 24ms/step\n"
     ]
    },
    {
     "data": {
      "text/plain": [
       "Text(0.5, 1.0, 'Estimation of SOH Using LSTM')"
      ]
     },
     "execution_count": 81,
     "metadata": {},
     "output_type": "execute_result"
    },
    {
     "data": {
      "image/png": "[encoded data removed]",
      "text/plain": [
       "<Figure size 432x288 with 1 Axes>"
      ]
     },
     "metadata": {
      "needs_background": "light"
     },
     "output_type": "display_data"
    }
   ],
   "source": [
    "# Estimation of SOH\n",
    "predicted_cap = model.predict(battery_voltage)\n",
    "initial_cap = capacity[0]\n",
    "SOH_pred = predicted_cap / initial_cap * 100\n",
    "SOH_real = capacity / initial_cap * 100\n",
    "plt.plot(SOH_pred)\n",
    "plt.plot(SOH_real)\n",
    "plt.xlabel(\"Cycle\")\n",
    "plt.ylabel(\"SOH\")\n",
    "plt.title(\"Estimation of SOH Using LSTM\")"
   ]
  },
  {
   "cell_type": "markdown",
   "metadata": {
    "id": "9HPikKfs4ax8"
   },
   "source": [
    "# Estimation of Capacity Using MLP\n",
    "---"
   ]
  },
  {
   "cell_type": "code",
   "execution_count": 82,
   "metadata": {
    "id": "E-8oeYH92F_F"
   },
   "outputs": [],
   "source": [
    "model = keras.Sequential([\n",
    "    keras.layers.Dense(128, activation=\"relu\", input_shape=(100,)),\n",
    "    keras.layers.Dense(128,activation=\"relu\"),\n",
    "    keras.layers.Dense(1)\n",
    "])"
   ]
  },
  {
   "cell_type": "code",
   "execution_count": 83,
   "metadata": {
    "colab": {
     "base_uri": "https://localhost:8080/",
     "height": 1000
    },
    "id": "DtZACz9b4zew",
    "outputId": "ffc77efc-324c-48a7-dd0d-bc405ca8c0a3"
   },
   "outputs": [
    {
     "name": "stdout",
     "output_type": "stream",
     "text": [
      "Epoch 1/100\n",
      "4/4 - 0s - loss: 5.6393 - accuracy: 0.0000e+00 - 296ms/epoch - 74ms/step\n",
      "Epoch 2/100\n",
      "4/4 - 0s - loss: 1.8976 - accuracy: 0.0000e+00 - 7ms/epoch - 2ms/step\n",
      "Epoch 3/100\n",
      "4/4 - 0s - loss: 1.5588 - accuracy: 0.0000e+00 - 10ms/epoch - 2ms/step\n",
      "Epoch 4/100\n",
      "4/4 - 0s - loss: 0.2770 - accuracy: 0.0000e+00 - 12ms/epoch - 3ms/step\n",
      "Epoch 5/100\n",
      "4/4 - 0s - loss: 0.5979 - accuracy: 0.0000e+00 - 11ms/epoch - 3ms/step\n",
      "Epoch 6/100\n",
      "4/4 - 0s - loss: 0.1211 - accuracy: 0.0000e+00 - 10ms/epoch - 2ms/step\n",
      "Epoch 7/100\n",
      "4/4 - 0s - loss: 0.2812 - accuracy: 0.0000e+00 - 11ms/epoch - 3ms/step\n",
      "Epoch 8/100\n",
      "4/4 - 0s - loss: 0.0639 - accuracy: 0.0000e+00 - 10ms/epoch - 3ms/step\n",
      "Epoch 9/100\n",
      "4/4 - 0s - loss: 0.1371 - accuracy: 0.0000e+00 - 10ms/epoch - 2ms/step\n",
      "Epoch 10/100\n",
      "4/4 - 0s - loss: 0.0555 - accuracy: 0.0000e+00 - 9ms/epoch - 2ms/step\n",
      "Epoch 11/100\n",
      "4/4 - 0s - loss: 0.0770 - accuracy: 0.0000e+00 - 10ms/epoch - 3ms/step\n",
      "Epoch 12/100\n",
      "4/4 - 0s - loss: 0.0549 - accuracy: 0.0000e+00 - 9ms/epoch - 2ms/step\n",
      "Epoch 13/100\n",
      "4/4 - 0s - loss: 0.0489 - accuracy: 0.0000e+00 - 10ms/epoch - 3ms/step\n",
      "Epoch 14/100\n",
      "4/4 - 0s - loss: 0.0505 - accuracy: 0.0000e+00 - 9ms/epoch - 2ms/step\n",
      "Epoch 15/100\n",
      "4/4 - 0s - loss: 0.0384 - accuracy: 0.0000e+00 - 10ms/epoch - 2ms/step\n",
      "Epoch 16/100\n",
      "4/4 - 0s - loss: 0.0441 - accuracy: 0.0000e+00 - 10ms/epoch - 2ms/step\n",
      "Epoch 17/100\n",
      "4/4 - 0s - loss: 0.0357 - accuracy: 0.0000e+00 - 10ms/epoch - 2ms/step\n",
      "Epoch 18/100\n",
      "4/4 - 0s - loss: 0.0380 - accuracy: 0.0000e+00 - 10ms/epoch - 2ms/step\n",
      "Epoch 19/100\n",
      "4/4 - 0s - loss: 0.0347 - accuracy: 0.0000e+00 - 9ms/epoch - 2ms/step\n",
      "Epoch 20/100\n",
      "4/4 - 0s - loss: 0.0352 - accuracy: 0.0000e+00 - 11ms/epoch - 3ms/step\n",
      "Epoch 21/100\n",
      "4/4 - 0s - loss: 0.0345 - accuracy: 0.0000e+00 - 8ms/epoch - 2ms/step\n",
      "Epoch 22/100\n",
      "4/4 - 0s - loss: 0.0340 - accuracy: 0.0000e+00 - 7ms/epoch - 2ms/step\n",
      "Epoch 23/100\n",
      "4/4 - 0s - loss: 0.0347 - accuracy: 0.0000e+00 - 8ms/epoch - 2ms/step\n",
      "Epoch 24/100\n",
      "4/4 - 0s - loss: 0.0341 - accuracy: 0.0000e+00 - 9ms/epoch - 2ms/step\n",
      "Epoch 25/100\n",
      "4/4 - 0s - loss: 0.0350 - accuracy: 0.0000e+00 - 9ms/epoch - 2ms/step\n",
      "Epoch 26/100\n",
      "4/4 - 0s - loss: 0.0357 - accuracy: 0.0000e+00 - 9ms/epoch - 2ms/step\n",
      "Epoch 27/100\n",
      "4/4 - 0s - loss: 0.0343 - accuracy: 0.0000e+00 - 9ms/epoch - 2ms/step\n",
      "Epoch 28/100\n",
      "4/4 - 0s - loss: 0.0344 - accuracy: 0.0000e+00 - 11ms/epoch - 3ms/step\n",
      "Epoch 29/100\n",
      "4/4 - 0s - loss: 0.0346 - accuracy: 0.0000e+00 - 8ms/epoch - 2ms/step\n",
      "Epoch 30/100\n",
      "4/4 - 0s - loss: 0.0344 - accuracy: 0.0000e+00 - 10ms/epoch - 2ms/step\n",
      "Epoch 31/100\n",
      "4/4 - 0s - loss: 0.0340 - accuracy: 0.0000e+00 - 10ms/epoch - 3ms/step\n",
      "Epoch 32/100\n",
      "4/4 - 0s - loss: 0.0344 - accuracy: 0.0000e+00 - 9ms/epoch - 2ms/step\n",
      "Epoch 33/100\n",
      "4/4 - 0s - loss: 0.0339 - accuracy: 0.0000e+00 - 10ms/epoch - 3ms/step\n",
      "Epoch 34/100\n",
      "4/4 - 0s - loss: 0.0339 - accuracy: 0.0000e+00 - 9ms/epoch - 2ms/step\n",
      "Epoch 35/100\n",
      "4/4 - 0s - loss: 0.0346 - accuracy: 0.0000e+00 - 9ms/epoch - 2ms/step\n",
      "Epoch 36/100\n",
      "4/4 - 0s - loss: 0.0337 - accuracy: 0.0000e+00 - 10ms/epoch - 2ms/step\n",
      "Epoch 37/100\n",
      "4/4 - 0s - loss: 0.0347 - accuracy: 0.0000e+00 - 10ms/epoch - 2ms/step\n",
      "Epoch 38/100\n",
      "4/4 - 0s - loss: 0.0359 - accuracy: 0.0000e+00 - 9ms/epoch - 2ms/step\n",
      "Epoch 39/100\n",
      "4/4 - 0s - loss: 0.0375 - accuracy: 0.0000e+00 - 10ms/epoch - 3ms/step\n",
      "Epoch 40/100\n",
      "4/4 - 0s - loss: 0.0339 - accuracy: 0.0000e+00 - 8ms/epoch - 2ms/step\n",
      "Epoch 41/100\n",
      "4/4 - 0s - loss: 0.0381 - accuracy: 0.0000e+00 - 8ms/epoch - 2ms/step\n",
      "Epoch 42/100\n",
      "4/4 - 0s - loss: 0.0342 - accuracy: 0.0000e+00 - 8ms/epoch - 2ms/step\n",
      "Epoch 43/100\n",
      "4/4 - 0s - loss: 0.0343 - accuracy: 0.0000e+00 - 9ms/epoch - 2ms/step\n",
      "Epoch 44/100\n",
      "4/4 - 0s - loss: 0.0351 - accuracy: 0.0000e+00 - 8ms/epoch - 2ms/step\n",
      "Epoch 45/100\n",
      "4/4 - 0s - loss: 0.0360 - accuracy: 0.0000e+00 - 9ms/epoch - 2ms/step\n",
      "Epoch 46/100\n",
      "4/4 - 0s - loss: 0.0351 - accuracy: 0.0000e+00 - 9ms/epoch - 2ms/step\n",
      "Epoch 47/100\n",
      "4/4 - 0s - loss: 0.0357 - accuracy: 0.0000e+00 - 8ms/epoch - 2ms/step\n",
      "Epoch 48/100\n",
      "4/4 - 0s - loss: 0.0345 - accuracy: 0.0000e+00 - 8ms/epoch - 2ms/step\n",
      "Epoch 49/100\n",
      "4/4 - 0s - loss: 0.0344 - accuracy: 0.0000e+00 - 7ms/epoch - 2ms/step\n",
      "Epoch 50/100\n",
      "4/4 - 0s - loss: 0.0345 - accuracy: 0.0000e+00 - 7ms/epoch - 2ms/step\n",
      "Epoch 51/100\n",
      "4/4 - 0s - loss: 0.0341 - accuracy: 0.0000e+00 - 8ms/epoch - 2ms/step\n",
      "Epoch 52/100\n",
      "4/4 - 0s - loss: 0.0349 - accuracy: 0.0000e+00 - 10ms/epoch - 3ms/step\n",
      "Epoch 53/100\n",
      "4/4 - 0s - loss: 0.0337 - accuracy: 0.0000e+00 - 7ms/epoch - 2ms/step\n",
      "Epoch 54/100\n",
      "4/4 - 0s - loss: 0.0344 - accuracy: 0.0000e+00 - 8ms/epoch - 2ms/step\n",
      "Epoch 55/100\n",
      "4/4 - 0s - loss: 0.0337 - accuracy: 0.0000e+00 - 9ms/epoch - 2ms/step\n",
      "Epoch 56/100\n",
      "4/4 - 0s - loss: 0.0344 - accuracy: 0.0000e+00 - 8ms/epoch - 2ms/step\n",
      "Epoch 57/100\n",
      "4/4 - 0s - loss: 0.0348 - accuracy: 0.0000e+00 - 9ms/epoch - 2ms/step\n",
      "Epoch 58/100\n",
      "4/4 - 0s - loss: 0.0371 - accuracy: 0.0000e+00 - 9ms/epoch - 2ms/step\n",
      "Epoch 59/100\n",
      "4/4 - 0s - loss: 0.0364 - accuracy: 0.0000e+00 - 7ms/epoch - 2ms/step\n",
      "Epoch 60/100\n",
      "4/4 - 0s - loss: 0.0343 - accuracy: 0.0000e+00 - 7ms/epoch - 2ms/step\n",
      "Epoch 61/100\n",
      "4/4 - 0s - loss: 0.0348 - accuracy: 0.0000e+00 - 8ms/epoch - 2ms/step\n",
      "Epoch 62/100\n",
      "4/4 - 0s - loss: 0.0353 - accuracy: 0.0000e+00 - 15ms/epoch - 4ms/step\n",
      "Epoch 63/100\n",
      "4/4 - 0s - loss: 0.0344 - accuracy: 0.0000e+00 - 9ms/epoch - 2ms/step\n",
      "Epoch 64/100\n",
      "4/4 - 0s - loss: 0.0352 - accuracy: 0.0000e+00 - 8ms/epoch - 2ms/step\n",
      "Epoch 65/100\n",
      "4/4 - 0s - loss: 0.0355 - accuracy: 0.0000e+00 - 7ms/epoch - 2ms/step\n",
      "Epoch 66/100\n",
      "4/4 - 0s - loss: 0.0375 - accuracy: 0.0000e+00 - 7ms/epoch - 2ms/step\n",
      "Epoch 67/100\n",
      "4/4 - 0s - loss: 0.0407 - accuracy: 0.0000e+00 - 9ms/epoch - 2ms/step\n",
      "Epoch 68/100\n",
      "4/4 - 0s - loss: 0.0400 - accuracy: 0.0000e+00 - 9ms/epoch - 2ms/step\n",
      "Epoch 69/100\n",
      "4/4 - 0s - loss: 0.0354 - accuracy: 0.0000e+00 - 8ms/epoch - 2ms/step\n",
      "Epoch 70/100\n",
      "4/4 - 0s - loss: 0.0362 - accuracy: 0.0000e+00 - 7ms/epoch - 2ms/step\n",
      "Epoch 71/100\n",
      "4/4 - 0s - loss: 0.0350 - accuracy: 0.0000e+00 - 8ms/epoch - 2ms/step\n",
      "Epoch 72/100\n",
      "4/4 - 0s - loss: 0.0339 - accuracy: 0.0000e+00 - 9ms/epoch - 2ms/step\n",
      "Epoch 73/100\n",
      "4/4 - 0s - loss: 0.0345 - accuracy: 0.0000e+00 - 6ms/epoch - 2ms/step\n",
      "Epoch 74/100\n",
      "4/4 - 0s - loss: 0.0340 - accuracy: 0.0000e+00 - 6ms/epoch - 1ms/step\n",
      "Epoch 75/100\n",
      "4/4 - 0s - loss: 0.0343 - accuracy: 0.0000e+00 - 8ms/epoch - 2ms/step\n",
      "Epoch 76/100\n",
      "4/4 - 0s - loss: 0.0340 - accuracy: 0.0000e+00 - 8ms/epoch - 2ms/step\n",
      "Epoch 77/100\n",
      "4/4 - 0s - loss: 0.0338 - accuracy: 0.0000e+00 - 8ms/epoch - 2ms/step\n",
      "Epoch 78/100\n",
      "4/4 - 0s - loss: 0.0343 - accuracy: 0.0000e+00 - 9ms/epoch - 2ms/step\n",
      "Epoch 79/100\n",
      "4/4 - 0s - loss: 0.0361 - accuracy: 0.0000e+00 - 7ms/epoch - 2ms/step\n",
      "Epoch 80/100\n",
      "4/4 - 0s - loss: 0.0352 - accuracy: 0.0000e+00 - 8ms/epoch - 2ms/step\n",
      "Epoch 81/100\n",
      "4/4 - 0s - loss: 0.0333 - accuracy: 0.0000e+00 - 6ms/epoch - 1ms/step\n",
      "Epoch 82/100\n",
      "4/4 - 0s - loss: 0.0346 - accuracy: 0.0000e+00 - 7ms/epoch - 2ms/step\n",
      "Epoch 83/100\n",
      "4/4 - 0s - loss: 0.0379 - accuracy: 0.0000e+00 - 8ms/epoch - 2ms/step\n",
      "Epoch 84/100\n",
      "4/4 - 0s - loss: 0.0365 - accuracy: 0.0000e+00 - 8ms/epoch - 2ms/step\n",
      "Epoch 85/100\n",
      "4/4 - 0s - loss: 0.0371 - accuracy: 0.0000e+00 - 8ms/epoch - 2ms/step\n",
      "Epoch 86/100\n",
      "4/4 - 0s - loss: 0.0389 - accuracy: 0.0000e+00 - 9ms/epoch - 2ms/step\n",
      "Epoch 87/100\n",
      "4/4 - 0s - loss: 0.0337 - accuracy: 0.0000e+00 - 8ms/epoch - 2ms/step\n",
      "Epoch 88/100\n",
      "4/4 - 0s - loss: 0.0339 - accuracy: 0.0000e+00 - 8ms/epoch - 2ms/step\n",
      "Epoch 89/100\n",
      "4/4 - 0s - loss: 0.0345 - accuracy: 0.0000e+00 - 9ms/epoch - 2ms/step\n",
      "Epoch 90/100\n",
      "4/4 - 0s - loss: 0.0342 - accuracy: 0.0000e+00 - 8ms/epoch - 2ms/step\n",
      "Epoch 91/100\n",
      "4/4 - 0s - loss: 0.0348 - accuracy: 0.0000e+00 - 8ms/epoch - 2ms/step\n",
      "Epoch 92/100\n",
      "4/4 - 0s - loss: 0.0353 - accuracy: 0.0000e+00 - 8ms/epoch - 2ms/step\n",
      "Epoch 93/100\n",
      "4/4 - 0s - loss: 0.0347 - accuracy: 0.0000e+00 - 8ms/epoch - 2ms/step\n",
      "Epoch 94/100\n",
      "4/4 - 0s - loss: 0.0364 - accuracy: 0.0000e+00 - 7ms/epoch - 2ms/step\n",
      "Epoch 95/100\n",
      "4/4 - 0s - loss: 0.0369 - accuracy: 0.0000e+00 - 7ms/epoch - 2ms/step\n",
      "Epoch 96/100\n",
      "4/4 - 0s - loss: 0.0355 - accuracy: 0.0000e+00 - 7ms/epoch - 2ms/step\n",
      "Epoch 97/100\n",
      "4/4 - 0s - loss: 0.0350 - accuracy: 0.0000e+00 - 9ms/epoch - 2ms/step\n",
      "Epoch 98/100\n",
      "4/4 - 0s - loss: 0.0389 - accuracy: 0.0000e+00 - 8ms/epoch - 2ms/step\n",
      "Epoch 99/100\n",
      "4/4 - 0s - loss: 0.0378 - accuracy: 0.0000e+00 - 9ms/epoch - 2ms/step\n",
      "Epoch 100/100\n",
      "4/4 - 0s - loss: 0.0344 - accuracy: 0.0000e+00 - 9ms/epoch - 2ms/step\n"
     ]
    },
    {
     "data": {
      "image/png": "[encoded data removed]",
      "text/plain": [
       "<Figure size 432x288 with 1 Axes>"
      ]
     },
     "metadata": {
      "needs_background": "light"
     },
     "output_type": "display_data"
    },
    {
     "name": "stdout",
     "output_type": "stream",
     "text": [
      "Model Evaluation Results: MLP\n",
      "2/2 [==============================] - 0s 3ms/step - loss: 0.0325 - accuracy: 0.0000e+00\n"
     ]
    },
    {
     "data": {
      "text/plain": [
       "[0.03248749300837517, 0.0]"
      ]
     },
     "execution_count": 83,
     "metadata": {},
     "output_type": "execute_result"
    }
   ],
   "source": [
    "battery_voltage, next_value, capacity = extract_data(1, 1)\n",
    "capacity = np.array(capacity)\n",
    "train_seq, test_seq, y_train, y_test = train_test_split(battery_voltage, capacity, test_size=0.25)\n",
    "model = compile_model(model)\n",
    "history_lstm = train_model(model, train_seq, y_train, 100, verbose=2)\n",
    "acc_plot = frame.plot(y=\"loss\", title=\"Loss vs Epochs\", legend=False)\n",
    "acc_plot.set(xlabel=\"Epochs\", ylabel=\"Loss\", title=\"Loss History for MLP\")\n",
    "plt.show()\n",
    "print(\"Model Evaluation Results: MLP\")\n",
    "evaluate_model(model, test_seq, y_test)"
   ]
  },
  {
   "cell_type": "code",
   "execution_count": 84,
   "metadata": {
    "colab": {
     "base_uri": "https://localhost:8080/",
     "height": 330
    },
    "id": "zXErlYcH47VI",
    "outputId": "1517613a-9040-43bd-de31-c8e311f9c968"
   },
   "outputs": [
    {
     "name": "stdout",
     "output_type": "stream",
     "text": [
      "6/6 [==============================] - 0s 1ms/step\n"
     ]
    },
    {
     "data": {
      "text/plain": [
       "Text(0.5, 1.0, 'Estimation of SOH Using MLP')"
      ]
     },
     "execution_count": 84,
     "metadata": {},
     "output_type": "execute_result"
    },
    {
     "data": {
      "image/png": "[encoded data removed]",
      "text/plain": [
       "<Figure size 432x288 with 1 Axes>"
      ]
     },
     "metadata": {
      "needs_background": "light"
     },
     "output_type": "display_data"
    }
   ],
   "source": [
    "# Estimation of SOH\n",
    "predicted_cap = model.predict(battery_voltage)\n",
    "initial_cap = capacity[0]\n",
    "SOH_pred = predicted_cap / initial_cap * 100\n",
    "SOH_real = capacity / initial_cap * 100\n",
    "plt.plot(SOH_pred)\n",
    "plt.plot(SOH_real)\n",
    "plt.xlabel(\"Cycle\")\n",
    "plt.ylabel(\"SOH\")\n",
    "plt.title(\"Estimation of SOH Using MLP\")"
   ]
  }
 ],
 "metadata": {
  "colab": {
   "provenance": []
  },
  "gpuClass": "standard",
  "kernelspec": {
   "display_name": "Python 3 (ipykernel)",
   "language": "python",
   "name": "python3"
  },
  "language_info": {
   "codemirror_mode": {
    "name": "ipython",
    "version": 3
   },
   "file_extension": ".py",
   "mimetype": "text/x-python",
   "name": "python",
   "nbconvert_exporter": "python",
   "pygments_lexer": "ipython3",
   "version": "3.9.6"
  }
 },
 "nbformat": 4,
 "nbformat_minor": 4
}
