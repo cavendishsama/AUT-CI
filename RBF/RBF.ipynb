{
 "cells": [
  {
   "cell_type": "markdown",
   "id": "cb0d5c6f",
   "metadata": {},
   "source": [
    "# Importing Libraries"
   ]
  },
  {
   "cell_type": "code",
   "execution_count": 1,
   "id": "5f19f9dd",
   "metadata": {},
   "outputs": [],
   "source": [
    "import numpy as np\n",
    "import matplotlib.pyplot as plt\n",
    "import random\n",
    "from sklearn.cluster import KMeans"
   ]
  },
  {
   "cell_type": "markdown",
   "id": "c3fece9a",
   "metadata": {},
   "source": [
    "# Gaussian Distribution"
   ]
  },
  {
   "cell_type": "code",
   "execution_count": 2,
   "id": "30ceb8af-eeb2-400e-84f0-c09f0704a37e",
   "metadata": {},
   "outputs": [],
   "source": [
    "def gauss(X, mu, sigma):\n",
    "    return np.exp(-1 / (2 * sigma**2) * (X - mu)**2) / np.sqrt(2 * np.pi * sigma**2)"
   ]
  },
  {
   "cell_type": "markdown",
   "id": "5ff39bff",
   "metadata": {
    "tags": []
   },
   "source": [
    "# RBF using sklearn KMeans"
   ]
  },
  {
   "cell_type": "code",
   "execution_count": 3,
   "id": "d87e07ea",
   "metadata": {
    "tags": []
   },
   "outputs": [],
   "source": [
    "class RBF:\n",
    "    \"\"\"Implementation of a Radial Basis Function Network\"\"\"\n",
    "    # Initializing params.\n",
    "    def __init__(self, x, k=2, lr=0.1, epochs=150):\n",
    "        self.x = x\n",
    "        self.k = k\n",
    "        self.lr = lr\n",
    "        \n",
    "        self.epochs = epochs\n",
    "        self.kmeans = KMeans(k).fit(np.array(x).reshape(-1, 1))\n",
    "        \n",
    "        self.w = np.random.randn(k)\n",
    "        self.b = np.random.randn(1)\n",
    "    \n",
    "    # Finding the mean and std of each functions\n",
    "    def fit(self, y):\n",
    "        self.y = y\n",
    "        self.centers = np.array(self.kmeans.cluster_centers_)\n",
    "        \n",
    "        ## first approach\n",
    "        max_d = max([np.abs(c1 - c2) for c1 in self.centers for c2 in self.centers])\n",
    "\n",
    "        ## second approach\n",
    "        # max_d = 0\n",
    "        # for i in range(self.k):\n",
    "        #     if i == self.k:\n",
    "        #         continue\n",
    "        #     for c1 in self.centers:\n",
    "        #         for c2 in self.centers:\n",
    "        #             d = abs(c1 - c2)\n",
    "        #             if (d > max_d).all():\n",
    "        #                 max_d = d\n",
    "\n",
    "        self.std = np.repeat(max_d / np.sqrt(self.k * 2), self.k)\n",
    "        \n",
    "    def train(self):\n",
    "        for epoch in range(self.epochs):\n",
    "            for i in range(self.x.shape[0]):\n",
    "                # Forward pass\n",
    "                a = np.array([gauss(self.x[i], c, s) for c,s in zip(self.centers.T[0], self.std)])\n",
    "                \n",
    "                F = a.T.dot(self.w) + self.b\n",
    "                cost = (y[i] - F).flatten() ** 2\n",
    "\n",
    "                #backward pass\n",
    "                error = -(y[i] - F).flatten()\n",
    "\n",
    "                #online update      \n",
    "                self.w = self.w - self.lr * a * error\n",
    "                self.b = self.b - self.lr * error\n",
    "        \n",
    "    def predict(self, x, plot=False):\n",
    "        y_predicted = []\n",
    "        for i in range(x.shape[0]):\n",
    "            a = np.array([gauss(x[i], c, s) for c, s, in zip(self.centers, self.std)])\n",
    "            F = a.T.dot(self.w) + self.b\n",
    "            y_predicted.append(F)\n",
    "        \n",
    "        if plot:\n",
    "            plt.plot(self.x, self.y, '-o', label='true')\n",
    "            plt.plot(self.x, y_predicted, '-o', label='RBF-Net')\n",
    "            plt.legend()\n",
    "            plt.tight_layout()\n",
    "            plt.show()\n",
    "            \n",
    "        return y_predicted"
   ]
  },
  {
   "cell_type": "markdown",
   "id": "ab4e59e0-9be2-4a6c-a02a-2d37ecc1381a",
   "metadata": {},
   "source": [
    "## Test"
   ]
  },
  {
   "cell_type": "code",
   "execution_count": 12,
   "id": "f5661440",
   "metadata": {
    "tags": []
   },
   "outputs": [
    {
     "data": {
      "image/png": "[encoded data removed]",
      "text/plain": [
       "<Figure size 432x288 with 1 Axes>"
      ]
     },
     "metadata": {
      "needs_background": "light"
     },
     "output_type": "display_data"
    }
   ],
   "source": [
    "# Wave generation\n",
    "NUM_SAMPLES = 100\n",
    "np.random.seed(0)\n",
    "X = np.random.uniform(0., 1., NUM_SAMPLES)\n",
    "X = np.sort(X, axis=0)\n",
    "noise = np.random.uniform(-0.1, 0.1, NUM_SAMPLES)\n",
    "y = np.sin(2 * np.pi * X)  +  noise\n",
    "\n",
    "# creating RBF object\n",
    "rbf = RBF(X, k=2, lr=.01, epochs=200)\n",
    "rbf.fit(y)\n",
    "rbf.train()\n",
    "rbf_pred = rbf.predict(X, plot=True)"
   ]
  },
  {
   "cell_type": "markdown",
   "id": "1516006f",
   "metadata": {},
   "source": [
    "# K-Means"
   ]
  },
  {
   "cell_type": "code",
   "execution_count": 14,
   "id": "dbcba008",
   "metadata": {},
   "outputs": [],
   "source": [
    "np.random.seed(42)\n",
    "class Kmeans:\n",
    "    def __init__(self, K=5, max_iters=100, plot=False):\n",
    "        self.K = K\n",
    "        self.max_iters = max_iters\n",
    "        self.plot = plot\n",
    "        self.mean = []\n",
    "        self.num_samples, self.num_features = 0, 0\n",
    "  \n",
    "        # list of sample indices for each cluster\n",
    "        self.clusters = [[] for _ in range(self.K)]\n",
    "        # the centers (mean feature vector) for each cluster\n",
    "        self.centroids = []\n",
    "    \n",
    "    def _initialize_centroids(self, X):\n",
    "\n",
    "        # 1\n",
    "        # for _ in range(self.K):\n",
    "        #     centroid = X[np.random.choice(range(self.num_samples))]\n",
    "        #     self.centroids.append(centroid)\n",
    "        \n",
    "        # 2\n",
    "            # for _ in range(self.K):\n",
    "            #     centroid = X[np.random.choice(self.num_samples, replace=False)]\n",
    "            #     self.centroids.append(centroid)\n",
    "        \n",
    "        # 3 - MAIN    \n",
    "        random_sample_idxs = np.random.choice(self.num_samples, self.K, replace=False)\n",
    "        self.centroids = [self.X[idx] for idx in random_sample_idxs]\n",
    "\n",
    "    def _get_cluster_labels(self, clusters):\n",
    "        # each sample will get the label of the cluster it was assigned to\n",
    "        labels = np.empty(self.num_samples)\n",
    "\n",
    "        for cluster_idx, cluster in enumerate(clusters):\n",
    "            for sample_index in cluster:\n",
    "                labels[sample_index] = cluster_idx\n",
    "        return labels\n",
    "\n",
    "    def _create_clusters(self, centroids):\n",
    "        # Assign the samples to the closest centroids to create clusters\n",
    "        clusters = [[] for _ in range(self.K)]\n",
    "        for idx, point in enumerate(self.X):\n",
    "            closest_centroid = np.argmin(np.sqrt(np.sum((point - centroids) ** 2, axis=1)))\n",
    "            clusters[closest_centroid].append(idx)    \n",
    "        return clusters\n",
    "\n",
    "    def _new_centroids(self, clusters):\n",
    "        # assign mean value of clusters to centroids\n",
    "        centroids = np.zeros((self.K, self.num_features))\n",
    "        for idx, cluster in enumerate(clusters):\n",
    "            cluster_mean = np.mean(self.X[cluster], axis=0)\n",
    "            centroids[idx] = cluster_mean\n",
    "        return centroids\n",
    "\n",
    "    def fit(self, X):\n",
    "        self.X = X\n",
    "        self.num_samples, self.num_features = X.shape\n",
    "        # print(f\"num_samples: {self.num_samples}\")\n",
    "        # print(f\"range um_samples: {range(self.num_samples)}\")\n",
    "\n",
    "        # initialize\n",
    "        self._initialize_centroids(X)\n",
    "        \n",
    "        # Optimize clusters\n",
    "        for _ in range(self.max_iters):\n",
    "            # Assign samples to closest centroids (create clusters)\n",
    "            self.clusters = self._create_clusters(self.centroids)\n",
    "\n",
    "            if self.plot:\n",
    "                self._plot()\n",
    "\n",
    "            # Calculate new centroids from the clusters\n",
    "            centroids_old = self.centroids\n",
    "            self.centroids = self._new_centroids(self.clusters)\n",
    "\n",
    "            # check if clusters have changed\n",
    "            diff = self.centroids - centroids_old\n",
    "            if not diff.any():\n",
    "                break\n",
    "                        \n",
    "            if self.plot:\n",
    "                self._plot()\n",
    "                \n",
    "        # Classify samples as the index of their clusters\n",
    "        return self._get_cluster_labels(self.clusters)\n",
    "\n",
    "\n",
    "    def _plot(self):\n",
    "        fig, ax = plt.subplots(figsize=(12, 8))\n",
    "\n",
    "        for i, index in enumerate(self.clusters):\n",
    "            point = self.X[index].T\n",
    "            ax.scatter(*point)\n",
    "\n",
    "        for point in self.centroids:\n",
    "            ax.scatter(*point, marker=\"x\", color=\"black\", linewidth=2)\n",
    "\n",
    "        plt.show()\n",
    "        \n",
    "    def _plot_(self, X, Y):\n",
    "        fig = px.scatter(X[:, 0], X[:, 1], color=Y)\n",
    "        fig.show()\n",
    "\n",
    "    def _mean(self, X):\n",
    "        dist_t = []\n",
    "        for i in range(len(self.centroids)):\n",
    "            dist = []\n",
    "            for j in self.clusters[i]:\n",
    "                dis = np.sqrt(np.sum((X[j] - self.centroids[i])**2))\n",
    "                dist.append(dis)\n",
    "            dist_t.append(dist)\n",
    "            self.mean.append(np.mean(dist_t[i])) \n",
    "        return self.mean\n",
    "    \n",
    "    def _mean_total(self, X):\n",
    "        mean = self._mean(X)\n",
    "        print(\"____________________Check____________________\")\n",
    "        print(f\"mean:\\n{mean}\")\n",
    "        print(f\"Length of mean:\\n{len(mean)}\")\n",
    "        return np.mean(mean)"
   ]
  },
  {
   "cell_type": "markdown",
   "id": "0035343a",
   "metadata": {},
   "source": [
    "# RBF using our KMeans"
   ]
  },
  {
   "cell_type": "code",
   "execution_count": 15,
   "id": "5c248f91",
   "metadata": {},
   "outputs": [],
   "source": [
    "class _RBF:\n",
    "    \"\"\"Implementation of a Radial Basis Function Network\"\"\"\n",
    "    # Initializing params.\n",
    "    def __init__(self, x, k=2, lr=0.1, epochs=150):\n",
    "        self.x = x\n",
    "        self.k = k\n",
    "        self.lr = lr\n",
    "        \n",
    "        self.epochs = epochs\n",
    "        self.kmeans = Kmeans(K=k, max_iters=100, plot=False)\n",
    "        \n",
    "        self.w = np.random.randn(k)\n",
    "        self.b = np.random.randn(1)\n",
    "    \n",
    "    # Finding the mean and std of each functions\n",
    "    def fit(self, y):\n",
    "        self.y = y\n",
    "        self.kmeans.fit(np.asarray(list(zip(self.x,self.y))))\n",
    "        self.centers = self.kmeans.centroids[:,0].reshape(self.k,1)\n",
    "        \n",
    "        ## first approach\n",
    "        max_d = max([np.abs(c1 - c2) for c1 in self.centers for c2 in self.centers])\n",
    "\n",
    "        ## second approach\n",
    "        # max_d = 0\n",
    "        # for i in range(self.k):\n",
    "        #     if i == self.k:\n",
    "        #         continue\n",
    "        #     for c1 in self.centers:\n",
    "        #         for c2 in self.centers:\n",
    "        #             d = abs(c1 - c2)\n",
    "        #             if (d > max_d).all():\n",
    "        #                 max_d = d\n",
    "\n",
    "        self.std = np.repeat(max_d / np.sqrt(self.k * 2), self.k)\n",
    "        \n",
    "    def train(self):\n",
    "        for epoch in range(self.epochs):\n",
    "            for i in range(self.x.shape[0]):\n",
    "                # Forward pass\n",
    "                a = np.array([gauss(self.x[i], c, s) for c,s in zip(self.centers.T[0], self.std)])\n",
    "                \n",
    "                F = a.T.dot(self.w) + self.b\n",
    "                cost = (y[i] - F).flatten() ** 2\n",
    "\n",
    "                #backward pass\n",
    "                error = -(y[i] - F).flatten()\n",
    "\n",
    "                #online update      \n",
    "                self.w = self.w - self.lr * a * error\n",
    "                self.b = self.b - self.lr * error\n",
    "        \n",
    "    def predict(self, x, plot=False):\n",
    "        y_predicted = []\n",
    "        for i in range(x.shape[0]):\n",
    "            a = np.array([gauss(x[i], c, s) for c, s, in zip(self.centers, self.std)])\n",
    "            F = a.T.dot(self.w) + self.b\n",
    "            y_predicted.append(F)\n",
    "        \n",
    "        if plot:\n",
    "            plt.plot(self.x, self.y, '-o', label='true')\n",
    "            plt.plot(self.x, y_predicted, '-o', label='RBF-Net')\n",
    "            plt.legend()\n",
    "            plt.tight_layout()\n",
    "            plt.show()\n",
    "            \n",
    "        return y_predicted"
   ]
  },
  {
   "cell_type": "markdown",
   "id": "ede2df6f-7075-4487-b18a-3814bb8795ab",
   "metadata": {},
   "source": [
    "## Test"
   ]
  },
  {
   "cell_type": "code",
   "execution_count": 19,
   "id": "c7a174ca",
   "metadata": {},
   "outputs": [
    {
     "data": {
      "image/png": "[encoded data removed]",
      "text/plain": [
       "<Figure size 432x288 with 1 Axes>"
      ]
     },
     "metadata": {
      "needs_background": "light"
     },
     "output_type": "display_data"
    }
   ],
   "source": [
    "rbf = _RBF(X, k=5, lr=.01, epochs=200)\n",
    "rbf.fit(y)\n",
    "rbf.train()\n",
    "rbf_pred = rbf.predict(X, plot=True)"
   ]
  },
  {
   "cell_type": "code",
   "execution_count": null,
   "id": "6d8df36a",
   "metadata": {},
   "outputs": [],
   "source": []
  }
 ],
 "metadata": {
  "kernelspec": {
   "display_name": "Python 3 (ipykernel)",
   "language": "python",
   "name": "python3"
  },
  "language_info": {
   "codemirror_mode": {
    "name": "ipython",
    "version": 3
   },
   "file_extension": ".py",
   "mimetype": "text/x-python",
   "name": "python",
   "nbconvert_exporter": "python",
   "pygments_lexer": "ipython3",
   "version": "3.9.6"
  }
 },
 "nbformat": 4,
 "nbformat_minor": 5
}
