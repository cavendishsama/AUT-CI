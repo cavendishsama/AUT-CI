{
 "cells": [
  {
   "cell_type": "code",
   "execution_count": 41,
   "id": "949fe0f9",
   "metadata": {},
   "outputs": [],
   "source": [
    "import pandas as pd\n",
    "import numpy as np\n",
    "import random\n",
    "\n",
    "\n",
    "df = pd.read_csv(\"./assets/iris.data\", sep=\",\")\n",
    "df.columns = ['sepal length in cm', 'sepal width in cm', 'petal length in cm', 'petal width in cm', 'Class']\n",
    "# df set the first row of iris.data as the column's name so we'll miss a set of data \n",
    "# we'll hardcode the first row of data\n",
    "df.loc[-1] = [5.1, 3.5, 1.4, .2, 'Iris-setosa']\n",
    "df.index = df.index + 1\n",
    "df = df.sort_index()\n",
    "\n",
    "x = df.iloc[:,:4] \n",
    "y = df.iloc[:,4]\n",
    "\n",
    "# adding bias:\n",
    "x['bias'] = -1"
   ]
  },
  {
   "cell_type": "code",
   "execution_count": 42,
   "id": "1a842b8d",
   "metadata": {},
   "outputs": [],
   "source": [
    "# Functions\n",
    "\n",
    "def Rand(size):\n",
    "    _Rand = np.random.rand(size)\n",
    "    return _Rand\n",
    "\n",
    "def Sigmoid(input_):\n",
    "    _Sigmoid = (2 / (1 + np.exp(-input_)) ) - 1\n",
    "    return _Sigmoid\n",
    "\n",
    "def tanh(_input):\n",
    "    return np.tanh(x)\n",
    "\n",
    "def ReLU(_input):\n",
    "    if _input < 0:\n",
    "        return 0\n",
    "    else:\n",
    "        return 0.01 * _input\n",
    "    \n",
    "def O(feature, weight, fcn):\n",
    "    if fcn == 'sigmoid':\n",
    "        return Sigmoid(np.dot(feature, weight))\n",
    "    elif fcn == 'tanh':\n",
    "        return tanh(np.dot(feature, weight))\n",
    "    elif fcn == 'ReLU':\n",
    "        return ReLU(np.dot(feature, weight))\n",
    "    else:\n",
    "        return -1"
   ]
  },
  {
   "cell_type": "code",
   "execution_count": 53,
   "id": "c85d1e97",
   "metadata": {},
   "outputs": [],
   "source": [
    "# Hyper_params\n",
    "\n",
    "# w = Rand(x.shape[1])\n",
    "W = [Rand(x.shape[1]) for i in range(3)]\n",
    "w = np.asarray(W)\n",
    "learning_rate = 0.1\n",
    "E_max = 1e6\n",
    "epoch = 20"
   ]
  },
  {
   "cell_type": "code",
   "execution_count": 80,
   "id": "0cca942e",
   "metadata": {},
   "outputs": [],
   "source": [
    "# Training:\n",
    "\n",
    "e_lst_learn = []\n",
    "_class = [\"Iris-setosa\", \"Iris-versicolour\", \"Iris-virginica\"]\n",
    "for j in range(epoch):\n",
    "    E = 0\n",
    "    for i in range(len(x)):\n",
    "        \n",
    "        for z in range(3):\n",
    "            \n",
    "            label = y[i]\n",
    "            if label == _class[z]:\n",
    "                flag = 1\n",
    "            else:\n",
    "                flag = 0\n",
    "            \n",
    "            o = O(x.iloc[i], w[z], 'sigmoid')\n",
    "            w[z] += (0.5 * learning_rate * (flag - o) * (1 - o ** 2) * x.iloc[i])\n",
    "            E += (0.5 * (flag - o) ** 2)\n",
    "#             print(o)\n",
    "#             print(E)\n",
    "#             print(w)\n",
    "        e_lst_learn.append(E)\n",
    "\n",
    "# import matplotlib.pyplot as plt\n",
    "# iteration = np.arange(1,epoch+1,1)\n",
    "# plt.plot(iteration, e_lst_learn)"
   ]
  },
  {
   "cell_type": "code",
   "execution_count": 81,
   "id": "beb7b090",
   "metadata": {},
   "outputs": [
    {
     "data": {
      "text/plain": [
       "[6.536610362429818,\n",
       " 6.213170443361077,\n",
       " 6.5375419488090865,\n",
       " 6.219081757152296,\n",
       " 6.53838118596327,\n",
       " 6.224785761682864,\n",
       " 6.539135673642054,\n",
       " 6.230306096062987,\n",
       " 6.5398117287057485,\n",
       " 6.235662977144841,\n",
       " 6.540414644619232,\n",
       " 6.2408735443975125,\n",
       " 6.540948903612248,\n",
       " 6.245952230396537,\n",
       " 6.541418347239972,\n",
       " 6.250911125174966,\n",
       " 6.541826311959166,\n",
       " 6.2557603158533235,\n",
       " 6.5421757361024255,\n",
       " 6.260508192105933]"
      ]
     },
     "execution_count": 81,
     "metadata": {},
     "output_type": "execute_result"
    }
   ],
   "source": [
    "# [_class.get(i) for i in _class]\n",
    "e_lst_learn"
   ]
  },
  {
   "cell_type": "code",
   "execution_count": null,
   "id": "c6d7744f",
   "metadata": {},
   "outputs": [],
   "source": []
  }
 ],
 "metadata": {
  "kernelspec": {
   "display_name": "Python 3 (ipykernel)",
   "language": "python",
   "name": "python3"
  },
  "language_info": {
   "codemirror_mode": {
    "name": "ipython",
    "version": 3
   },
   "file_extension": ".py",
   "mimetype": "text/x-python",
   "name": "python",
   "nbconvert_exporter": "python",
   "pygments_lexer": "ipython3",
   "version": "3.9.6"
  }
 },
 "nbformat": 4,
 "nbformat_minor": 5
}
