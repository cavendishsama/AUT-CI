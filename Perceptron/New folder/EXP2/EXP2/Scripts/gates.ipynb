{
 "cells": [
  {
   "cell_type": "code",
   "execution_count": 1,
   "id": "b655dfbb",
   "metadata": {},
   "outputs": [],
   "source": [
    "# OR:\n",
    "\n",
    "import numpy as np\n",
    "\n",
    "def Rand(size):\n",
    "    _Rand = np.random.rand(size)\n",
    "    return _Rand\n",
    "\n",
    "def Sigmoid(input_):\n",
    "    _Sigmoid = (2 / (1 + np.exp(-input_)) ) - 1\n",
    "    return _Sigmoid\n",
    "\n",
    "def O(feature, weight):\n",
    "    _O = Sigmoid(np.dot(feature, weight))\n",
    "    return _O\n",
    "\n",
    "x = [[0, 0],[0 ,1],[1, 0],[1, 1]]\n",
    "y = [[0],[1],[1],[1]]\n",
    "\n",
    "w = Rand(2)\n",
    "learning_rate = 0.1\n",
    "Emax = 1e6\n",
    "E = 0\n",
    "epoch = 20\n",
    "\n",
    "elst = []\n",
    "for i in range(20):\n",
    "    E = 0\n",
    "    for j in range(4):\n",
    "        o = O(x[j], w)\n",
    "        w += (0.5 * learning_rate * (y[j] - o) * (1 - o ** 2) * x[j])\n",
    "        E += (0.5 * (y[j] - o) ** 2)\n",
    "        if(E > Emax):\n",
    "            break\n",
    "    elst.append(E)\n",
    "    \n"
   ]
  },
  {
   "cell_type": "code",
   "execution_count": 2,
   "id": "1e911fee",
   "metadata": {},
   "outputs": [],
   "source": [
    "# AND:\n",
    "\n",
    "import numpy as np\n",
    "\n",
    "def Rand(size):\n",
    "    _Rand = np.random.rand(size)\n",
    "    return _Rand\n",
    "\n",
    "def Sigmoid(input_):\n",
    "    _Sigmoid = (2 / (1 + np.exp(-input_)) ) - 1\n",
    "    return _Sigmoid\n",
    "\n",
    "def O(feature, weight):\n",
    "    _O = Sigmoid(np.dot(feature, weight))\n",
    "    return _O\n",
    "\n",
    "x = [[0, 0],[0 ,1],[1, 0],[1, 1]]\n",
    "y = [[0],[0],[0],[1]]\n",
    "\n",
    "w = Rand(2)\n",
    "learning_rate = 0.1\n",
    "Emax = 1e6\n",
    "E = 0\n",
    "epoch = 20\n",
    "\n",
    "elst = []\n",
    "for i in range(20):\n",
    "    E = 0\n",
    "    for j in range(4):\n",
    "        o = O(x[j], w)\n",
    "        w += (0.5 * learning_rate * (y[j] - o) * (1 - o ** 2) * x[j])\n",
    "        E += (0.5 * (y[j] - o) ** 2)\n",
    "        if(E > Emax):\n",
    "            break\n",
    "    elst.append(E)\n",
    "    \n"
   ]
  },
  {
   "cell_type": "code",
   "execution_count": null,
   "id": "f05f9052",
   "metadata": {},
   "outputs": [],
   "source": [
    "# XOR:\n"
   ]
  }
 ],
 "metadata": {
  "kernelspec": {
   "display_name": "Python 3 (ipykernel)",
   "language": "python",
   "name": "python3"
  },
  "language_info": {
   "codemirror_mode": {
    "name": "ipython",
    "version": 3
   },
   "file_extension": ".py",
   "mimetype": "text/x-python",
   "name": "python",
   "nbconvert_exporter": "python",
   "pygments_lexer": "ipython3",
   "version": "3.9.6"
  }
 },
 "nbformat": 4,
 "nbformat_minor": 5
}
