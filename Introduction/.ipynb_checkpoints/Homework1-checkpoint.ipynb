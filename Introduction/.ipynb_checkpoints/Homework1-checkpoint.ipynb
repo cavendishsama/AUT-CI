{
 "cells": [
  {
   "cell_type": "code",
   "execution_count": 10,
   "id": "c1617fe1",
   "metadata": {},
   "outputs": [
    {
     "name": "stdout",
     "output_type": "stream",
     "text": [
      "pls enter number of rows: 2\n",
      "pls enter number of columns: 2\n",
      "pls enter elemt 0th of your matrix:1\n",
      "pls enter elemt 1th of your matrix:2\n",
      "pls enter elemt 2th of your matrix:3\n",
      "pls enter elemt 3th of your matrix:4\n"
     ]
    },
    {
     "data": {
      "text/plain": [
       "[1.0, 2.0, 3.0, 4.0]"
      ]
     },
     "execution_count": 10,
     "metadata": {},
     "output_type": "execute_result"
    }
   ],
   "source": [
    "n = int(input(\"pls enter number of rows: \"))\n",
    "m = int(input(\"pls enter number of columns: \"))\n",
    "lst = [] # empty list\n",
    "for i in range(0, m * n):\n",
    "    lst.append(float(input(f'pls enter elemt {i}th of your matrix:')))\n",
    "lst"
   ]
  },
  {
   "cell_type": "code",
   "execution_count": 11,
   "id": "ed2a2d57",
   "metadata": {},
   "outputs": [
    {
     "data": {
      "text/plain": [
       "array([[0.76159416, 0.96402758],\n",
       "       [0.99505475, 0.9993293 ]])"
      ]
     },
     "execution_count": 11,
     "metadata": {},
     "output_type": "execute_result"
    }
   ],
   "source": [
    "lst = np.reshape(lst, (n,m))\n",
    "np.tanh(lst)\n",
    "# np.sum(np.tanh(lst))"
   ]
  },
  {
   "cell_type": "code",
   "execution_count": 12,
   "id": "52ed4691",
   "metadata": {},
   "outputs": [
    {
     "data": {
      "text/plain": [
       "3.720005789457379"
      ]
     },
     "execution_count": 12,
     "metadata": {},
     "output_type": "execute_result"
    }
   ],
   "source": [
    "np.sum(np.tanh(lst))\n"
   ]
  },
  {
   "cell_type": "code",
   "execution_count": 21,
   "id": "a01b7e95",
   "metadata": {},
   "outputs": [
    {
     "name": "stdout",
     "output_type": "stream",
     "text": [
      "pls enter number of rows: 2\n",
      "pls enter number of columns: 2\n",
      "pls enter 0th elemnt of your matrix (pls enter data in C-like index ordering): 1\n",
      "pls enter 1th elemnt of your matrix (pls enter data in C-like index ordering): 2\n",
      "pls enter 2th elemnt of your matrix (pls enter data in C-like index ordering): 3\n",
      "pls enter 3th elemnt of your matrix (pls enter data in C-like index ordering): 4\n"
     ]
    },
    {
     "data": {
      "text/plain": [
       "3.720005789457379"
      ]
     },
     "execution_count": 21,
     "metadata": {},
     "output_type": "execute_result"
    }
   ],
   "source": [
    "import numpy as np\n",
    "def func():\n",
    "    lst = []\n",
    "    n = int(input(\"pls enter number of rows: \"))\n",
    "    m = int(input(\"pls enter number of columns: \"))\n",
    "    for i in range(0, m *n):\n",
    "        lst.append(float(input(f'pls enter {i}th elemnt of your matrix (pls enter data in C-like index ordering): ')))\n",
    "    lst = np.reshape(lst, (n, m), order = 'C')   # C-like index ordering\n",
    "    sum = np.sum(np.tanh(lst))\n",
    "    return [sum, lst]                            # to show both sum and the matrix\n",
    "#     return sum                                 # Only sum  \n",
    "func()"
   ]
  },
  {
   "cell_type": "code",
   "execution_count": null,
   "id": "bee8d4e3",
   "metadata": {},
   "outputs": [],
   "source": []
  }
 ],
 "metadata": {
  "kernelspec": {
   "display_name": "Python 3 (ipykernel)",
   "language": "python",
   "name": "python3"
  },
  "language_info": {
   "codemirror_mode": {
    "name": "ipython",
    "version": 3
   },
   "file_extension": ".py",
   "mimetype": "text/x-python",
   "name": "python",
   "nbconvert_exporter": "python",
   "pygments_lexer": "ipython3",
   "version": "3.9.6"
  }
 },
 "nbformat": 4,
 "nbformat_minor": 5
}
