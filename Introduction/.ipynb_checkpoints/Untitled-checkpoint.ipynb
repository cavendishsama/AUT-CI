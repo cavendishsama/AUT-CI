{
 "cells": [
  {
   "cell_type": "code",
   "execution_count": 29,
   "id": "0d514f24",
   "metadata": {},
   "outputs": [
    {
     "data": {
      "text/plain": [
       "' for sending a matrix through function it must be in np array form '"
      ]
     },
     "execution_count": 29,
     "metadata": {},
     "output_type": "execute_result"
    }
   ],
   "source": [
    "# from math import exp\n",
    "import numpy as np\n",
    "def sigmoid(x):\n",
    "    result = (2 / (1 + np.exp(-x))) - 1\n",
    "    return result\n",
    "\n",
    "def D_sigmoid(x):\n",
    "    result = (1 - (sigmoid(x)) ** 2) / 2\n",
    "    return result\n",
    "\n",
    "# sigmoid(0)\n",
    "# D_sigmoid(0)\n",
    "\n",
    "\"\"\" for sending a matrix through function it must be in np array form \"\"\"\n",
    "# lst = [[1, 0, np.sin(np.pi / 4)], [0, 1, np.sin(np.pi / 2)], [1, 0, 1]]\n",
    "# lst = np.asarray(lst)\n",
    "# D_sigmoid(lst)\n",
    "\n",
    "# lst = np.array([0, 1, 50, -1, -50])\n",
    "# sigmoid(lst)"
   ]
  },
  {
   "cell_type": "code",
   "execution_count": 38,
   "id": "8f291614",
   "metadata": {},
   "outputs": [
    {
     "name": "stdout",
     "output_type": "stream",
     "text": [
      "pls enter number of row(s): 1\n",
      "pls enter number of columns(s): 1\n",
      "pls enter 1th elemnt of your matrix (pls enter data in C-like index ordering): 1\n"
     ]
    },
    {
     "data": {
      "text/plain": [
       "{'sigmoid': 0.4621171572600098, 'Derivative of sigmoid': 0.3932238664829637}"
      ]
     },
     "execution_count": 38,
     "metadata": {},
     "output_type": "execute_result"
    }
   ],
   "source": [
    " \"\"\" pls run the first cell to define sigmoid and its derivative functions \"\"\"\n",
    "def sigmatrix(M = None):\n",
    "    if M is None:\n",
    "        n = int(input(\"pls enter number of row(s): \"))\n",
    "        m = int(input(\"pls enter number of columns(s): \"))\n",
    "        lst = []\n",
    "        for i in range(0, m *n):\n",
    "            lst.append(float(input(f'pls enter {i+1}th elemnt of your matrix (pls enter data in C-like index ordering): ')))\n",
    "    #     lst = np.reshape(lst, (n, m))\n",
    "        lst = np.asarray(lst)                              # convert to np array\n",
    "        result = {'sigmoid':0, 'Derivative of sigmoid':0}\n",
    "        result['sigmoid'] = np.sum(sigmoid(lst))\n",
    "        result['Derivative of sigmoid'] = np.sum(D_sigmoid(lst))\n",
    "        return result\n",
    "    else:\n",
    "        result = {'sigmoid':0, 'Derivative of sigmoid':0}\n",
    "        result['sigmoid'] = np.sum(sigmoid(M))\n",
    "        result['Derivative of sigmoid'] = np.sum(D_sigmoid(M))\n",
    "        return result\n",
    "\n",
    "sigmatrix()    "
   ]
  },
  {
   "cell_type": "code",
   "execution_count": 39,
   "id": "9bdde523",
   "metadata": {},
   "outputs": [
    {
     "data": {
      "text/plain": [
       "{'sigmoid': 2.6501088849533625, 'Derivative of sigmoid': 3.908481365155245}"
      ]
     },
     "execution_count": 39,
     "metadata": {},
     "output_type": "execute_result"
    }
   ],
   "source": [
    "M = np.asarray([[1, 0, np.sin(np.pi / 4)], [0, 1, np.sin(np.pi / 2)], [1, 0, 1]])\n",
    "sigmatrix(M)"
   ]
  },
  {
   "cell_type": "code",
   "execution_count": null,
   "id": "bebf2419",
   "metadata": {},
   "outputs": [],
   "source": []
  }
 ],
 "metadata": {
  "kernelspec": {
   "display_name": "Python 3 (ipykernel)",
   "language": "python",
   "name": "python3"
  },
  "language_info": {
   "codemirror_mode": {
    "name": "ipython",
    "version": 3
   },
   "file_extension": ".py",
   "mimetype": "text/x-python",
   "name": "python",
   "nbconvert_exporter": "python",
   "pygments_lexer": "ipython3",
   "version": "3.9.6"
  }
 },
 "nbformat": 4,
 "nbformat_minor": 5
}
