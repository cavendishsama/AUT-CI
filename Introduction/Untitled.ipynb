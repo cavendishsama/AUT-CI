{
 "cells": [
  {
   "cell_type": "code",
   "execution_count": 42,
   "id": "ec6b48b1",
   "metadata": {},
   "outputs": [
    {
     "data": {
      "image/png": "[encoded data removed]",
      "text/plain": [
       "<Figure size 432x288 with 1 Axes>"
      ]
     },
     "metadata": {
      "needs_background": "light"
     },
     "output_type": "display_data"
    }
   ],
   "source": [
    "import numpy as np\n",
    "import matplotlib.pyplot as plt\n",
    "\n",
    "# X = <X1, X2, X3, -1 (bias)>\n",
    "x = np.array([[0,0,0,-1],[0,0,1,-1],[0,1,0,-1],[0,1,1,-1],[1,0,0,-1],[1,0,1,-1],[1,1,0,-1],[1,1,1,-1]], dtype=np.float64)\n",
    "y = np.array([[0,1,1,0,1,0,0,1]]).T\n",
    "\n",
    "class Perceptron:\n",
    "    def __init__(self, train, hidden, outputs, target, lr=1, iters=5000):\n",
    "        self.num_inputs = train.shape[1] \n",
    "        self.hidden = hidden\n",
    "        self.output = outputs\n",
    "        self.x = train\n",
    "        self.y = target\n",
    "        self.iters = iters\n",
    "        self.lr = lr\n",
    "        self.train_loss = list()\n",
    "        self.w1 = np.random.uniform(size=(self.num_inputs, self.hidden))\n",
    "        self.w2 = np.random.uniform(size=(self.hidden, self.output))\n",
    "#         self.b1 = np.random.uniform(size=(self.hidden, 1))\n",
    "#         self.b2 = np.random.uniform(size=(self.output, 1))\n",
    "    \n",
    "    def sigmoid(self,x):\n",
    "        result = 1/(1+np.exp(-x))\n",
    "#         result = (2 / (1 + np.exp(-x)) ) - 1  ## overflow encountered in exp error (couldn't fix it)\n",
    "        return result\n",
    "\n",
    "    def classify(self, x):\n",
    "        z0 = np.dot(x, self.w1)         \n",
    "        a0 = self.sigmoid(z0)               \n",
    "        z1 = np.dot(a0,self.w2)\n",
    "\n",
    "        ##a1 = x.reshape(x.shape[0], 1)\n",
    "        ##z2 = np.dot(self.w1, a1) + self.b1\n",
    "        ##a2 = self.sigmoid(z2)    \n",
    "        ##z3 = np.dot(self.w2, a2) + self.b2\n",
    "        ##a3 = self.sigmoid(z3)\n",
    "        \n",
    "        return self.sigmoid(z1) \n",
    "\n",
    "    def train(self):\n",
    "        for __ in range(self.iters):\n",
    "            #forward propagation\n",
    "            z0 = np.dot(self.x, self.w1)  \n",
    "            a0 = self.sigmoid(z0)         \n",
    "            z1 = np.dot(a0,self.w2)       \n",
    "            a1 = self.sigmoid(z1)         \n",
    "            \n",
    "            #backward propagation\n",
    "            delta_w2 = (a1-self.y) * a1*(1-a1)             \n",
    "            delta_w1 = np.dot(delta_w2, self.w2.T) * (1-a0)\n",
    "\n",
    "            self.w1 -= self.lr*np.dot(self.x.T,delta_w1)   \n",
    "            self.w2 -= self.lr*np.dot(a0.T,delta_w2)       \n",
    "            \n",
    "            #loss\n",
    "            loss = -(1/self.num_inputs) * np.sum(y * np.log(a1) + (1 - y) * np.log(1 - a1))\n",
    "            self.train_loss.append(loss)\n",
    "    \n",
    "    def plot(self):\n",
    "        plt.plot(self.train_loss)\n",
    "        plt.xlabel(\"EPOCHS\")\n",
    "        plt.ylabel(\"Loss value\")\n",
    "    \n",
    "    def predict(self, _input):\n",
    "        #adding bias\n",
    "        _input.append(-1)\n",
    "#         _input = np.asarray(_input)\n",
    "        res = self.classify(_input)\n",
    "        res = np.squeeze(res)\n",
    "        \n",
    "        if res>=0.5:\n",
    "            print(\"For input\", [i for i in _input], \"output is 1\")# ['{:.2f}'.format(i) for i in x])\n",
    "        else:\n",
    "            print(\"For input\", [i for i in _input], \"output is 0\")\n",
    "\n",
    "        \n",
    "xor = Perceptron(train=x, hidden=4, outputs=1, target=y, lr=0.01, iters=1000)\n",
    "xor.train()\n",
    "xor.plot()"
   ]
  },
  {
   "cell_type": "code",
   "execution_count": null,
   "id": "9a278ab5",
   "metadata": {},
   "outputs": [],
   "source": []
  }
 ],
 "metadata": {
  "kernelspec": {
   "display_name": "Python 3 (ipykernel)",
   "language": "python",
   "name": "python3"
  },
  "language_info": {
   "codemirror_mode": {
    "name": "ipython",
    "version": 3
   },
   "file_extension": ".py",
   "mimetype": "text/x-python",
   "name": "python",
   "nbconvert_exporter": "python",
   "pygments_lexer": "ipython3",
   "version": "3.9.6"
  }
 },
 "nbformat": 4,
 "nbformat_minor": 5
}
